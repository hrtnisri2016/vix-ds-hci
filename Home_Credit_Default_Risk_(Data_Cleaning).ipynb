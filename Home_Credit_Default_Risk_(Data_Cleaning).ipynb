{
  "nbformat": 4,
  "nbformat_minor": 0,
  "metadata": {
    "colab": {
      "provenance": [],
      "mount_file_id": "1aGnVSMYhrWODX4go5MXUWYl9KNDUueyh",
      "authorship_tag": "ABX9TyM+kxtr01vdbOPGrrUnsNMu",
      "include_colab_link": true
    },
    "kernelspec": {
      "name": "python3",
      "display_name": "Python 3"
    },
    "language_info": {
      "name": "python"
    }
  },
  "cells": [
    {
      "cell_type": "markdown",
      "metadata": {
        "id": "view-in-github",
        "colab_type": "text"
      },
      "source": [
        "<a href=\"https://colab.research.google.com/github/hrtnisri2016/vix-ds-hci/blob/main/Home_Credit_Default_Risk_(Data_Cleaning).ipynb\" target=\"_parent\"><img src=\"https://colab.research.google.com/assets/colab-badge.svg\" alt=\"Open In Colab\"/></a>"
      ]
    },
    {
      "cell_type": "code",
      "source": [
        "# from google.colab import drive\n",
        "# drive.mount('/content/drive')"
      ],
      "metadata": {
        "id": "MD8z-2B_ZJX9"
      },
      "execution_count": null,
      "outputs": []
    },
    {
      "cell_type": "markdown",
      "source": [
        "**Import libraries**"
      ],
      "metadata": {
        "id": "z-OCnZlVMXzR"
      }
    },
    {
      "cell_type": "code",
      "source": [
        "import os\n",
        "import textwrap\n",
        "import numpy as np\n",
        "import pandas as pd\n",
        "import seaborn as sns\n",
        "import matplotlib.pyplot as plt\n",
        "import matplotlib.ticker as ticker\n",
        "from IPython.display import display, HTML\n",
        "\n",
        "# Set the dark background for the entire plot\n",
        "plt.style.use('dark_background')"
      ],
      "metadata": {
        "id": "CZ9czdu8ZPeZ"
      },
      "execution_count": null,
      "outputs": []
    },
    {
      "cell_type": "markdown",
      "source": [
        "**Functions**"
      ],
      "metadata": {
        "id": "_ab8yzJsMg1x"
      }
    },
    {
      "cell_type": "code",
      "source": [
        "# function to create scrollable output within a small window\n",
        "def create_scrollable_output(content, title):\n",
        "    html = f'<h3>{title}</h3>'\n",
        "    html += f'<pre style=\"height:200px; overflow:auto;\">'\n",
        "    html += content\n",
        "    html += '</pre>'\n",
        "    return html"
      ],
      "metadata": {
        "id": "_20l6YCcdPW-"
      },
      "execution_count": null,
      "outputs": []
    },
    {
      "cell_type": "code",
      "source": [
        "# To make a plot visualizing the number of missing values\n",
        "def plot_missing_values(df, filename, y_axis_format=True):\n",
        "    fig, ax = plt.subplots(figsize=(6, 3))\n",
        "    isna_sum = df.isna().sum()\n",
        "\n",
        "    # Sort the missing values in descending order\n",
        "    isna_sum_sorted = isna_sum[isna_sum > 0].sort_values(ascending=False)  \n",
        "    isna_sum_sorted.plot(kind='bar', color='gold')\n",
        "    ax.set_title(f'Missing values in {filename} data', weight='bold')\n",
        "    \n",
        "    # Format the y-axis tick labels to display values as \"50k\", \"100k\", \"150k\", etc.\n",
        "    if y_axis_format == True:\n",
        "        formatter = ticker.FuncFormatter(lambda x, pos: f'{int(x/1000)}k' if x != 0 else '0')\n",
        "        ax.yaxis.set_major_formatter(formatter)\n",
        "\n",
        "    return fig, ax"
      ],
      "metadata": {
        "id": "leKCeXeQeg9s"
      },
      "execution_count": null,
      "outputs": []
    },
    {
      "cell_type": "code",
      "source": [
        "def check_missing_AMT_REQ(df_application, df_bureau):\n",
        "    columns_AMT_REQ = [\n",
        "        'AMT_REQ_CREDIT_BUREAU_HOUR',\n",
        "        'AMT_REQ_CREDIT_BUREAU_DAY',\n",
        "        'AMT_REQ_CREDIT_BUREAU_WEEK',\n",
        "        'AMT_REQ_CREDIT_BUREAU_MON',\n",
        "        'AMT_REQ_CREDIT_BUREAU_QRT',\n",
        "        'AMT_REQ_CREDIT_BUREAU_YEAR']\n",
        "    missing_AMT_REQ = df_application[df_application[columns_AMT_REQ].isna()]['SK_ID_CURR'].to_list()\n",
        "\n",
        "    # Filter df_bureau based on matching SK_ID_CURR values\n",
        "    df_bureau_matched = df_bureau[df_bureau['SK_ID_CURR'].isin(missing_AMT_REQ)]\n",
        "\n",
        "    if not df_bureau_matched.empty:\n",
        "        print(df_bureau_matched)\n",
        "    else:\n",
        "        print('No matching SK_ID_CURR values were found in the bureau table.\\nMissing values have been filled with 0.')\n",
        "        # Fill missing values with 0 in the selected columns\n",
        "        df_application[columns_AMT_REQ] = df_application[columns_AMT_REQ].fillna(0)"
      ],
      "metadata": {
        "id": "9w3bo-_pi66U"
      },
      "execution_count": null,
      "outputs": []
    },
    {
      "cell_type": "markdown",
      "source": [
        "**Get data**"
      ],
      "metadata": {
        "id": "hOp3ydnoNLp1"
      }
    },
    {
      "cell_type": "code",
      "execution_count": null,
      "metadata": {
        "colab": {
          "base_uri": "https://localhost:8080/",
          "height": 258
        },
        "id": "WE-4HingZF1n",
        "outputId": "ecb8c1d8-a35d-4e78-bc3c-6b0244817af6"
      },
      "outputs": [
        {
          "output_type": "display_data",
          "data": {
            "text/plain": [
              "<IPython.core.display.HTML object>"
            ],
            "text/html": [
              "<h3>File name and its path</h3><pre style=\"height:200px; overflow:auto;\">• HomeCredit_columns_description\n",
              "  /content/drive/MyDrive/home-credit-default-risk/HomeCredit_columns_description.csv\n",
              "• POS_CASH_balance\n",
              "  /content/drive/MyDrive/home-credit-default-risk/POS_CASH_balance.csv\n",
              "• application_test\n",
              "  /content/drive/MyDrive/home-credit-default-risk/application_test.csv\n",
              "• application_train\n",
              "  /content/drive/MyDrive/home-credit-default-risk/application_train.csv\n",
              "• bureau\n",
              "  /content/drive/MyDrive/home-credit-default-risk/bureau.csv\n",
              "• bureau_balance\n",
              "  /content/drive/MyDrive/home-credit-default-risk/bureau_balance.csv\n",
              "• credit_card_balance\n",
              "  /content/drive/MyDrive/home-credit-default-risk/credit_card_balance.csv\n",
              "• installments_payments\n",
              "  /content/drive/MyDrive/home-credit-default-risk/installments_payments.csv\n",
              "• previous_application\n",
              "  /content/drive/MyDrive/home-credit-default-risk/previous_application.csv\n",
              "• sample_submission\n",
              "  /content/drive/MyDrive/home-credit-default-risk/sample_submission.csv\n",
              "• application_train_valid\n",
              "  /content/drive/MyDrive/home-credit-default-risk/application_train_valid.csv\n",
              "• bureau_valid\n",
              "  /content/drive/MyDrive/home-credit-default-risk/bureau_valid.csv\n",
              "• POS_CASH_balance_valid\n",
              "  /content/drive/MyDrive/home-credit-default-risk/POS_CASH_balance_valid.csv\n",
              "• previous_application_valid\n",
              "  /content/drive/MyDrive/home-credit-default-risk/previous_application_valid.csv\n",
              "• application_test_valid\n",
              "  /content/drive/MyDrive/home-credit-default-risk/application_test_valid.csv\n",
              "</pre>"
            ]
          },
          "metadata": {}
        }
      ],
      "source": [
        "folder_path = '/content/drive/MyDrive/home-credit-default-risk'\n",
        "\n",
        "file_dict = {}  # Dictionary to store file paths\n",
        "\n",
        "# List all files in the folder\n",
        "for root, dirs, files in os.walk(folder_path):\n",
        "    for file in files:\n",
        "        file_path = os.path.join(root, file)\n",
        "        file_name = os.path.splitext(file)[0]  # Get the file name without extension\n",
        "        file_dict[file_name] = file_path\n",
        "\n",
        "# Print the dictionary\n",
        "out = ''\n",
        "for file_name, file_path in file_dict.items():\n",
        "    out += f'\\u2022 {file_name}\\n  {file_path}\\n'\n",
        "\n",
        "display(HTML(create_scrollable_output(out, 'File name and its path')))"
      ]
    },
    {
      "cell_type": "code",
      "source": [
        "# application_train\n",
        "path_application_train = file_dict['application_train_valid']\n",
        "df_application_train = pd.read_csv(path_application_train)\n",
        "print(f'\\u2022 application_train\\n  shape: {df_application_train.shape}')\n",
        "\n",
        "# application_test\n",
        "path_application_test = file_dict['application_test_valid']\n",
        "df_application_test = pd.read_csv(path_application_test)\n",
        "print(f'\\u2022 application_test\\n  shape: {df_application_test.shape}')\n",
        "\n",
        "# bureau\n",
        "path_bureau = file_dict['bureau_valid']\n",
        "df_bureau = pd.read_csv(path_bureau)\n",
        "print(f'\\u2022 bureau\\n  shape: {df_bureau.shape}')\n",
        "\n",
        "# bureau_balance\n",
        "path_bureau_balance = file_dict['bureau_balance']\n",
        "df_bureau_balance = pd.read_csv(path_bureau_balance)\n",
        "print(f'\\u2022 bureau_balance\\n  shape: {df_bureau_balance.shape}')\n",
        "\n",
        "# POS_CASH_balance\n",
        "path_POS_CASH_balance = file_dict['POS_CASH_balance_valid']\n",
        "df_POS_CASH_balance = pd.read_csv(path_POS_CASH_balance)\n",
        "print(f'\\u2022 POS_CASH_balance\\n  shape: {df_POS_CASH_balance.shape}')\n",
        "\n",
        "# credit_card_balance\n",
        "path_credit_card_balance = file_dict['credit_card_balance']\n",
        "df_credit_card_balance = pd.read_csv(path_credit_card_balance)\n",
        "print(f'\\u2022 credit_card_balance\\n  shape: {df_credit_card_balance.shape}')\n",
        "\n",
        "# previous_application\n",
        "path_previous_application = file_dict['previous_application_valid']\n",
        "df_previous_application = pd.read_csv(path_previous_application)\n",
        "print(f'\\u2022 previous_application\\n  shape: {df_previous_application.shape}')\n",
        "\n",
        "# installments_payments\n",
        "path_installments_payments = file_dict['installments_payments']\n",
        "df_installments_payments = pd.read_csv(path_installments_payments)\n",
        "print(f'\\u2022 installments_payments\\n  shape: {df_installments_payments.shape}')"
      ],
      "metadata": {
        "colab": {
          "base_uri": "https://localhost:8080/"
        },
        "id": "IL83oov6NSfG",
        "outputId": "3491005f-b28d-4296-e8c6-a6945849fdb4"
      },
      "execution_count": null,
      "outputs": [
        {
          "output_type": "stream",
          "name": "stdout",
          "text": [
            "• application_train\n",
            "  shape: (307510, 75)\n",
            "• application_test\n",
            "  shape: (48744, 121)\n",
            "• bureau\n",
            "  shape: (1716428, 15)\n",
            "• bureau_balance\n",
            "  shape: (27299925, 3)\n",
            "• POS_CASH_balance\n",
            "  shape: (10001358, 8)\n",
            "• credit_card_balance\n",
            "  shape: (3840312, 23)\n",
            "• previous_application\n",
            "  shape: (1670214, 21)\n",
            "• installments_payments\n",
            "  shape: (13605401, 8)\n"
          ]
        }
      ]
    },
    {
      "cell_type": "markdown",
      "source": [
        "# **Prepare the `application_train` data**"
      ],
      "metadata": {
        "id": "FPqJ6KTRQQye"
      }
    },
    {
      "cell_type": "code",
      "source": [
        "# Print the first few rows\n",
        "df_application_train.head()"
      ],
      "metadata": {
        "colab": {
          "base_uri": "https://localhost:8080/",
          "height": 299
        },
        "id": "R2KWls-Lb7g5",
        "outputId": "e0505878-68d9-492d-85cd-153d98134f75"
      },
      "execution_count": null,
      "outputs": [
        {
          "output_type": "execute_result",
          "data": {
            "text/plain": [
              "   SK_ID_CURR  TARGET NAME_CONTRACT_TYPE CODE_GENDER FLAG_OWN_CAR  \\\n",
              "0      100002       1         Cash loans           M            N   \n",
              "1      100003       0         Cash loans           F            N   \n",
              "2      100004       0    Revolving loans           M            Y   \n",
              "3      100006       0         Cash loans           F            N   \n",
              "4      100007       0         Cash loans           M            N   \n",
              "\n",
              "  FLAG_OWN_REALTY  CNT_CHILDREN  AMT_INCOME_TOTAL  AMT_CREDIT  AMT_ANNUITY  \\\n",
              "0               Y             0          202500.0    406597.5      24700.5   \n",
              "1               N             0          270000.0   1293502.5      35698.5   \n",
              "2               Y             0           67500.0    135000.0       6750.0   \n",
              "3               Y             0          135000.0    312682.5      29686.5   \n",
              "4               Y             0          121500.0    513000.0      21865.5   \n",
              "\n",
              "   ...  FLAG_DOCUMENT_18 FLAG_DOCUMENT_19 FLAG_DOCUMENT_20 FLAG_DOCUMENT_21  \\\n",
              "0  ...                 0                0                0                0   \n",
              "1  ...                 0                0                0                0   \n",
              "2  ...                 0                0                0                0   \n",
              "3  ...                 0                0                0                0   \n",
              "4  ...                 0                0                0                0   \n",
              "\n",
              "  AMT_REQ_CREDIT_BUREAU_HOUR AMT_REQ_CREDIT_BUREAU_DAY  \\\n",
              "0                        0.0                       0.0   \n",
              "1                        0.0                       0.0   \n",
              "2                        0.0                       0.0   \n",
              "3                        NaN                       NaN   \n",
              "4                        0.0                       0.0   \n",
              "\n",
              "   AMT_REQ_CREDIT_BUREAU_WEEK  AMT_REQ_CREDIT_BUREAU_MON  \\\n",
              "0                         0.0                        0.0   \n",
              "1                         0.0                        0.0   \n",
              "2                         0.0                        0.0   \n",
              "3                         NaN                        NaN   \n",
              "4                         0.0                        0.0   \n",
              "\n",
              "   AMT_REQ_CREDIT_BUREAU_QRT  AMT_REQ_CREDIT_BUREAU_YEAR  \n",
              "0                        0.0                         1.0  \n",
              "1                        0.0                         0.0  \n",
              "2                        0.0                         0.0  \n",
              "3                        NaN                         NaN  \n",
              "4                        0.0                         0.0  \n",
              "\n",
              "[5 rows x 75 columns]"
            ],
            "text/html": [
              "\n",
              "  <div id=\"df-3c2273e8-1d1a-45c3-ba44-5e6eee396940\">\n",
              "    <div class=\"colab-df-container\">\n",
              "      <div>\n",
              "<style scoped>\n",
              "    .dataframe tbody tr th:only-of-type {\n",
              "        vertical-align: middle;\n",
              "    }\n",
              "\n",
              "    .dataframe tbody tr th {\n",
              "        vertical-align: top;\n",
              "    }\n",
              "\n",
              "    .dataframe thead th {\n",
              "        text-align: right;\n",
              "    }\n",
              "</style>\n",
              "<table border=\"1\" class=\"dataframe\">\n",
              "  <thead>\n",
              "    <tr style=\"text-align: right;\">\n",
              "      <th></th>\n",
              "      <th>SK_ID_CURR</th>\n",
              "      <th>TARGET</th>\n",
              "      <th>NAME_CONTRACT_TYPE</th>\n",
              "      <th>CODE_GENDER</th>\n",
              "      <th>FLAG_OWN_CAR</th>\n",
              "      <th>FLAG_OWN_REALTY</th>\n",
              "      <th>CNT_CHILDREN</th>\n",
              "      <th>AMT_INCOME_TOTAL</th>\n",
              "      <th>AMT_CREDIT</th>\n",
              "      <th>AMT_ANNUITY</th>\n",
              "      <th>...</th>\n",
              "      <th>FLAG_DOCUMENT_18</th>\n",
              "      <th>FLAG_DOCUMENT_19</th>\n",
              "      <th>FLAG_DOCUMENT_20</th>\n",
              "      <th>FLAG_DOCUMENT_21</th>\n",
              "      <th>AMT_REQ_CREDIT_BUREAU_HOUR</th>\n",
              "      <th>AMT_REQ_CREDIT_BUREAU_DAY</th>\n",
              "      <th>AMT_REQ_CREDIT_BUREAU_WEEK</th>\n",
              "      <th>AMT_REQ_CREDIT_BUREAU_MON</th>\n",
              "      <th>AMT_REQ_CREDIT_BUREAU_QRT</th>\n",
              "      <th>AMT_REQ_CREDIT_BUREAU_YEAR</th>\n",
              "    </tr>\n",
              "  </thead>\n",
              "  <tbody>\n",
              "    <tr>\n",
              "      <th>0</th>\n",
              "      <td>100002</td>\n",
              "      <td>1</td>\n",
              "      <td>Cash loans</td>\n",
              "      <td>M</td>\n",
              "      <td>N</td>\n",
              "      <td>Y</td>\n",
              "      <td>0</td>\n",
              "      <td>202500.0</td>\n",
              "      <td>406597.5</td>\n",
              "      <td>24700.5</td>\n",
              "      <td>...</td>\n",
              "      <td>0</td>\n",
              "      <td>0</td>\n",
              "      <td>0</td>\n",
              "      <td>0</td>\n",
              "      <td>0.0</td>\n",
              "      <td>0.0</td>\n",
              "      <td>0.0</td>\n",
              "      <td>0.0</td>\n",
              "      <td>0.0</td>\n",
              "      <td>1.0</td>\n",
              "    </tr>\n",
              "    <tr>\n",
              "      <th>1</th>\n",
              "      <td>100003</td>\n",
              "      <td>0</td>\n",
              "      <td>Cash loans</td>\n",
              "      <td>F</td>\n",
              "      <td>N</td>\n",
              "      <td>N</td>\n",
              "      <td>0</td>\n",
              "      <td>270000.0</td>\n",
              "      <td>1293502.5</td>\n",
              "      <td>35698.5</td>\n",
              "      <td>...</td>\n",
              "      <td>0</td>\n",
              "      <td>0</td>\n",
              "      <td>0</td>\n",
              "      <td>0</td>\n",
              "      <td>0.0</td>\n",
              "      <td>0.0</td>\n",
              "      <td>0.0</td>\n",
              "      <td>0.0</td>\n",
              "      <td>0.0</td>\n",
              "      <td>0.0</td>\n",
              "    </tr>\n",
              "    <tr>\n",
              "      <th>2</th>\n",
              "      <td>100004</td>\n",
              "      <td>0</td>\n",
              "      <td>Revolving loans</td>\n",
              "      <td>M</td>\n",
              "      <td>Y</td>\n",
              "      <td>Y</td>\n",
              "      <td>0</td>\n",
              "      <td>67500.0</td>\n",
              "      <td>135000.0</td>\n",
              "      <td>6750.0</td>\n",
              "      <td>...</td>\n",
              "      <td>0</td>\n",
              "      <td>0</td>\n",
              "      <td>0</td>\n",
              "      <td>0</td>\n",
              "      <td>0.0</td>\n",
              "      <td>0.0</td>\n",
              "      <td>0.0</td>\n",
              "      <td>0.0</td>\n",
              "      <td>0.0</td>\n",
              "      <td>0.0</td>\n",
              "    </tr>\n",
              "    <tr>\n",
              "      <th>3</th>\n",
              "      <td>100006</td>\n",
              "      <td>0</td>\n",
              "      <td>Cash loans</td>\n",
              "      <td>F</td>\n",
              "      <td>N</td>\n",
              "      <td>Y</td>\n",
              "      <td>0</td>\n",
              "      <td>135000.0</td>\n",
              "      <td>312682.5</td>\n",
              "      <td>29686.5</td>\n",
              "      <td>...</td>\n",
              "      <td>0</td>\n",
              "      <td>0</td>\n",
              "      <td>0</td>\n",
              "      <td>0</td>\n",
              "      <td>NaN</td>\n",
              "      <td>NaN</td>\n",
              "      <td>NaN</td>\n",
              "      <td>NaN</td>\n",
              "      <td>NaN</td>\n",
              "      <td>NaN</td>\n",
              "    </tr>\n",
              "    <tr>\n",
              "      <th>4</th>\n",
              "      <td>100007</td>\n",
              "      <td>0</td>\n",
              "      <td>Cash loans</td>\n",
              "      <td>M</td>\n",
              "      <td>N</td>\n",
              "      <td>Y</td>\n",
              "      <td>0</td>\n",
              "      <td>121500.0</td>\n",
              "      <td>513000.0</td>\n",
              "      <td>21865.5</td>\n",
              "      <td>...</td>\n",
              "      <td>0</td>\n",
              "      <td>0</td>\n",
              "      <td>0</td>\n",
              "      <td>0</td>\n",
              "      <td>0.0</td>\n",
              "      <td>0.0</td>\n",
              "      <td>0.0</td>\n",
              "      <td>0.0</td>\n",
              "      <td>0.0</td>\n",
              "      <td>0.0</td>\n",
              "    </tr>\n",
              "  </tbody>\n",
              "</table>\n",
              "<p>5 rows × 75 columns</p>\n",
              "</div>\n",
              "      <button class=\"colab-df-convert\" onclick=\"convertToInteractive('df-3c2273e8-1d1a-45c3-ba44-5e6eee396940')\"\n",
              "              title=\"Convert this dataframe to an interactive table.\"\n",
              "              style=\"display:none;\">\n",
              "        \n",
              "  <svg xmlns=\"http://www.w3.org/2000/svg\" height=\"24px\"viewBox=\"0 0 24 24\"\n",
              "       width=\"24px\">\n",
              "    <path d=\"M0 0h24v24H0V0z\" fill=\"none\"/>\n",
              "    <path d=\"M18.56 5.44l.94 2.06.94-2.06 2.06-.94-2.06-.94-.94-2.06-.94 2.06-2.06.94zm-11 1L8.5 8.5l.94-2.06 2.06-.94-2.06-.94L8.5 2.5l-.94 2.06-2.06.94zm10 10l.94 2.06.94-2.06 2.06-.94-2.06-.94-.94-2.06-.94 2.06-2.06.94z\"/><path d=\"M17.41 7.96l-1.37-1.37c-.4-.4-.92-.59-1.43-.59-.52 0-1.04.2-1.43.59L10.3 9.45l-7.72 7.72c-.78.78-.78 2.05 0 2.83L4 21.41c.39.39.9.59 1.41.59.51 0 1.02-.2 1.41-.59l7.78-7.78 2.81-2.81c.8-.78.8-2.07 0-2.86zM5.41 20L4 18.59l7.72-7.72 1.47 1.35L5.41 20z\"/>\n",
              "  </svg>\n",
              "      </button>\n",
              "      \n",
              "  <style>\n",
              "    .colab-df-container {\n",
              "      display:flex;\n",
              "      flex-wrap:wrap;\n",
              "      gap: 12px;\n",
              "    }\n",
              "\n",
              "    .colab-df-convert {\n",
              "      background-color: #E8F0FE;\n",
              "      border: none;\n",
              "      border-radius: 50%;\n",
              "      cursor: pointer;\n",
              "      display: none;\n",
              "      fill: #1967D2;\n",
              "      height: 32px;\n",
              "      padding: 0 0 0 0;\n",
              "      width: 32px;\n",
              "    }\n",
              "\n",
              "    .colab-df-convert:hover {\n",
              "      background-color: #E2EBFA;\n",
              "      box-shadow: 0px 1px 2px rgba(60, 64, 67, 0.3), 0px 1px 3px 1px rgba(60, 64, 67, 0.15);\n",
              "      fill: #174EA6;\n",
              "    }\n",
              "\n",
              "    [theme=dark] .colab-df-convert {\n",
              "      background-color: #3B4455;\n",
              "      fill: #D2E3FC;\n",
              "    }\n",
              "\n",
              "    [theme=dark] .colab-df-convert:hover {\n",
              "      background-color: #434B5C;\n",
              "      box-shadow: 0px 1px 3px 1px rgba(0, 0, 0, 0.15);\n",
              "      filter: drop-shadow(0px 1px 2px rgba(0, 0, 0, 0.3));\n",
              "      fill: #FFFFFF;\n",
              "    }\n",
              "  </style>\n",
              "\n",
              "      <script>\n",
              "        const buttonEl =\n",
              "          document.querySelector('#df-3c2273e8-1d1a-45c3-ba44-5e6eee396940 button.colab-df-convert');\n",
              "        buttonEl.style.display =\n",
              "          google.colab.kernel.accessAllowed ? 'block' : 'none';\n",
              "\n",
              "        async function convertToInteractive(key) {\n",
              "          const element = document.querySelector('#df-3c2273e8-1d1a-45c3-ba44-5e6eee396940');\n",
              "          const dataTable =\n",
              "            await google.colab.kernel.invokeFunction('convertToInteractive',\n",
              "                                                     [key], {});\n",
              "          if (!dataTable) return;\n",
              "\n",
              "          const docLinkHtml = 'Like what you see? Visit the ' +\n",
              "            '<a target=\"_blank\" href=https://colab.research.google.com/notebooks/data_table.ipynb>data table notebook</a>'\n",
              "            + ' to learn more about interactive tables.';\n",
              "          element.innerHTML = '';\n",
              "          dataTable['output_type'] = 'display_data';\n",
              "          await google.colab.output.renderOutput(dataTable, element);\n",
              "          const docLink = document.createElement('div');\n",
              "          docLink.innerHTML = docLinkHtml;\n",
              "          element.appendChild(docLink);\n",
              "        }\n",
              "      </script>\n",
              "    </div>\n",
              "  </div>\n",
              "  "
            ]
          },
          "metadata": {},
          "execution_count": 8
        }
      ]
    },
    {
      "cell_type": "code",
      "source": [
        "# Check for duplicate rows\n",
        "df_application_train_without_id = df_application_train.drop(columns=['SK_ID_CURR'])\n",
        "df_application_train_without_id[df_application_train_without_id.duplicated(keep=False)]"
      ],
      "metadata": {
        "colab": {
          "base_uri": "https://localhost:8080/",
          "height": 143
        },
        "id": "mHj3mtQ-UEYv",
        "outputId": "7e249d6e-2ea8-4d23-c6a1-c51d69b498c5"
      },
      "execution_count": null,
      "outputs": [
        {
          "output_type": "execute_result",
          "data": {
            "text/plain": [
              "Empty DataFrame\n",
              "Columns: [TARGET, NAME_CONTRACT_TYPE, CODE_GENDER, FLAG_OWN_CAR, FLAG_OWN_REALTY, CNT_CHILDREN, AMT_INCOME_TOTAL, AMT_CREDIT, AMT_ANNUITY, AMT_GOODS_PRICE, NAME_TYPE_SUITE, NAME_INCOME_TYPE, NAME_EDUCATION_TYPE, NAME_FAMILY_STATUS, NAME_HOUSING_TYPE, REGION_POPULATION_RELATIVE, DAYS_BIRTH, DAYS_EMPLOYED, DAYS_REGISTRATION, DAYS_ID_PUBLISH, OWN_CAR_AGE, FLAG_MOBIL, FLAG_EMP_PHONE, FLAG_WORK_PHONE, FLAG_CONT_MOBILE, FLAG_PHONE, FLAG_EMAIL, OCCUPATION_TYPE, CNT_FAM_MEMBERS, REGION_RATING_CLIENT, REGION_RATING_CLIENT_W_CITY, WEEKDAY_APPR_PROCESS_START, HOUR_APPR_PROCESS_START, REG_REGION_NOT_LIVE_REGION, REG_REGION_NOT_WORK_REGION, LIVE_REGION_NOT_WORK_REGION, REG_CITY_NOT_LIVE_CITY, REG_CITY_NOT_WORK_CITY, LIVE_CITY_NOT_WORK_CITY, ORGANIZATION_TYPE, EXT_SOURCE_1, EXT_SOURCE_2, EXT_SOURCE_3, OBS_30_CNT_SOCIAL_CIRCLE, DEF_30_CNT_SOCIAL_CIRCLE, OBS_60_CNT_SOCIAL_CIRCLE, DEF_60_CNT_SOCIAL_CIRCLE, DAYS_LAST_PHONE_CHANGE, FLAG_DOCUMENT_2, FLAG_DOCUMENT_3, FLAG_DOCUMENT_4, FLAG_DOCUMENT_5, FLAG_DOCUMENT_6, FLAG_DOCUMENT_7, FLAG_DOCUMENT_8, FLAG_DOCUMENT_9, FLAG_DOCUMENT_10, FLAG_DOCUMENT_11, FLAG_DOCUMENT_12, FLAG_DOCUMENT_13, FLAG_DOCUMENT_14, FLAG_DOCUMENT_15, FLAG_DOCUMENT_16, FLAG_DOCUMENT_17, FLAG_DOCUMENT_18, FLAG_DOCUMENT_19, FLAG_DOCUMENT_20, FLAG_DOCUMENT_21, AMT_REQ_CREDIT_BUREAU_HOUR, AMT_REQ_CREDIT_BUREAU_DAY, AMT_REQ_CREDIT_BUREAU_WEEK, AMT_REQ_CREDIT_BUREAU_MON, AMT_REQ_CREDIT_BUREAU_QRT, AMT_REQ_CREDIT_BUREAU_YEAR]\n",
              "Index: []\n",
              "\n",
              "[0 rows x 74 columns]"
            ],
            "text/html": [
              "\n",
              "  <div id=\"df-b74bb83d-f2ff-432a-81d2-94d6d25b8b96\">\n",
              "    <div class=\"colab-df-container\">\n",
              "      <div>\n",
              "<style scoped>\n",
              "    .dataframe tbody tr th:only-of-type {\n",
              "        vertical-align: middle;\n",
              "    }\n",
              "\n",
              "    .dataframe tbody tr th {\n",
              "        vertical-align: top;\n",
              "    }\n",
              "\n",
              "    .dataframe thead th {\n",
              "        text-align: right;\n",
              "    }\n",
              "</style>\n",
              "<table border=\"1\" class=\"dataframe\">\n",
              "  <thead>\n",
              "    <tr style=\"text-align: right;\">\n",
              "      <th></th>\n",
              "      <th>TARGET</th>\n",
              "      <th>NAME_CONTRACT_TYPE</th>\n",
              "      <th>CODE_GENDER</th>\n",
              "      <th>FLAG_OWN_CAR</th>\n",
              "      <th>FLAG_OWN_REALTY</th>\n",
              "      <th>CNT_CHILDREN</th>\n",
              "      <th>AMT_INCOME_TOTAL</th>\n",
              "      <th>AMT_CREDIT</th>\n",
              "      <th>AMT_ANNUITY</th>\n",
              "      <th>AMT_GOODS_PRICE</th>\n",
              "      <th>...</th>\n",
              "      <th>FLAG_DOCUMENT_18</th>\n",
              "      <th>FLAG_DOCUMENT_19</th>\n",
              "      <th>FLAG_DOCUMENT_20</th>\n",
              "      <th>FLAG_DOCUMENT_21</th>\n",
              "      <th>AMT_REQ_CREDIT_BUREAU_HOUR</th>\n",
              "      <th>AMT_REQ_CREDIT_BUREAU_DAY</th>\n",
              "      <th>AMT_REQ_CREDIT_BUREAU_WEEK</th>\n",
              "      <th>AMT_REQ_CREDIT_BUREAU_MON</th>\n",
              "      <th>AMT_REQ_CREDIT_BUREAU_QRT</th>\n",
              "      <th>AMT_REQ_CREDIT_BUREAU_YEAR</th>\n",
              "    </tr>\n",
              "  </thead>\n",
              "  <tbody>\n",
              "  </tbody>\n",
              "</table>\n",
              "<p>0 rows × 74 columns</p>\n",
              "</div>\n",
              "      <button class=\"colab-df-convert\" onclick=\"convertToInteractive('df-b74bb83d-f2ff-432a-81d2-94d6d25b8b96')\"\n",
              "              title=\"Convert this dataframe to an interactive table.\"\n",
              "              style=\"display:none;\">\n",
              "        \n",
              "  <svg xmlns=\"http://www.w3.org/2000/svg\" height=\"24px\"viewBox=\"0 0 24 24\"\n",
              "       width=\"24px\">\n",
              "    <path d=\"M0 0h24v24H0V0z\" fill=\"none\"/>\n",
              "    <path d=\"M18.56 5.44l.94 2.06.94-2.06 2.06-.94-2.06-.94-.94-2.06-.94 2.06-2.06.94zm-11 1L8.5 8.5l.94-2.06 2.06-.94-2.06-.94L8.5 2.5l-.94 2.06-2.06.94zm10 10l.94 2.06.94-2.06 2.06-.94-2.06-.94-.94-2.06-.94 2.06-2.06.94z\"/><path d=\"M17.41 7.96l-1.37-1.37c-.4-.4-.92-.59-1.43-.59-.52 0-1.04.2-1.43.59L10.3 9.45l-7.72 7.72c-.78.78-.78 2.05 0 2.83L4 21.41c.39.39.9.59 1.41.59.51 0 1.02-.2 1.41-.59l7.78-7.78 2.81-2.81c.8-.78.8-2.07 0-2.86zM5.41 20L4 18.59l7.72-7.72 1.47 1.35L5.41 20z\"/>\n",
              "  </svg>\n",
              "      </button>\n",
              "      \n",
              "  <style>\n",
              "    .colab-df-container {\n",
              "      display:flex;\n",
              "      flex-wrap:wrap;\n",
              "      gap: 12px;\n",
              "    }\n",
              "\n",
              "    .colab-df-convert {\n",
              "      background-color: #E8F0FE;\n",
              "      border: none;\n",
              "      border-radius: 50%;\n",
              "      cursor: pointer;\n",
              "      display: none;\n",
              "      fill: #1967D2;\n",
              "      height: 32px;\n",
              "      padding: 0 0 0 0;\n",
              "      width: 32px;\n",
              "    }\n",
              "\n",
              "    .colab-df-convert:hover {\n",
              "      background-color: #E2EBFA;\n",
              "      box-shadow: 0px 1px 2px rgba(60, 64, 67, 0.3), 0px 1px 3px 1px rgba(60, 64, 67, 0.15);\n",
              "      fill: #174EA6;\n",
              "    }\n",
              "\n",
              "    [theme=dark] .colab-df-convert {\n",
              "      background-color: #3B4455;\n",
              "      fill: #D2E3FC;\n",
              "    }\n",
              "\n",
              "    [theme=dark] .colab-df-convert:hover {\n",
              "      background-color: #434B5C;\n",
              "      box-shadow: 0px 1px 3px 1px rgba(0, 0, 0, 0.15);\n",
              "      filter: drop-shadow(0px 1px 2px rgba(0, 0, 0, 0.3));\n",
              "      fill: #FFFFFF;\n",
              "    }\n",
              "  </style>\n",
              "\n",
              "      <script>\n",
              "        const buttonEl =\n",
              "          document.querySelector('#df-b74bb83d-f2ff-432a-81d2-94d6d25b8b96 button.colab-df-convert');\n",
              "        buttonEl.style.display =\n",
              "          google.colab.kernel.accessAllowed ? 'block' : 'none';\n",
              "\n",
              "        async function convertToInteractive(key) {\n",
              "          const element = document.querySelector('#df-b74bb83d-f2ff-432a-81d2-94d6d25b8b96');\n",
              "          const dataTable =\n",
              "            await google.colab.kernel.invokeFunction('convertToInteractive',\n",
              "                                                     [key], {});\n",
              "          if (!dataTable) return;\n",
              "\n",
              "          const docLinkHtml = 'Like what you see? Visit the ' +\n",
              "            '<a target=\"_blank\" href=https://colab.research.google.com/notebooks/data_table.ipynb>data table notebook</a>'\n",
              "            + ' to learn more about interactive tables.';\n",
              "          element.innerHTML = '';\n",
              "          dataTable['output_type'] = 'display_data';\n",
              "          await google.colab.output.renderOutput(dataTable, element);\n",
              "          const docLink = document.createElement('div');\n",
              "          docLink.innerHTML = docLinkHtml;\n",
              "          element.appendChild(docLink);\n",
              "        }\n",
              "      </script>\n",
              "    </div>\n",
              "  </div>\n",
              "  "
            ]
          },
          "metadata": {},
          "execution_count": 9
        }
      ]
    },
    {
      "cell_type": "markdown",
      "source": [
        "There is no duplicate observation in this dataset."
      ],
      "metadata": {
        "id": "8s227tVTVfr_"
      }
    },
    {
      "cell_type": "code",
      "source": [
        "# Get the column names of df_application_train\n",
        "features = df_application_train.columns"
      ],
      "metadata": {
        "id": "xD06jKQ1TnYN"
      },
      "execution_count": null,
      "outputs": []
    },
    {
      "cell_type": "code",
      "source": [
        "# Check TARGET distribution\n",
        "df_application_train['TARGET'].value_counts() / len(df_application_train) * 100"
      ],
      "metadata": {
        "colab": {
          "base_uri": "https://localhost:8080/"
        },
        "id": "zT6Zx83ygB7x",
        "outputId": "ee3ad2b2-b45b-435a-e892-eb09b8374e73"
      },
      "execution_count": null,
      "outputs": [
        {
          "output_type": "execute_result",
          "data": {
            "text/plain": [
              "0    91.927417\n",
              "1     8.072583\n",
              "Name: TARGET, dtype: float64"
            ]
          },
          "metadata": {},
          "execution_count": 11
        }
      ]
    },
    {
      "cell_type": "markdown",
      "source": [
        "## **Identifying and handling missing values.**"
      ],
      "metadata": {
        "id": "kQrdgsjDqIWE"
      }
    },
    {
      "cell_type": "code",
      "source": [
        "# Plot the number of missing values\n",
        "fig, ax = plot_missing_values(df_application_train, 'application_train')\n",
        "\n",
        "# Add a horizontal dashed line at y=3000\n",
        "ax.axhline(y=3000, linestyle='--', color='cyan')\n",
        "\n",
        "# Add an arrow pointer and text annotation\n",
        "arrow_props = dict(arrowstyle='->', color='cyan')\n",
        "ax.annotate('y = 3000', xy=(15, 5000), xytext=(15, 20000),\n",
        "            arrowprops=arrow_props, color='cyan')\n",
        "\n",
        "# Display the plot\n",
        "plt.show()"
      ],
      "metadata": {
        "colab": {
          "base_uri": "https://localhost:8080/",
          "height": 537
        },
        "id": "VBBmiwhnf2fN",
        "outputId": "2ed0f68c-c3a7-493e-9706-165ff49b86c1"
      },
      "execution_count": null,
      "outputs": [
        {
          "output_type": "display_data",
          "data": {
            "text/plain": [
              "<Figure size 600x300 with 1 Axes>"
            ],
            "image/png": "[encoded data removed]"
          },
          "metadata": {}
        }
      ]
    },
    {
      "cell_type": "code",
      "source": [
        "# Select columns with missing values count between 0 and 3000\n",
        "isna_sum = df_application_train.isna().sum()\n",
        "columns_to_dropna = isna_sum[(isna_sum > 0) & (isna_sum < 3000)].index.to_list()\n",
        "\n",
        "# Drop rows with missing values in selected columns\n",
        "df_application_train = df_application_train.dropna(subset=columns_to_dropna)\n",
        "\n",
        "# Print the new shape\n",
        "print(f'shape: {df_application_train.shape}')"
      ],
      "metadata": {
        "colab": {
          "base_uri": "https://localhost:8080/"
        },
        "id": "TtPiXtHRrqgb",
        "outputId": "0106f04d-3478-47b3-b301-b98077e155db"
      },
      "execution_count": null,
      "outputs": [
        {
          "output_type": "stream",
          "name": "stdout",
          "text": [
            "shape: (304524, 75)\n"
          ]
        }
      ]
    },
    {
      "cell_type": "markdown",
      "source": [
        "These columns have a moderate number of missing values that we can drop without losing a significant amount of data. By dropping these rows, we ensure that our dataset contains only complete observations in the selected columns."
      ],
      "metadata": {
        "id": "G_FWtxfdsgiE"
      }
    },
    {
      "cell_type": "markdown",
      "source": [
        "After that, I investigated the columns related to the number of enquiries made to the credit bureau about the client. These columns include `AMT_REQ_CREDIT_BUREAU` for hour, day, week, month, quarter, and year. Initially, I checked if there were any enquiries recorded in the bureau dataset. If there were no enquiries found, I assumed that the missing values in these columns should be filled with 0, indicating that there were no enquiries made to the credit bureau about the client."
      ],
      "metadata": {
        "id": "fnE5Q9iQ0OVn"
      }
    },
    {
      "cell_type": "code",
      "source": [
        "# Check and handle missing values in AMT_REQ columns\n",
        "check_missing_AMT_REQ(df_application_train, df_bureau)"
      ],
      "metadata": {
        "colab": {
          "base_uri": "https://localhost:8080/"
        },
        "id": "vfWoYHcKyXLv",
        "outputId": "03cd9635-447e-48f0-f004-5f0440ecd306"
      },
      "execution_count": null,
      "outputs": [
        {
          "output_type": "stream",
          "name": "stdout",
          "text": [
            "No matching SK_ID_CURR values were found in the bureau table.\n",
            "Missing values have been filled with 0.\n"
          ]
        }
      ]
    },
    {
      "cell_type": "markdown",
      "source": [
        "The next column I examined was `DAYS_EMPLOYED`. Initially, I investigated the income type associated with the missing values in `DAYS_EMPLOYED`."
      ],
      "metadata": {
        "id": "9vtB2-f1X7bO"
      }
    },
    {
      "cell_type": "code",
      "source": [
        "df_application_train[\n",
        "    df_application_train['DAYS_EMPLOYED'].isna()\n",
        "]['NAME_INCOME_TYPE'].value_counts()"
      ],
      "metadata": {
        "colab": {
          "base_uri": "https://localhost:8080/"
        },
        "id": "1Tml8yXMapcG",
        "outputId": "81155be7-dfd6-4453-920b-d9d625393bf3"
      },
      "execution_count": null,
      "outputs": [
        {
          "output_type": "execute_result",
          "data": {
            "text/plain": [
              "Pensioner     54833\n",
              "Unemployed       19\n",
              "Name: NAME_INCOME_TYPE, dtype: int64"
            ]
          },
          "metadata": {},
          "execution_count": 15
        }
      ]
    },
    {
      "cell_type": "markdown",
      "source": [
        "It was discovered that the `DAYS_EMPLOYED` column had missing values for pensioners and unemployed individuals. For unemployed individuals, we can set `DAYS_EMPLOYED = 0`. However, for pensioners, further analysis is required since they are also present in the `ORGANIZATION_TYPE` and `OCCUPATION_TYPE` columns associated with the missing values. Therefore, I will handle the pensioner category separately."
      ],
      "metadata": {
        "id": "DM681MLDe-kf"
      }
    },
    {
      "cell_type": "code",
      "source": [
        "df_application_train[\n",
        "    df_application_train['ORGANIZATION_TYPE'].isna()\n",
        "]['NAME_INCOME_TYPE'].value_counts()"
      ],
      "metadata": {
        "colab": {
          "base_uri": "https://localhost:8080/"
        },
        "id": "XPHIC3Xe1THg",
        "outputId": "59751cf7-54c7-43f5-e650-60096f2c7f61"
      },
      "execution_count": null,
      "outputs": [
        {
          "output_type": "execute_result",
          "data": {
            "text/plain": [
              "Pensioner     54833\n",
              "Unemployed       19\n",
              "Name: NAME_INCOME_TYPE, dtype: int64"
            ]
          },
          "metadata": {},
          "execution_count": 16
        }
      ]
    },
    {
      "cell_type": "code",
      "source": [
        "df_application_train[\n",
        "    df_application_train['OCCUPATION_TYPE'].isna()\n",
        "]['NAME_INCOME_TYPE'].value_counts()"
      ],
      "metadata": {
        "colab": {
          "base_uri": "https://localhost:8080/"
        },
        "id": "FIkdUcEga20b",
        "outputId": "b8f27e5a-ae0f-464a-fb39-6050ab8c72ae"
      },
      "execution_count": null,
      "outputs": [
        {
          "output_type": "execute_result",
          "data": {
            "text/plain": [
              "Pensioner               54839\n",
              "Working                 24686\n",
              "Commercial associate    12133\n",
              "State servant            3749\n",
              "Unemployed                 19\n",
              "Student                     4\n",
              "Businessman                 2\n",
              "Maternity leave             1\n",
              "Name: NAME_INCOME_TYPE, dtype: int64"
            ]
          },
          "metadata": {},
          "execution_count": 17
        }
      ]
    },
    {
      "cell_type": "markdown",
      "source": [
        "Meanwhile, I'll assign the following values for unemployed individuals: \n",
        "\n",
        "`DAYS_EMPLOYED = 0`, \n",
        "\n",
        "`OCCUPATION_TYPE = 'None'`, and \n",
        "\n",
        "`ORGANIZATION_TYPE = 'None'`."
      ],
      "metadata": {
        "id": "Gtvi6Ictfn5w"
      }
    },
    {
      "cell_type": "code",
      "source": [
        "# Identify unemployed individuals\n",
        "is_unemployed = df_application_train['NAME_INCOME_TYPE'] == 'Unemployed'\n",
        "\n",
        "# Set 'DAYS_EMPLOYED' to 0 \n",
        "df_application_train.loc[is_unemployed, 'DAYS_EMPLOYED'] = 0\n",
        "# Set 'OCCUPATION_TYPE' to 'None' \n",
        "df_application_train.loc[is_unemployed, 'OCCUPATION_TYPE'] = 'None'\n",
        "# Set 'ORGANIZATION_TYPE' to 'None' \n",
        "df_application_train.loc[is_unemployed, 'ORGANIZATION_TYPE'] = 'None'"
      ],
      "metadata": {
        "id": "hhnTHKfEgE4f"
      },
      "execution_count": null,
      "outputs": []
    },
    {
      "cell_type": "markdown",
      "source": [
        "For the `Pensioner` category, there are only 8 records with non-null values in the `DAYS_EMPLOYED` column, while a significant number of 54833 records have missing values. Moreover, only two rows have a known `OCCUPATION_TYPE` value. Considering this limited and unrepresentative data, it is not advisable to impute the missing values for `Pensioner` based on this information alone. Instead, I will impute the missing values for `DAYS_EMPLOYED` in the `Pensioner` category using the mean value, and the missing `OCCUPATION_TYPE` and `ORGANIZATION_TYPE` values with the mode. Further steps will be taken to address the remaining missing values in the `OCCUPATION_TYPE` column."
      ],
      "metadata": {
        "id": "91SzB9GAhv7o"
      }
    },
    {
      "cell_type": "code",
      "source": [
        "# Filter rows for the 'Pensioner' category with non-null values in 'DAYS_EMPLOYED'\n",
        "is_pensioner = df_application_train['NAME_INCOME_TYPE'] == 'Pensioner'\n",
        "is_missing_days_employed = df_application_train['DAYS_EMPLOYED'].isna()\n",
        "pensioner_records = df_application_train[is_pensioner & ~is_missing_days_employed]\n",
        "\n",
        "# Display the subset dataframe\n",
        "pensioner_records[['SK_ID_CURR', 'DAYS_EMPLOYED', 'OCCUPATION_TYPE', 'ORGANIZATION_TYPE']]"
      ],
      "metadata": {
        "colab": {
          "base_uri": "https://localhost:8080/",
          "height": 300
        },
        "id": "w4-7frOPhvKJ",
        "outputId": "4ec09793-1a9c-4189-8043-dbd3ce9ca499"
      },
      "execution_count": null,
      "outputs": [
        {
          "output_type": "execute_result",
          "data": {
            "text/plain": [
              "        SK_ID_CURR  DAYS_EMPLOYED OCCUPATION_TYPE       ORGANIZATION_TYPE\n",
              "18195       121224        -1346.0             NaN  Business Entity Type 2\n",
              "108372      225712       -11194.0             NaN  Business Entity Type 3\n",
              "113693      231855       -12865.0  Medicine staff                Medicine\n",
              "124164      243990        -1895.0             NaN  Business Entity Type 3\n",
              "134594      256117        -8140.0             NaN                Military\n",
              "206029      338811        -3261.0             NaN           Trade: type 7\n",
              "274862      418551        -1636.0     Sales staff           Self-employed\n",
              "291643      437867        -1669.0             NaN                  School"
            ],
            "text/html": [
              "\n",
              "  <div id=\"df-14e2b32f-6446-4af5-80ef-f7a425daa6bc\">\n",
              "    <div class=\"colab-df-container\">\n",
              "      <div>\n",
              "<style scoped>\n",
              "    .dataframe tbody tr th:only-of-type {\n",
              "        vertical-align: middle;\n",
              "    }\n",
              "\n",
              "    .dataframe tbody tr th {\n",
              "        vertical-align: top;\n",
              "    }\n",
              "\n",
              "    .dataframe thead th {\n",
              "        text-align: right;\n",
              "    }\n",
              "</style>\n",
              "<table border=\"1\" class=\"dataframe\">\n",
              "  <thead>\n",
              "    <tr style=\"text-align: right;\">\n",
              "      <th></th>\n",
              "      <th>SK_ID_CURR</th>\n",
              "      <th>DAYS_EMPLOYED</th>\n",
              "      <th>OCCUPATION_TYPE</th>\n",
              "      <th>ORGANIZATION_TYPE</th>\n",
              "    </tr>\n",
              "  </thead>\n",
              "  <tbody>\n",
              "    <tr>\n",
              "      <th>18195</th>\n",
              "      <td>121224</td>\n",
              "      <td>-1346.0</td>\n",
              "      <td>NaN</td>\n",
              "      <td>Business Entity Type 2</td>\n",
              "    </tr>\n",
              "    <tr>\n",
              "      <th>108372</th>\n",
              "      <td>225712</td>\n",
              "      <td>-11194.0</td>\n",
              "      <td>NaN</td>\n",
              "      <td>Business Entity Type 3</td>\n",
              "    </tr>\n",
              "    <tr>\n",
              "      <th>113693</th>\n",
              "      <td>231855</td>\n",
              "      <td>-12865.0</td>\n",
              "      <td>Medicine staff</td>\n",
              "      <td>Medicine</td>\n",
              "    </tr>\n",
              "    <tr>\n",
              "      <th>124164</th>\n",
              "      <td>243990</td>\n",
              "      <td>-1895.0</td>\n",
              "      <td>NaN</td>\n",
              "      <td>Business Entity Type 3</td>\n",
              "    </tr>\n",
              "    <tr>\n",
              "      <th>134594</th>\n",
              "      <td>256117</td>\n",
              "      <td>-8140.0</td>\n",
              "      <td>NaN</td>\n",
              "      <td>Military</td>\n",
              "    </tr>\n",
              "    <tr>\n",
              "      <th>206029</th>\n",
              "      <td>338811</td>\n",
              "      <td>-3261.0</td>\n",
              "      <td>NaN</td>\n",
              "      <td>Trade: type 7</td>\n",
              "    </tr>\n",
              "    <tr>\n",
              "      <th>274862</th>\n",
              "      <td>418551</td>\n",
              "      <td>-1636.0</td>\n",
              "      <td>Sales staff</td>\n",
              "      <td>Self-employed</td>\n",
              "    </tr>\n",
              "    <tr>\n",
              "      <th>291643</th>\n",
              "      <td>437867</td>\n",
              "      <td>-1669.0</td>\n",
              "      <td>NaN</td>\n",
              "      <td>School</td>\n",
              "    </tr>\n",
              "  </tbody>\n",
              "</table>\n",
              "</div>\n",
              "      <button class=\"colab-df-convert\" onclick=\"convertToInteractive('df-14e2b32f-6446-4af5-80ef-f7a425daa6bc')\"\n",
              "              title=\"Convert this dataframe to an interactive table.\"\n",
              "              style=\"display:none;\">\n",
              "        \n",
              "  <svg xmlns=\"http://www.w3.org/2000/svg\" height=\"24px\"viewBox=\"0 0 24 24\"\n",
              "       width=\"24px\">\n",
              "    <path d=\"M0 0h24v24H0V0z\" fill=\"none\"/>\n",
              "    <path d=\"M18.56 5.44l.94 2.06.94-2.06 2.06-.94-2.06-.94-.94-2.06-.94 2.06-2.06.94zm-11 1L8.5 8.5l.94-2.06 2.06-.94-2.06-.94L8.5 2.5l-.94 2.06-2.06.94zm10 10l.94 2.06.94-2.06 2.06-.94-2.06-.94-.94-2.06-.94 2.06-2.06.94z\"/><path d=\"M17.41 7.96l-1.37-1.37c-.4-.4-.92-.59-1.43-.59-.52 0-1.04.2-1.43.59L10.3 9.45l-7.72 7.72c-.78.78-.78 2.05 0 2.83L4 21.41c.39.39.9.59 1.41.59.51 0 1.02-.2 1.41-.59l7.78-7.78 2.81-2.81c.8-.78.8-2.07 0-2.86zM5.41 20L4 18.59l7.72-7.72 1.47 1.35L5.41 20z\"/>\n",
              "  </svg>\n",
              "      </button>\n",
              "      \n",
              "  <style>\n",
              "    .colab-df-container {\n",
              "      display:flex;\n",
              "      flex-wrap:wrap;\n",
              "      gap: 12px;\n",
              "    }\n",
              "\n",
              "    .colab-df-convert {\n",
              "      background-color: #E8F0FE;\n",
              "      border: none;\n",
              "      border-radius: 50%;\n",
              "      cursor: pointer;\n",
              "      display: none;\n",
              "      fill: #1967D2;\n",
              "      height: 32px;\n",
              "      padding: 0 0 0 0;\n",
              "      width: 32px;\n",
              "    }\n",
              "\n",
              "    .colab-df-convert:hover {\n",
              "      background-color: #E2EBFA;\n",
              "      box-shadow: 0px 1px 2px rgba(60, 64, 67, 0.3), 0px 1px 3px 1px rgba(60, 64, 67, 0.15);\n",
              "      fill: #174EA6;\n",
              "    }\n",
              "\n",
              "    [theme=dark] .colab-df-convert {\n",
              "      background-color: #3B4455;\n",
              "      fill: #D2E3FC;\n",
              "    }\n",
              "\n",
              "    [theme=dark] .colab-df-convert:hover {\n",
              "      background-color: #434B5C;\n",
              "      box-shadow: 0px 1px 3px 1px rgba(0, 0, 0, 0.15);\n",
              "      filter: drop-shadow(0px 1px 2px rgba(0, 0, 0, 0.3));\n",
              "      fill: #FFFFFF;\n",
              "    }\n",
              "  </style>\n",
              "\n",
              "      <script>\n",
              "        const buttonEl =\n",
              "          document.querySelector('#df-14e2b32f-6446-4af5-80ef-f7a425daa6bc button.colab-df-convert');\n",
              "        buttonEl.style.display =\n",
              "          google.colab.kernel.accessAllowed ? 'block' : 'none';\n",
              "\n",
              "        async function convertToInteractive(key) {\n",
              "          const element = document.querySelector('#df-14e2b32f-6446-4af5-80ef-f7a425daa6bc');\n",
              "          const dataTable =\n",
              "            await google.colab.kernel.invokeFunction('convertToInteractive',\n",
              "                                                     [key], {});\n",
              "          if (!dataTable) return;\n",
              "\n",
              "          const docLinkHtml = 'Like what you see? Visit the ' +\n",
              "            '<a target=\"_blank\" href=https://colab.research.google.com/notebooks/data_table.ipynb>data table notebook</a>'\n",
              "            + ' to learn more about interactive tables.';\n",
              "          element.innerHTML = '';\n",
              "          dataTable['output_type'] = 'display_data';\n",
              "          await google.colab.output.renderOutput(dataTable, element);\n",
              "          const docLink = document.createElement('div');\n",
              "          docLink.innerHTML = docLinkHtml;\n",
              "          element.appendChild(docLink);\n",
              "        }\n",
              "      </script>\n",
              "    </div>\n",
              "  </div>\n",
              "  "
            ]
          },
          "metadata": {},
          "execution_count": 19
        }
      ]
    },
    {
      "cell_type": "code",
      "source": [
        "# Calculate the mean of DAYS_EMPLOYED\n",
        "mean_days_employed = df_application_train['DAYS_EMPLOYED'].mean()\n",
        "\n",
        "# Calculate the mode of OCCUPATION_TYPE and ORGANIZATION_TYPE\n",
        "mode_occupation_type = df_application_train['OCCUPATION_TYPE'].mode().iloc[0]\n",
        "mode_organization_type = df_application_train['ORGANIZATION_TYPE'].mode().iloc[0]\n",
        "\n",
        "# Identify the missing pensioner records\n",
        "is_missing_occupation_type = df_application_train['OCCUPATION_TYPE'].isna()\n",
        "missing_pensioner_records_1 = is_pensioner & is_missing_days_employed\n",
        "missing_pensioner_records_2 = is_pensioner & is_missing_occupation_type\n",
        "\n",
        "# Fill missing values for pensioner records with mean days employed, mode occupation type, and mode organization type\n",
        "df_application_train.loc[missing_pensioner_records_1, 'DAYS_EMPLOYED'] = mean_days_employed\n",
        "df_application_train.loc[missing_pensioner_records_1, 'ORGANIZATION_TYPE'] = mode_organization_type\n",
        "df_application_train.loc[missing_pensioner_records_2, 'OCCUPATION_TYPE'] = mode_occupation_type"
      ],
      "metadata": {
        "id": "U_Ls0o2PfI3k"
      },
      "execution_count": null,
      "outputs": []
    },
    {
      "cell_type": "markdown",
      "source": [
        "To address the remaining missing values in the `OCCUPATION_TYPE` column, I have made the decision to impute them using the mode of the occupation type associated with each specific `NAME_INCOME_TYPE`. This approach seems more appropriate as the `NAME_INCOME_TYPE` categories vary, ranging from businessmen to state servants to students."
      ],
      "metadata": {
        "id": "IkLwDYxlEsuG"
      }
    },
    {
      "cell_type": "code",
      "source": [
        "# Group the DataFrame by 'NAME_INCOME_TYPE' and find the mode of 'OCCUPATION_TYPE' for each group\n",
        "df_application_train.groupby('NAME_INCOME_TYPE')['OCCUPATION_TYPE'].apply(lambda x: x.mode().iloc[0])"
      ],
      "metadata": {
        "colab": {
          "base_uri": "https://localhost:8080/"
        },
        "id": "t-jIa3dIqJAs",
        "outputId": "301c95f5-fffd-4624-833f-18d77058eeee"
      },
      "execution_count": null,
      "outputs": [
        {
          "output_type": "execute_result",
          "data": {
            "text/plain": [
              "NAME_INCOME_TYPE\n",
              "Businessman               Managers\n",
              "Commercial associate      Laborers\n",
              "Maternity leave         Core staff\n",
              "Pensioner                 Laborers\n",
              "State servant           Core staff\n",
              "Student                   Laborers\n",
              "Unemployed                    None\n",
              "Working                   Laborers\n",
              "Name: OCCUPATION_TYPE, dtype: object"
            ]
          },
          "metadata": {},
          "execution_count": 21
        }
      ]
    },
    {
      "cell_type": "code",
      "source": [
        "# Calculate the mode of 'OCCUPATION_TYPE' for each 'NAME_INCOME_TYPE' group\n",
        "mode_occupation_type = df_application_train.groupby('NAME_INCOME_TYPE')['OCCUPATION_TYPE'].transform(lambda x: x.mode().iloc[0])\n",
        "\n",
        "# Fill the missing values in 'OCCUPATION_TYPE' with the mode for each income type\n",
        "df_application_train['OCCUPATION_TYPE'] = df_application_train['OCCUPATION_TYPE'].fillna(mode_occupation_type)"
      ],
      "metadata": {
        "id": "WQYja8shp5hg"
      },
      "execution_count": null,
      "outputs": []
    },
    {
      "cell_type": "markdown",
      "source": [
        "For the remaining two columns that contain missing values, I created two new columns named `EXT_SOURCE_MEAN` and `EXT_SOURCE_MEDIAN`. These new columns are calculated based on the values from the existing columns `EXT_SOURCE_1`, `EXT_SOURCE_2`, and `EXT_SOURCE_3`. \n",
        "\n",
        "After calculating the mean and median values, I excluded the original three columns from the table. This was done to remove them from further analysis and focus only on the newly created columns."
      ],
      "metadata": {
        "id": "7DvABqGzHCQx"
      }
    },
    {
      "cell_type": "code",
      "source": [
        "# Calculate the mean of EXT_SOURCE_1, EXT_SOURCE_2, and EXT_SOURCE_3\n",
        "df_application_train['EXT_SOURCE_MEAN'] = df_application_train[['EXT_SOURCE_1', \n",
        "                                                'EXT_SOURCE_2', 'EXT_SOURCE_3']].mean(axis=1)\n",
        "\n",
        "# Calculate the median of EXT_SOURCE_1, EXT_SOURCE_2, and EXT_SOURCE_3\n",
        "df_application_train['EXT_SOURCE_MEDIAN'] = df_application_train[['EXT_SOURCE_1', \n",
        "                                                'EXT_SOURCE_2', 'EXT_SOURCE_3']].median(axis=1)\n",
        "\n",
        "# Drop the columns EXT_SOURCE_1, EXT_SOURCE_2, and EXT_SOURCE_3\n",
        "df_application_train.drop(['EXT_SOURCE_1', 'EXT_SOURCE_2', 'EXT_SOURCE_3'], axis=1, inplace=True)"
      ],
      "metadata": {
        "id": "XamQrHxnF1EK"
      },
      "execution_count": null,
      "outputs": []
    },
    {
      "cell_type": "markdown",
      "source": [
        "## **Checking if there are any missing values for the last time.**"
      ],
      "metadata": {
        "id": "We32kMxOvpP_"
      }
    },
    {
      "cell_type": "code",
      "source": [
        "isna_counts = df_application_train.isna().sum()\n",
        "if not isna_counts[isna_counts > 0].any():\n",
        "    print('All clear')\n",
        "else:\n",
        "    print(isna_counts[isna_counts > 0])"
      ],
      "metadata": {
        "colab": {
          "base_uri": "https://localhost:8080/"
        },
        "id": "eHQHRIjCvmrt",
        "outputId": "c77bdf63-fdc1-4dc5-e3ff-186875f052f2"
      },
      "execution_count": null,
      "outputs": [
        {
          "output_type": "stream",
          "name": "stdout",
          "text": [
            "All clear\n"
          ]
        }
      ]
    },
    {
      "cell_type": "markdown",
      "source": [
        "## **Data type conversion**"
      ],
      "metadata": {
        "id": "Q959vlC1pf4L"
      }
    },
    {
      "cell_type": "code",
      "source": [
        "# Print column names with float data type\n",
        "float_columns = df_application_train.columns[df_application_train.dtypes == float]\n",
        "print(\"Columns with float data type:\", float_columns)"
      ],
      "metadata": {
        "colab": {
          "base_uri": "https://localhost:8080/"
        },
        "id": "rimSvwhDSMWr",
        "outputId": "4b104351-dfb9-422b-b981-2f55fbd51bd9"
      },
      "execution_count": null,
      "outputs": [
        {
          "output_type": "stream",
          "name": "stdout",
          "text": [
            "Columns with float data type: Index(['AMT_INCOME_TOTAL', 'AMT_CREDIT', 'AMT_ANNUITY', 'AMT_GOODS_PRICE',\n",
            "       'REGION_POPULATION_RELATIVE', 'DAYS_EMPLOYED', 'DAYS_REGISTRATION',\n",
            "       'OWN_CAR_AGE', 'CNT_FAM_MEMBERS', 'OBS_30_CNT_SOCIAL_CIRCLE',\n",
            "       'DEF_30_CNT_SOCIAL_CIRCLE', 'OBS_60_CNT_SOCIAL_CIRCLE',\n",
            "       'DEF_60_CNT_SOCIAL_CIRCLE', 'DAYS_LAST_PHONE_CHANGE',\n",
            "       'AMT_REQ_CREDIT_BUREAU_HOUR', 'AMT_REQ_CREDIT_BUREAU_DAY',\n",
            "       'AMT_REQ_CREDIT_BUREAU_WEEK', 'AMT_REQ_CREDIT_BUREAU_MON',\n",
            "       'AMT_REQ_CREDIT_BUREAU_QRT', 'AMT_REQ_CREDIT_BUREAU_YEAR',\n",
            "       'EXT_SOURCE_MEAN', 'EXT_SOURCE_MEDIAN'],\n",
            "      dtype='object')\n"
          ]
        }
      ]
    },
    {
      "cell_type": "markdown",
      "source": [
        "I performed data type conversion on the following columns:\n",
        "\n",
        "- `DAYS_EMPLOYED`\n",
        "- `DAYS_REGISTRATION`\n",
        "- `OWN_CAR_AGE`\n",
        "- `CNT_FAM_MEMBERS`\n",
        "- `OBS_30_CNT_SOCIAL_CIRCLE`\n",
        "- `DEF_30_CNT_SOCIAL_CIRCLE`\n",
        "- `OBS_60_CNT_SOCIAL_CIRCLE`\n",
        "- `DEF_60_CNT_SOCIAL_CIRCLE`\n",
        "- `DAYS_LAST_PHONE_CHANGE`\n",
        "- `AMT_REQ_CREDIT_BUREAU_HOUR`\n",
        "- `AMT_REQ_CREDIT_BUREAU_DAY`\n",
        "- `AMT_REQ_CREDIT_BUREAU_WEEK`\n",
        "- `AMT_REQ_CREDIT_BUREAU_MON`\n",
        "- `AMT_REQ_CREDIT_BUREAU_QRT`\n",
        "- `AMT_REQ_CREDIT_BUREAU_YEAR`\n",
        "\n",
        "I converted the float columns to integer data type. These columns represent the number of days, the number of family members, and the number of inquiries."
      ],
      "metadata": {
        "id": "OoPOR2wrowjv"
      }
    },
    {
      "cell_type": "code",
      "source": [
        "# List of columns to be converted from float to int data type\n",
        "columns_to_convert = [\n",
        "    'DAYS_EMPLOYED', 'DAYS_REGISTRATION', 'OWN_CAR_AGE', 'CNT_FAM_MEMBERS',\n",
        "    'OBS_30_CNT_SOCIAL_CIRCLE', 'DEF_30_CNT_SOCIAL_CIRCLE', 'OBS_60_CNT_SOCIAL_CIRCLE',\n",
        "    'DEF_60_CNT_SOCIAL_CIRCLE', 'DAYS_LAST_PHONE_CHANGE', 'AMT_REQ_CREDIT_BUREAU_HOUR',\n",
        "    'AMT_REQ_CREDIT_BUREAU_DAY', 'AMT_REQ_CREDIT_BUREAU_WEEK',\n",
        "    'AMT_REQ_CREDIT_BUREAU_MON', 'AMT_REQ_CREDIT_BUREAU_QRT',\n",
        "    'AMT_REQ_CREDIT_BUREAU_YEAR']\n",
        "\n",
        "# Convert the columns from float to int data type\n",
        "df_application_train[columns_to_convert] = df_application_train[columns_to_convert].astype(int)"
      ],
      "metadata": {
        "id": "v0dIFyRETYB1"
      },
      "execution_count": null,
      "outputs": []
    },
    {
      "cell_type": "markdown",
      "source": [
        "# **Prepare the `application_test` data**"
      ],
      "metadata": {
        "id": "9hDh6r2zaIYx"
      }
    },
    {
      "cell_type": "code",
      "source": [
        "# Drop the 'TARGET' column from the 'features' list\n",
        "features = features.drop('TARGET')\n",
        "\n",
        "# Select only the columns in 'features' from the 'df_application_test' DataFrame\n",
        "df_application_test = df_application_test[features]\n",
        "\n",
        "# Display the first few rows of the modified DataFrame\n",
        "df_application_test.head()"
      ],
      "metadata": {
        "colab": {
          "base_uri": "https://localhost:8080/",
          "height": 299
        },
        "id": "AO4jQrfzctJD",
        "outputId": "2ad29eea-c2ac-4aec-bd95-6f2c901b6ed5"
      },
      "execution_count": null,
      "outputs": [
        {
          "output_type": "execute_result",
          "data": {
            "text/plain": [
              "   SK_ID_CURR NAME_CONTRACT_TYPE CODE_GENDER FLAG_OWN_CAR FLAG_OWN_REALTY  \\\n",
              "0      100001         Cash loans           F            N               Y   \n",
              "1      100005         Cash loans           M            N               Y   \n",
              "2      100013         Cash loans           M            Y               Y   \n",
              "3      100028         Cash loans           F            N               Y   \n",
              "4      100038         Cash loans           M            Y               N   \n",
              "\n",
              "   CNT_CHILDREN  AMT_INCOME_TOTAL  AMT_CREDIT  AMT_ANNUITY  AMT_GOODS_PRICE  \\\n",
              "0             0          135000.0    568800.0      20560.5         450000.0   \n",
              "1             0           99000.0    222768.0      17370.0         180000.0   \n",
              "2             0          202500.0    663264.0      69777.0         630000.0   \n",
              "3             2          315000.0   1575000.0      49018.5        1575000.0   \n",
              "4             1          180000.0    625500.0      32067.0         625500.0   \n",
              "\n",
              "   ... FLAG_DOCUMENT_18 FLAG_DOCUMENT_19 FLAG_DOCUMENT_20 FLAG_DOCUMENT_21  \\\n",
              "0  ...                0                0                0                0   \n",
              "1  ...                0                0                0                0   \n",
              "2  ...                0                0                0                0   \n",
              "3  ...                0                0                0                0   \n",
              "4  ...                0                0                0                0   \n",
              "\n",
              "  AMT_REQ_CREDIT_BUREAU_HOUR  AMT_REQ_CREDIT_BUREAU_DAY  \\\n",
              "0                        0.0                        0.0   \n",
              "1                        0.0                        0.0   \n",
              "2                        0.0                        0.0   \n",
              "3                        0.0                        0.0   \n",
              "4                        NaN                        NaN   \n",
              "\n",
              "   AMT_REQ_CREDIT_BUREAU_WEEK  AMT_REQ_CREDIT_BUREAU_MON  \\\n",
              "0                         0.0                        0.0   \n",
              "1                         0.0                        0.0   \n",
              "2                         0.0                        0.0   \n",
              "3                         0.0                        0.0   \n",
              "4                         NaN                        NaN   \n",
              "\n",
              "   AMT_REQ_CREDIT_BUREAU_QRT  AMT_REQ_CREDIT_BUREAU_YEAR  \n",
              "0                        0.0                         0.0  \n",
              "1                        0.0                         3.0  \n",
              "2                        1.0                         4.0  \n",
              "3                        0.0                         3.0  \n",
              "4                        NaN                         NaN  \n",
              "\n",
              "[5 rows x 74 columns]"
            ],
            "text/html": [
              "\n",
              "  <div id=\"df-6d38a0ae-035d-4734-a6f4-024381288e5d\">\n",
              "    <div class=\"colab-df-container\">\n",
              "      <div>\n",
              "<style scoped>\n",
              "    .dataframe tbody tr th:only-of-type {\n",
              "        vertical-align: middle;\n",
              "    }\n",
              "\n",
              "    .dataframe tbody tr th {\n",
              "        vertical-align: top;\n",
              "    }\n",
              "\n",
              "    .dataframe thead th {\n",
              "        text-align: right;\n",
              "    }\n",
              "</style>\n",
              "<table border=\"1\" class=\"dataframe\">\n",
              "  <thead>\n",
              "    <tr style=\"text-align: right;\">\n",
              "      <th></th>\n",
              "      <th>SK_ID_CURR</th>\n",
              "      <th>NAME_CONTRACT_TYPE</th>\n",
              "      <th>CODE_GENDER</th>\n",
              "      <th>FLAG_OWN_CAR</th>\n",
              "      <th>FLAG_OWN_REALTY</th>\n",
              "      <th>CNT_CHILDREN</th>\n",
              "      <th>AMT_INCOME_TOTAL</th>\n",
              "      <th>AMT_CREDIT</th>\n",
              "      <th>AMT_ANNUITY</th>\n",
              "      <th>AMT_GOODS_PRICE</th>\n",
              "      <th>...</th>\n",
              "      <th>FLAG_DOCUMENT_18</th>\n",
              "      <th>FLAG_DOCUMENT_19</th>\n",
              "      <th>FLAG_DOCUMENT_20</th>\n",
              "      <th>FLAG_DOCUMENT_21</th>\n",
              "      <th>AMT_REQ_CREDIT_BUREAU_HOUR</th>\n",
              "      <th>AMT_REQ_CREDIT_BUREAU_DAY</th>\n",
              "      <th>AMT_REQ_CREDIT_BUREAU_WEEK</th>\n",
              "      <th>AMT_REQ_CREDIT_BUREAU_MON</th>\n",
              "      <th>AMT_REQ_CREDIT_BUREAU_QRT</th>\n",
              "      <th>AMT_REQ_CREDIT_BUREAU_YEAR</th>\n",
              "    </tr>\n",
              "  </thead>\n",
              "  <tbody>\n",
              "    <tr>\n",
              "      <th>0</th>\n",
              "      <td>100001</td>\n",
              "      <td>Cash loans</td>\n",
              "      <td>F</td>\n",
              "      <td>N</td>\n",
              "      <td>Y</td>\n",
              "      <td>0</td>\n",
              "      <td>135000.0</td>\n",
              "      <td>568800.0</td>\n",
              "      <td>20560.5</td>\n",
              "      <td>450000.0</td>\n",
              "      <td>...</td>\n",
              "      <td>0</td>\n",
              "      <td>0</td>\n",
              "      <td>0</td>\n",
              "      <td>0</td>\n",
              "      <td>0.0</td>\n",
              "      <td>0.0</td>\n",
              "      <td>0.0</td>\n",
              "      <td>0.0</td>\n",
              "      <td>0.0</td>\n",
              "      <td>0.0</td>\n",
              "    </tr>\n",
              "    <tr>\n",
              "      <th>1</th>\n",
              "      <td>100005</td>\n",
              "      <td>Cash loans</td>\n",
              "      <td>M</td>\n",
              "      <td>N</td>\n",
              "      <td>Y</td>\n",
              "      <td>0</td>\n",
              "      <td>99000.0</td>\n",
              "      <td>222768.0</td>\n",
              "      <td>17370.0</td>\n",
              "      <td>180000.0</td>\n",
              "      <td>...</td>\n",
              "      <td>0</td>\n",
              "      <td>0</td>\n",
              "      <td>0</td>\n",
              "      <td>0</td>\n",
              "      <td>0.0</td>\n",
              "      <td>0.0</td>\n",
              "      <td>0.0</td>\n",
              "      <td>0.0</td>\n",
              "      <td>0.0</td>\n",
              "      <td>3.0</td>\n",
              "    </tr>\n",
              "    <tr>\n",
              "      <th>2</th>\n",
              "      <td>100013</td>\n",
              "      <td>Cash loans</td>\n",
              "      <td>M</td>\n",
              "      <td>Y</td>\n",
              "      <td>Y</td>\n",
              "      <td>0</td>\n",
              "      <td>202500.0</td>\n",
              "      <td>663264.0</td>\n",
              "      <td>69777.0</td>\n",
              "      <td>630000.0</td>\n",
              "      <td>...</td>\n",
              "      <td>0</td>\n",
              "      <td>0</td>\n",
              "      <td>0</td>\n",
              "      <td>0</td>\n",
              "      <td>0.0</td>\n",
              "      <td>0.0</td>\n",
              "      <td>0.0</td>\n",
              "      <td>0.0</td>\n",
              "      <td>1.0</td>\n",
              "      <td>4.0</td>\n",
              "    </tr>\n",
              "    <tr>\n",
              "      <th>3</th>\n",
              "      <td>100028</td>\n",
              "      <td>Cash loans</td>\n",
              "      <td>F</td>\n",
              "      <td>N</td>\n",
              "      <td>Y</td>\n",
              "      <td>2</td>\n",
              "      <td>315000.0</td>\n",
              "      <td>1575000.0</td>\n",
              "      <td>49018.5</td>\n",
              "      <td>1575000.0</td>\n",
              "      <td>...</td>\n",
              "      <td>0</td>\n",
              "      <td>0</td>\n",
              "      <td>0</td>\n",
              "      <td>0</td>\n",
              "      <td>0.0</td>\n",
              "      <td>0.0</td>\n",
              "      <td>0.0</td>\n",
              "      <td>0.0</td>\n",
              "      <td>0.0</td>\n",
              "      <td>3.0</td>\n",
              "    </tr>\n",
              "    <tr>\n",
              "      <th>4</th>\n",
              "      <td>100038</td>\n",
              "      <td>Cash loans</td>\n",
              "      <td>M</td>\n",
              "      <td>Y</td>\n",
              "      <td>N</td>\n",
              "      <td>1</td>\n",
              "      <td>180000.0</td>\n",
              "      <td>625500.0</td>\n",
              "      <td>32067.0</td>\n",
              "      <td>625500.0</td>\n",
              "      <td>...</td>\n",
              "      <td>0</td>\n",
              "      <td>0</td>\n",
              "      <td>0</td>\n",
              "      <td>0</td>\n",
              "      <td>NaN</td>\n",
              "      <td>NaN</td>\n",
              "      <td>NaN</td>\n",
              "      <td>NaN</td>\n",
              "      <td>NaN</td>\n",
              "      <td>NaN</td>\n",
              "    </tr>\n",
              "  </tbody>\n",
              "</table>\n",
              "<p>5 rows × 74 columns</p>\n",
              "</div>\n",
              "      <button class=\"colab-df-convert\" onclick=\"convertToInteractive('df-6d38a0ae-035d-4734-a6f4-024381288e5d')\"\n",
              "              title=\"Convert this dataframe to an interactive table.\"\n",
              "              style=\"display:none;\">\n",
              "        \n",
              "  <svg xmlns=\"http://www.w3.org/2000/svg\" height=\"24px\"viewBox=\"0 0 24 24\"\n",
              "       width=\"24px\">\n",
              "    <path d=\"M0 0h24v24H0V0z\" fill=\"none\"/>\n",
              "    <path d=\"M18.56 5.44l.94 2.06.94-2.06 2.06-.94-2.06-.94-.94-2.06-.94 2.06-2.06.94zm-11 1L8.5 8.5l.94-2.06 2.06-.94-2.06-.94L8.5 2.5l-.94 2.06-2.06.94zm10 10l.94 2.06.94-2.06 2.06-.94-2.06-.94-.94-2.06-.94 2.06-2.06.94z\"/><path d=\"M17.41 7.96l-1.37-1.37c-.4-.4-.92-.59-1.43-.59-.52 0-1.04.2-1.43.59L10.3 9.45l-7.72 7.72c-.78.78-.78 2.05 0 2.83L4 21.41c.39.39.9.59 1.41.59.51 0 1.02-.2 1.41-.59l7.78-7.78 2.81-2.81c.8-.78.8-2.07 0-2.86zM5.41 20L4 18.59l7.72-7.72 1.47 1.35L5.41 20z\"/>\n",
              "  </svg>\n",
              "      </button>\n",
              "      \n",
              "  <style>\n",
              "    .colab-df-container {\n",
              "      display:flex;\n",
              "      flex-wrap:wrap;\n",
              "      gap: 12px;\n",
              "    }\n",
              "\n",
              "    .colab-df-convert {\n",
              "      background-color: #E8F0FE;\n",
              "      border: none;\n",
              "      border-radius: 50%;\n",
              "      cursor: pointer;\n",
              "      display: none;\n",
              "      fill: #1967D2;\n",
              "      height: 32px;\n",
              "      padding: 0 0 0 0;\n",
              "      width: 32px;\n",
              "    }\n",
              "\n",
              "    .colab-df-convert:hover {\n",
              "      background-color: #E2EBFA;\n",
              "      box-shadow: 0px 1px 2px rgba(60, 64, 67, 0.3), 0px 1px 3px 1px rgba(60, 64, 67, 0.15);\n",
              "      fill: #174EA6;\n",
              "    }\n",
              "\n",
              "    [theme=dark] .colab-df-convert {\n",
              "      background-color: #3B4455;\n",
              "      fill: #D2E3FC;\n",
              "    }\n",
              "\n",
              "    [theme=dark] .colab-df-convert:hover {\n",
              "      background-color: #434B5C;\n",
              "      box-shadow: 0px 1px 3px 1px rgba(0, 0, 0, 0.15);\n",
              "      filter: drop-shadow(0px 1px 2px rgba(0, 0, 0, 0.3));\n",
              "      fill: #FFFFFF;\n",
              "    }\n",
              "  </style>\n",
              "\n",
              "      <script>\n",
              "        const buttonEl =\n",
              "          document.querySelector('#df-6d38a0ae-035d-4734-a6f4-024381288e5d button.colab-df-convert');\n",
              "        buttonEl.style.display =\n",
              "          google.colab.kernel.accessAllowed ? 'block' : 'none';\n",
              "\n",
              "        async function convertToInteractive(key) {\n",
              "          const element = document.querySelector('#df-6d38a0ae-035d-4734-a6f4-024381288e5d');\n",
              "          const dataTable =\n",
              "            await google.colab.kernel.invokeFunction('convertToInteractive',\n",
              "                                                     [key], {});\n",
              "          if (!dataTable) return;\n",
              "\n",
              "          const docLinkHtml = 'Like what you see? Visit the ' +\n",
              "            '<a target=\"_blank\" href=https://colab.research.google.com/notebooks/data_table.ipynb>data table notebook</a>'\n",
              "            + ' to learn more about interactive tables.';\n",
              "          element.innerHTML = '';\n",
              "          dataTable['output_type'] = 'display_data';\n",
              "          await google.colab.output.renderOutput(dataTable, element);\n",
              "          const docLink = document.createElement('div');\n",
              "          docLink.innerHTML = docLinkHtml;\n",
              "          element.appendChild(docLink);\n",
              "        }\n",
              "      </script>\n",
              "    </div>\n",
              "  </div>\n",
              "  "
            ]
          },
          "metadata": {},
          "execution_count": 27
        }
      ]
    },
    {
      "cell_type": "markdown",
      "source": [
        "## **Identifying and handling missing values**"
      ],
      "metadata": {
        "id": "gMwCA_IG_Zqq"
      }
    },
    {
      "cell_type": "code",
      "source": [
        "# Plot the number of missing values\n",
        "fig, ax = plot_missing_values(df_application_test, 'application_test')\n",
        "plt.show()"
      ],
      "metadata": {
        "colab": {
          "base_uri": "https://localhost:8080/",
          "height": 537
        },
        "id": "0O3h7fVchTLl",
        "outputId": "76c64191-c29b-419c-9c50-e10bfa5f0f9b"
      },
      "execution_count": null,
      "outputs": [
        {
          "output_type": "display_data",
          "data": {
            "text/plain": [
              "<Figure size 600x300 with 1 Axes>"
            ],
            "image/png": "[encoded data removed]"
          },
          "metadata": {}
        }
      ]
    },
    {
      "cell_type": "markdown",
      "source": [
        "**Handling missing values in**\n",
        "* `AMT_REQ_CREDIT_BUREAU_HOUR`, \n",
        "* `AMT_REQ_CREDIT_BUREAU_DAY`, \n",
        "* `AMT_REQ_CREDIT_BUREAU_WEEK`, \n",
        "* `AMT_REQ_CREDIT_BUREAU_MON`, \n",
        "* `AMT_REQ_CREDIT_BUREAU_QRT`, \n",
        "* `AMT_REQ_CREDIT_BUREAU_YEAR`\n"
      ],
      "metadata": {
        "id": "T9cfaJDXgAsw"
      }
    },
    {
      "cell_type": "code",
      "source": [
        "# Check and handle missing values in AMT_REQ columns\n",
        "check_missing_AMT_REQ(df_application_test, df_bureau)"
      ],
      "metadata": {
        "colab": {
          "base_uri": "https://localhost:8080/"
        },
        "id": "2OZ1oxL5eQKA",
        "outputId": "101a244c-baab-4daa-f5f8-a61095e6f6a2"
      },
      "execution_count": null,
      "outputs": [
        {
          "output_type": "stream",
          "name": "stdout",
          "text": [
            "No matching SK_ID_CURR values were found in the bureau table.\n",
            "Missing values have been filled with 0.\n"
          ]
        }
      ]
    },
    {
      "cell_type": "markdown",
      "source": [
        "**Handling missing values in `EXT_SOURCE` columns**"
      ],
      "metadata": {
        "id": "freCxVUSgYk6"
      }
    },
    {
      "cell_type": "code",
      "source": [
        "# Calculate the mean of EXT_SOURCE_1, EXT_SOURCE_2, and EXT_SOURCE_3\n",
        "df_application_test['EXT_SOURCE_MEAN'] = df_application_test[\n",
        "    ['EXT_SOURCE_1', 'EXT_SOURCE_2', 'EXT_SOURCE_3']].mean(axis=1)\n",
        "\n",
        "# Calculate the median of EXT_SOURCE_1, EXT_SOURCE_2, and EXT_SOURCE_3\n",
        "df_application_test['EXT_SOURCE_MEDIAN'] = df_application_test[\n",
        "    ['EXT_SOURCE_1', 'EXT_SOURCE_2', 'EXT_SOURCE_3']].median(axis=1)\n",
        "\n",
        "# Drop the columns EXT_SOURCE_1, EXT_SOURCE_2, and EXT_SOURCE_3\n",
        "df_application_test.drop(['EXT_SOURCE_1', 'EXT_SOURCE_2', 'EXT_SOURCE_3'], axis=1, inplace=True)"
      ],
      "metadata": {
        "id": "-8uuzoTUdQgy"
      },
      "execution_count": null,
      "outputs": []
    },
    {
      "cell_type": "code",
      "source": [
        "# check if there is still any missing value\n",
        "df_application_test[['EXT_SOURCE_MEAN', 'EXT_SOURCE_MEDIAN']].isna().sum()"
      ],
      "metadata": {
        "colab": {
          "base_uri": "https://localhost:8080/"
        },
        "id": "BO2iZ2WXfDDg",
        "outputId": "d168ef4b-dd44-48be-af00-6faa30cc5ec4"
      },
      "execution_count": null,
      "outputs": [
        {
          "output_type": "execute_result",
          "data": {
            "text/plain": [
              "EXT_SOURCE_MEAN      7\n",
              "EXT_SOURCE_MEDIAN    7\n",
              "dtype: int64"
            ]
          },
          "metadata": {},
          "execution_count": 31
        }
      ]
    },
    {
      "cell_type": "code",
      "source": [
        "# Calculate the mean value for 'EXT_SOURCE_MEAN' and 'EXT_SOURCE_MEDIAN' in df_application_train\n",
        "mean_ext_source_mean = df_application_train['EXT_SOURCE_MEAN'].mean()\n",
        "mean_ext_source_median = df_application_train['EXT_SOURCE_MEDIAN'].mean()\n",
        "\n",
        "# Fill the missing values in 'EXT_SOURCE_MEAN' and 'EXT_SOURCE_MEDIAN' column with the mean value\n",
        "df_application_test['EXT_SOURCE_MEAN'] = df_application_test['EXT_SOURCE_MEAN'].fillna(mean_ext_source_mean)\n",
        "df_application_test['EXT_SOURCE_MEDIAN'] = df_application_test['EXT_SOURCE_MEDIAN'].fillna(mean_ext_source_median)"
      ],
      "metadata": {
        "id": "Mpg07odXhA_U"
      },
      "execution_count": null,
      "outputs": []
    },
    {
      "cell_type": "markdown",
      "source": [
        "**Handling missing values in `OWN_CAR_AGE` column**"
      ],
      "metadata": {
        "id": "M5tqa4oSiuT_"
      }
    },
    {
      "cell_type": "code",
      "source": [
        "# Check the occurrences of missing values in the 'OWN_CAR_AGE' column, filtered by the 'FLAG_OWN_CAR' column\n",
        "df_application_test[df_application_test['OWN_CAR_AGE'].isna()]['FLAG_OWN_CAR'].value_counts()"
      ],
      "metadata": {
        "colab": {
          "base_uri": "https://localhost:8080/"
        },
        "id": "Mgzrh5hTjJjv",
        "outputId": "1a2552b9-4618-48e6-82d0-58cae34e9782"
      },
      "execution_count": null,
      "outputs": [
        {
          "output_type": "execute_result",
          "data": {
            "text/plain": [
              "N    32311\n",
              "Y        1\n",
              "Name: FLAG_OWN_CAR, dtype: int64"
            ]
          },
          "metadata": {},
          "execution_count": 33
        }
      ]
    },
    {
      "cell_type": "markdown",
      "source": [
        "Apart from one row, it was observed that the missing values in the `OWN_CAR_AGE` column correspond to cases where `FLAG_OWN_CAR` is set to `N`, indicating that the individuals do not own a car. Therefore, for these specific missing values, the `OWN_CAR_AGE` will be filled with 0.\n",
        "\n",
        "In the case of the one missing value where the individual actually owns a car, the `OWN_CAR_AGE` column will be filled with the mean value from the `OWN_CAR_AGE` column in the `df_application_train` dataset."
      ],
      "metadata": {
        "id": "938DthMyj_6r"
      }
    },
    {
      "cell_type": "code",
      "source": [
        "# Get indices where FLAG_OWN_CAR is 'N' and OWN_CAR_AGE is null\n",
        "indices = df_application_test[\n",
        "    (df_application_test['FLAG_OWN_CAR'] == 'N') & df_application_test['OWN_CAR_AGE'].isna()].index\n",
        "\n",
        "# Fill null values with 0 for the selected indices\n",
        "df_application_test.loc[indices, 'OWN_CAR_AGE'] = 0\n",
        "\n",
        "# Fill the last missing value in 'OWN_CAR_AGE' with the mean of 'OWN_CAR_AGE' from df_application_train\n",
        "has_car = df_application_train[df_application_train['FLAG_OWN_CAR'] == 'Y']\n",
        "mean_own_car_age = has_car['OWN_CAR_AGE'].mean()\n",
        "df_application_test['OWN_CAR_AGE'] = df_application_test['OWN_CAR_AGE'].fillna(mean_own_car_age)"
      ],
      "metadata": {
        "id": "KquM7q6tizJT"
      },
      "execution_count": null,
      "outputs": []
    },
    {
      "cell_type": "markdown",
      "source": [
        "**Handling missing values in `AMT_ANNUITY` column**"
      ],
      "metadata": {
        "id": "IMYO4grQmzlN"
      }
    },
    {
      "cell_type": "code",
      "source": [
        "# Check the occurrences of missing values in the 'AMT_ANNUITY' column, filtered by the 'NAME_CONTRACT_TYPE' column\n",
        "df_application_test[df_application_test['AMT_ANNUITY'].isna()]['NAME_CONTRACT_TYPE'].value_counts()"
      ],
      "metadata": {
        "colab": {
          "base_uri": "https://localhost:8080/"
        },
        "id": "E_ybPl1jea3O",
        "outputId": "1816824c-645e-43ed-d8e3-b5b6828c1f0e"
      },
      "execution_count": null,
      "outputs": [
        {
          "output_type": "execute_result",
          "data": {
            "text/plain": [
              "Cash loans    24\n",
              "Name: NAME_CONTRACT_TYPE, dtype: int64"
            ]
          },
          "metadata": {},
          "execution_count": 35
        }
      ]
    },
    {
      "cell_type": "code",
      "source": [
        "# Fill missing values in 'AMT_ANNUITY' with the mean of 'AMT_ANNUITY' from df_application_train\n",
        "is_cash_loans = df_application_train[df_application_train['NAME_CONTRACT_TYPE'] == 'Cash loans']\n",
        "mean_amt_annuity = is_cash_loans['AMT_ANNUITY'].mean()\n",
        "df_application_test['AMT_ANNUITY'] = df_application_test['AMT_ANNUITY'].fillna(mean_amt_annuity)"
      ],
      "metadata": {
        "id": "L8zfl6EWnSaU"
      },
      "execution_count": null,
      "outputs": []
    },
    {
      "cell_type": "markdown",
      "source": [
        "**Handling missing values in `NAME_TYPE_SUITE` column**"
      ],
      "metadata": {
        "id": "vwjgVyRRoMTB"
      }
    },
    {
      "cell_type": "code",
      "source": [
        "# Calculate the mode of NAME_TYPE_SUITE from df_application_train\n",
        "mode_name_type_suite = df_application_train['NAME_TYPE_SUITE'].mode().values[0]\n",
        "\n",
        "# Fill the missing values in NAME_TYPE_SUITE column with the mode\n",
        "df_application_test['NAME_TYPE_SUITE'] = df_application_test['NAME_TYPE_SUITE'].fillna(mode_name_type_suite)"
      ],
      "metadata": {
        "id": "-2vSokvmoyPm"
      },
      "execution_count": null,
      "outputs": []
    },
    {
      "cell_type": "markdown",
      "source": [
        "**Handling missing values in `OBS_30_CNT_SOCIAL_CIRCLE`, `DEF_30_CNT_SOCIAL_CIRCLE`, `OBS_60_CNT_SOCIAL_CIRCLE`, and `DEF_60_CNT_SOCIAL_CIRCLE` column**"
      ],
      "metadata": {
        "id": "7d4AJmhIpuAZ"
      }
    },
    {
      "cell_type": "code",
      "source": [
        "# Fill missing values in OBS_30_CNT_SOCIAL_CIRCLE column\n",
        "df_application_test['OBS_30_CNT_SOCIAL_CIRCLE'].fillna(\n",
        "    df_application_train['OBS_30_CNT_SOCIAL_CIRCLE'].mode().iloc[0], \n",
        "    inplace=True)\n",
        "\n",
        "# Fill missing values in DEF_30_CNT_SOCIAL_CIRCLE column\n",
        "df_application_test['DEF_30_CNT_SOCIAL_CIRCLE'].fillna(\n",
        "    df_application_train['DEF_30_CNT_SOCIAL_CIRCLE'].mode().iloc[0], \n",
        "    inplace=True)\n",
        "\n",
        "# Fill missing values in OBS_60_CNT_SOCIAL_CIRCLE column\n",
        "df_application_test['OBS_60_CNT_SOCIAL_CIRCLE'].fillna(\n",
        "    df_application_train['OBS_60_CNT_SOCIAL_CIRCLE'].mode().iloc[0], \n",
        "    inplace=True)\n",
        "\n",
        "# Fill missing values in DEF_60_CNT_SOCIAL_CIRCLE column\n",
        "df_application_test['DEF_60_CNT_SOCIAL_CIRCLE'].fillna(\n",
        "    df_application_train['DEF_60_CNT_SOCIAL_CIRCLE'].mode().iloc[0], \n",
        "    inplace=True)"
      ],
      "metadata": {
        "id": "XgfbQHsopwBw"
      },
      "execution_count": null,
      "outputs": []
    },
    {
      "cell_type": "markdown",
      "source": [
        "**Handling missing values in `DAYS_EMPLOYED`, `ORGANIZATION_TYPE`, and `OCCUPATION_TYPE` column**"
      ],
      "metadata": {
        "id": "SRKbBQllAdo4"
      }
    },
    {
      "cell_type": "code",
      "source": [
        "df_application_test[df_application_test['DAYS_EMPLOYED'].isna()]['NAME_INCOME_TYPE'].value_counts()"
      ],
      "metadata": {
        "colab": {
          "base_uri": "https://localhost:8080/"
        },
        "id": "lYayCqkCAZMW",
        "outputId": "ecc955d4-3471-4ae8-cd19-3d5c80c1e3b9"
      },
      "execution_count": null,
      "outputs": [
        {
          "output_type": "execute_result",
          "data": {
            "text/plain": [
              "Pensioner     9273\n",
              "Unemployed       1\n",
              "Name: NAME_INCOME_TYPE, dtype: int64"
            ]
          },
          "metadata": {},
          "execution_count": 39
        }
      ]
    },
    {
      "cell_type": "code",
      "source": [
        "df_application_test[df_application_test['ORGANIZATION_TYPE'].isna()]['NAME_INCOME_TYPE'].value_counts()"
      ],
      "metadata": {
        "colab": {
          "base_uri": "https://localhost:8080/"
        },
        "id": "P7Z_2QKOBhJ1",
        "outputId": "70b02d68-888e-4c3f-c4f0-28ce28f9ef9f"
      },
      "execution_count": null,
      "outputs": [
        {
          "output_type": "execute_result",
          "data": {
            "text/plain": [
              "Pensioner     9273\n",
              "Unemployed       1\n",
              "Name: NAME_INCOME_TYPE, dtype: int64"
            ]
          },
          "metadata": {},
          "execution_count": 40
        }
      ]
    },
    {
      "cell_type": "code",
      "source": [
        "df_application_test[df_application_test['OCCUPATION_TYPE'].isna()]['NAME_INCOME_TYPE'].value_counts()"
      ],
      "metadata": {
        "colab": {
          "base_uri": "https://localhost:8080/"
        },
        "id": "OR_DijixBcQq",
        "outputId": "5e89da93-bb04-47c9-ab1e-abd9c3f8074b"
      },
      "execution_count": null,
      "outputs": [
        {
          "output_type": "execute_result",
          "data": {
            "text/plain": [
              "Pensioner               9273\n",
              "Working                 3818\n",
              "Commercial associate    1926\n",
              "State servant            586\n",
              "Businessman                1\n",
              "Unemployed                 1\n",
              "Name: NAME_INCOME_TYPE, dtype: int64"
            ]
          },
          "metadata": {},
          "execution_count": 41
        }
      ]
    },
    {
      "cell_type": "markdown",
      "source": [
        "* **Case 1**: `Unemployed` individuals"
      ],
      "metadata": {
        "id": "KUO8PXMWCX7b"
      }
    },
    {
      "cell_type": "code",
      "source": [
        "# Identify unemployed individuals\n",
        "is_unemployed = df_application_test['NAME_INCOME_TYPE'] == 'Unemployed'\n",
        "\n",
        "# Set 'DAYS_EMPLOYED' to 0 \n",
        "df_application_test.loc[is_unemployed, 'DAYS_EMPLOYED'] = 0\n",
        "# Set 'OCCUPATION_TYPE' to 'None' \n",
        "df_application_test.loc[is_unemployed, 'OCCUPATION_TYPE'] = 'None'\n",
        "# Set 'ORGANIZATION_TYPE' to 'None' \n",
        "df_application_test.loc[is_unemployed, 'ORGANIZATION_TYPE'] = 'None'"
      ],
      "metadata": {
        "id": "CMjz92ZUCeDp"
      },
      "execution_count": null,
      "outputs": []
    },
    {
      "cell_type": "markdown",
      "source": [
        "* **Case 2**: `Pensioner` individuals"
      ],
      "metadata": {
        "id": "hbVGCem4C6R1"
      }
    },
    {
      "cell_type": "code",
      "source": [
        "# Identify the missing pensioner records\n",
        "is_pensioner = df_application_test['NAME_INCOME_TYPE'] == 'Pensioner'\n",
        "is_missing_days_employed = df_application_test['DAYS_EMPLOYED'].isna()\n",
        "is_missing_occupation_type = df_application_test['OCCUPATION_TYPE'].isna()\n",
        "\n",
        "missing_pensioner_records_1 = is_pensioner & is_missing_days_employed\n",
        "missing_pensioner_records_2 = is_pensioner & is_missing_occupation_type\n",
        "\n",
        "# Fill missing values for pensioner records with mean days employed, mode occupation type, \n",
        "# and mode organization type from df_application_train data\n",
        "df_application_test.loc[missing_pensioner_records_1, 'DAYS_EMPLOYED'] = mean_days_employed\n",
        "df_application_test.loc[missing_pensioner_records_1, 'ORGANIZATION_TYPE'] = mode_organization_type\n",
        "df_application_test.loc[missing_pensioner_records_2, 'OCCUPATION_TYPE'] = mode_occupation_type"
      ],
      "metadata": {
        "id": "V7FGulWSC5iX"
      },
      "execution_count": null,
      "outputs": []
    },
    {
      "cell_type": "markdown",
      "source": [
        "* **Case 3**: the others"
      ],
      "metadata": {
        "id": "6YpCNK_WGez4"
      }
    },
    {
      "cell_type": "code",
      "source": [
        "# Create a DataFrame with 'NAME_INCOME_TYPE' and corresponding mode values\n",
        "mode_df = df_application_train.groupby('NAME_INCOME_TYPE')['OCCUPATION_TYPE']\\\n",
        "                              .apply(lambda x: x.mode().iloc[0])\\\n",
        "                              .to_frame(name='OCCUPATION_TYPE_MODE')\\\n",
        "                              .reset_index()"
      ],
      "metadata": {
        "id": "WGePL4reHTPw"
      },
      "execution_count": null,
      "outputs": []
    },
    {
      "cell_type": "code",
      "source": [
        "# Merge mode_df with df_application_test based on 'NAME_INCOME_TYPE'\n",
        "df_application_test = df_application_test.merge(mode_df, on='NAME_INCOME_TYPE', how='left')\n",
        "\n",
        "# Fill missing values in 'OCCUPATION_TYPE' of df_application_test with mode values\n",
        "df_application_test['OCCUPATION_TYPE'].fillna(df_application_test['OCCUPATION_TYPE_MODE'], inplace=True)\n",
        "\n",
        "# Drop the 'OCCUPATION_TYPE_MODE' column\n",
        "df_application_test.drop('OCCUPATION_TYPE_MODE', axis=1, inplace=True)"
      ],
      "metadata": {
        "id": "rBaPfwz-FVqL"
      },
      "execution_count": null,
      "outputs": []
    },
    {
      "cell_type": "markdown",
      "source": [
        "## **Check if there are any missing values for the last time**"
      ],
      "metadata": {
        "id": "Mv2BUjAAx6s2"
      }
    },
    {
      "cell_type": "code",
      "source": [
        "isna_counts = df_application_test.isna().sum()\n",
        "if not isna_counts[isna_counts > 0].any():\n",
        "    print('All clear')\n",
        "else:\n",
        "    print(isna_counts[isna_counts > 0])"
      ],
      "metadata": {
        "colab": {
          "base_uri": "https://localhost:8080/"
        },
        "id": "eqOGQr8ExkJ3",
        "outputId": "94a4c416-bfc7-4e01-ea7d-3612a7be0437"
      },
      "execution_count": null,
      "outputs": [
        {
          "output_type": "stream",
          "name": "stdout",
          "text": [
            "All clear\n"
          ]
        }
      ]
    },
    {
      "cell_type": "markdown",
      "source": [
        "## **Data type conversion**"
      ],
      "metadata": {
        "id": "VfxVaERYpTYJ"
      }
    },
    {
      "cell_type": "code",
      "source": [
        "# Print column names with float data type\n",
        "float_columns = df_application_test.columns[df_application_test.dtypes == float]\n",
        "print(\"Columns with float data type:\", float_columns)"
      ],
      "metadata": {
        "colab": {
          "base_uri": "https://localhost:8080/"
        },
        "id": "MxA7aI4UpRVL",
        "outputId": "bd3cf250-150d-4f84-977b-e8879ae779c3"
      },
      "execution_count": null,
      "outputs": [
        {
          "output_type": "stream",
          "name": "stdout",
          "text": [
            "Columns with float data type: Index(['AMT_INCOME_TOTAL', 'AMT_CREDIT', 'AMT_ANNUITY', 'AMT_GOODS_PRICE',\n",
            "       'REGION_POPULATION_RELATIVE', 'DAYS_EMPLOYED', 'DAYS_REGISTRATION',\n",
            "       'OWN_CAR_AGE', 'CNT_FAM_MEMBERS', 'OBS_30_CNT_SOCIAL_CIRCLE',\n",
            "       'DEF_30_CNT_SOCIAL_CIRCLE', 'OBS_60_CNT_SOCIAL_CIRCLE',\n",
            "       'DEF_60_CNT_SOCIAL_CIRCLE', 'DAYS_LAST_PHONE_CHANGE',\n",
            "       'AMT_REQ_CREDIT_BUREAU_HOUR', 'AMT_REQ_CREDIT_BUREAU_DAY',\n",
            "       'AMT_REQ_CREDIT_BUREAU_WEEK', 'AMT_REQ_CREDIT_BUREAU_MON',\n",
            "       'AMT_REQ_CREDIT_BUREAU_QRT', 'AMT_REQ_CREDIT_BUREAU_YEAR',\n",
            "       'EXT_SOURCE_MEAN', 'EXT_SOURCE_MEDIAN'],\n",
            "      dtype='object')\n"
          ]
        }
      ]
    },
    {
      "cell_type": "code",
      "source": [
        "# List of columns to be converted from float to int data type\n",
        "columns_to_convert = [\n",
        "    'DAYS_EMPLOYED', 'DAYS_REGISTRATION', 'OWN_CAR_AGE', 'CNT_FAM_MEMBERS',\n",
        "    'OBS_30_CNT_SOCIAL_CIRCLE', 'DEF_30_CNT_SOCIAL_CIRCLE', 'OBS_60_CNT_SOCIAL_CIRCLE',\n",
        "    'DEF_60_CNT_SOCIAL_CIRCLE', 'DAYS_LAST_PHONE_CHANGE', 'AMT_REQ_CREDIT_BUREAU_HOUR',\n",
        "    'AMT_REQ_CREDIT_BUREAU_DAY', 'AMT_REQ_CREDIT_BUREAU_WEEK',\n",
        "    'AMT_REQ_CREDIT_BUREAU_MON', 'AMT_REQ_CREDIT_BUREAU_QRT',\n",
        "    'AMT_REQ_CREDIT_BUREAU_YEAR']\n",
        "\n",
        "# Convert the columns from float to int data type\n",
        "df_application_test[columns_to_convert] = df_application_test[columns_to_convert].astype(int)"
      ],
      "metadata": {
        "id": "mzlzqV7SpUk9"
      },
      "execution_count": null,
      "outputs": []
    },
    {
      "cell_type": "markdown",
      "source": [
        "# **Preparing `bureau` data**"
      ],
      "metadata": {
        "id": "OII5zsjj-A7Z"
      }
    },
    {
      "cell_type": "code",
      "source": [
        "# Print the first few rows\n",
        "df_bureau = df_bureau.sort_values(['SK_ID_CURR', 'SK_ID_BUREAU'])\n",
        "df_bureau.head()"
      ],
      "metadata": {
        "colab": {
          "base_uri": "https://localhost:8080/",
          "height": 357
        },
        "id": "bcBhuQj99yW4",
        "outputId": "c48b61d2-b050-4292-aed1-ad20de8d84a9"
      },
      "execution_count": null,
      "outputs": [
        {
          "output_type": "execute_result",
          "data": {
            "text/plain": [
              "        SK_ID_CURR  SK_ID_BUREAU CREDIT_ACTIVE CREDIT_CURRENCY  DAYS_CREDIT  \\\n",
              "248484      100001       5896630        Closed      currency 1         -857   \n",
              "248485      100001       5896631        Closed      currency 1         -909   \n",
              "248486      100001       5896632        Closed      currency 1         -879   \n",
              "248487      100001       5896633        Closed      currency 1        -1572   \n",
              "248488      100001       5896634        Active      currency 1         -559   \n",
              "\n",
              "        CREDIT_DAY_OVERDUE  DAYS_CREDIT_ENDDATE  DAYS_ENDDATE_FACT  \\\n",
              "248484                   0               -492.0             -553.0   \n",
              "248485                   0               -179.0             -877.0   \n",
              "248486                   0               -514.0             -544.0   \n",
              "248487                   0              -1329.0            -1328.0   \n",
              "248488                   0                902.0                NaN   \n",
              "\n",
              "        CNT_CREDIT_PROLONG  AMT_CREDIT_SUM  AMT_CREDIT_SUM_DEBT  \\\n",
              "248484                   0        112500.0                  0.0   \n",
              "248485                   0        279720.0                  0.0   \n",
              "248486                   0         91620.0                  0.0   \n",
              "248487                   0         85500.0                  0.0   \n",
              "248488                   0        337680.0             113166.0   \n",
              "\n",
              "        AMT_CREDIT_SUM_LIMIT  AMT_CREDIT_SUM_OVERDUE      CREDIT_TYPE  \\\n",
              "248484                   0.0                     0.0  Consumer credit   \n",
              "248485                   0.0                     0.0  Consumer credit   \n",
              "248486                   0.0                     0.0  Consumer credit   \n",
              "248487                   0.0                     0.0  Consumer credit   \n",
              "248488                   0.0                     0.0  Consumer credit   \n",
              "\n",
              "        DAYS_CREDIT_UPDATE  \n",
              "248484                -155  \n",
              "248485                -155  \n",
              "248486                -155  \n",
              "248487                -155  \n",
              "248488                  -6  "
            ],
            "text/html": [
              "\n",
              "  <div id=\"df-c7eca1fb-b293-4a15-b0c7-f545545e4de1\">\n",
              "    <div class=\"colab-df-container\">\n",
              "      <div>\n",
              "<style scoped>\n",
              "    .dataframe tbody tr th:only-of-type {\n",
              "        vertical-align: middle;\n",
              "    }\n",
              "\n",
              "    .dataframe tbody tr th {\n",
              "        vertical-align: top;\n",
              "    }\n",
              "\n",
              "    .dataframe thead th {\n",
              "        text-align: right;\n",
              "    }\n",
              "</style>\n",
              "<table border=\"1\" class=\"dataframe\">\n",
              "  <thead>\n",
              "    <tr style=\"text-align: right;\">\n",
              "      <th></th>\n",
              "      <th>SK_ID_CURR</th>\n",
              "      <th>SK_ID_BUREAU</th>\n",
              "      <th>CREDIT_ACTIVE</th>\n",
              "      <th>CREDIT_CURRENCY</th>\n",
              "      <th>DAYS_CREDIT</th>\n",
              "      <th>CREDIT_DAY_OVERDUE</th>\n",
              "      <th>DAYS_CREDIT_ENDDATE</th>\n",
              "      <th>DAYS_ENDDATE_FACT</th>\n",
              "      <th>CNT_CREDIT_PROLONG</th>\n",
              "      <th>AMT_CREDIT_SUM</th>\n",
              "      <th>AMT_CREDIT_SUM_DEBT</th>\n",
              "      <th>AMT_CREDIT_SUM_LIMIT</th>\n",
              "      <th>AMT_CREDIT_SUM_OVERDUE</th>\n",
              "      <th>CREDIT_TYPE</th>\n",
              "      <th>DAYS_CREDIT_UPDATE</th>\n",
              "    </tr>\n",
              "  </thead>\n",
              "  <tbody>\n",
              "    <tr>\n",
              "      <th>248484</th>\n",
              "      <td>100001</td>\n",
              "      <td>5896630</td>\n",
              "      <td>Closed</td>\n",
              "      <td>currency 1</td>\n",
              "      <td>-857</td>\n",
              "      <td>0</td>\n",
              "      <td>-492.0</td>\n",
              "      <td>-553.0</td>\n",
              "      <td>0</td>\n",
              "      <td>112500.0</td>\n",
              "      <td>0.0</td>\n",
              "      <td>0.0</td>\n",
              "      <td>0.0</td>\n",
              "      <td>Consumer credit</td>\n",
              "      <td>-155</td>\n",
              "    </tr>\n",
              "    <tr>\n",
              "      <th>248485</th>\n",
              "      <td>100001</td>\n",
              "      <td>5896631</td>\n",
              "      <td>Closed</td>\n",
              "      <td>currency 1</td>\n",
              "      <td>-909</td>\n",
              "      <td>0</td>\n",
              "      <td>-179.0</td>\n",
              "      <td>-877.0</td>\n",
              "      <td>0</td>\n",
              "      <td>279720.0</td>\n",
              "      <td>0.0</td>\n",
              "      <td>0.0</td>\n",
              "      <td>0.0</td>\n",
              "      <td>Consumer credit</td>\n",
              "      <td>-155</td>\n",
              "    </tr>\n",
              "    <tr>\n",
              "      <th>248486</th>\n",
              "      <td>100001</td>\n",
              "      <td>5896632</td>\n",
              "      <td>Closed</td>\n",
              "      <td>currency 1</td>\n",
              "      <td>-879</td>\n",
              "      <td>0</td>\n",
              "      <td>-514.0</td>\n",
              "      <td>-544.0</td>\n",
              "      <td>0</td>\n",
              "      <td>91620.0</td>\n",
              "      <td>0.0</td>\n",
              "      <td>0.0</td>\n",
              "      <td>0.0</td>\n",
              "      <td>Consumer credit</td>\n",
              "      <td>-155</td>\n",
              "    </tr>\n",
              "    <tr>\n",
              "      <th>248487</th>\n",
              "      <td>100001</td>\n",
              "      <td>5896633</td>\n",
              "      <td>Closed</td>\n",
              "      <td>currency 1</td>\n",
              "      <td>-1572</td>\n",
              "      <td>0</td>\n",
              "      <td>-1329.0</td>\n",
              "      <td>-1328.0</td>\n",
              "      <td>0</td>\n",
              "      <td>85500.0</td>\n",
              "      <td>0.0</td>\n",
              "      <td>0.0</td>\n",
              "      <td>0.0</td>\n",
              "      <td>Consumer credit</td>\n",
              "      <td>-155</td>\n",
              "    </tr>\n",
              "    <tr>\n",
              "      <th>248488</th>\n",
              "      <td>100001</td>\n",
              "      <td>5896634</td>\n",
              "      <td>Active</td>\n",
              "      <td>currency 1</td>\n",
              "      <td>-559</td>\n",
              "      <td>0</td>\n",
              "      <td>902.0</td>\n",
              "      <td>NaN</td>\n",
              "      <td>0</td>\n",
              "      <td>337680.0</td>\n",
              "      <td>113166.0</td>\n",
              "      <td>0.0</td>\n",
              "      <td>0.0</td>\n",
              "      <td>Consumer credit</td>\n",
              "      <td>-6</td>\n",
              "    </tr>\n",
              "  </tbody>\n",
              "</table>\n",
              "</div>\n",
              "      <button class=\"colab-df-convert\" onclick=\"convertToInteractive('df-c7eca1fb-b293-4a15-b0c7-f545545e4de1')\"\n",
              "              title=\"Convert this dataframe to an interactive table.\"\n",
              "              style=\"display:none;\">\n",
              "        \n",
              "  <svg xmlns=\"http://www.w3.org/2000/svg\" height=\"24px\"viewBox=\"0 0 24 24\"\n",
              "       width=\"24px\">\n",
              "    <path d=\"M0 0h24v24H0V0z\" fill=\"none\"/>\n",
              "    <path d=\"M18.56 5.44l.94 2.06.94-2.06 2.06-.94-2.06-.94-.94-2.06-.94 2.06-2.06.94zm-11 1L8.5 8.5l.94-2.06 2.06-.94-2.06-.94L8.5 2.5l-.94 2.06-2.06.94zm10 10l.94 2.06.94-2.06 2.06-.94-2.06-.94-.94-2.06-.94 2.06-2.06.94z\"/><path d=\"M17.41 7.96l-1.37-1.37c-.4-.4-.92-.59-1.43-.59-.52 0-1.04.2-1.43.59L10.3 9.45l-7.72 7.72c-.78.78-.78 2.05 0 2.83L4 21.41c.39.39.9.59 1.41.59.51 0 1.02-.2 1.41-.59l7.78-7.78 2.81-2.81c.8-.78.8-2.07 0-2.86zM5.41 20L4 18.59l7.72-7.72 1.47 1.35L5.41 20z\"/>\n",
              "  </svg>\n",
              "      </button>\n",
              "      \n",
              "  <style>\n",
              "    .colab-df-container {\n",
              "      display:flex;\n",
              "      flex-wrap:wrap;\n",
              "      gap: 12px;\n",
              "    }\n",
              "\n",
              "    .colab-df-convert {\n",
              "      background-color: #E8F0FE;\n",
              "      border: none;\n",
              "      border-radius: 50%;\n",
              "      cursor: pointer;\n",
              "      display: none;\n",
              "      fill: #1967D2;\n",
              "      height: 32px;\n",
              "      padding: 0 0 0 0;\n",
              "      width: 32px;\n",
              "    }\n",
              "\n",
              "    .colab-df-convert:hover {\n",
              "      background-color: #E2EBFA;\n",
              "      box-shadow: 0px 1px 2px rgba(60, 64, 67, 0.3), 0px 1px 3px 1px rgba(60, 64, 67, 0.15);\n",
              "      fill: #174EA6;\n",
              "    }\n",
              "\n",
              "    [theme=dark] .colab-df-convert {\n",
              "      background-color: #3B4455;\n",
              "      fill: #D2E3FC;\n",
              "    }\n",
              "\n",
              "    [theme=dark] .colab-df-convert:hover {\n",
              "      background-color: #434B5C;\n",
              "      box-shadow: 0px 1px 3px 1px rgba(0, 0, 0, 0.15);\n",
              "      filter: drop-shadow(0px 1px 2px rgba(0, 0, 0, 0.3));\n",
              "      fill: #FFFFFF;\n",
              "    }\n",
              "  </style>\n",
              "\n",
              "      <script>\n",
              "        const buttonEl =\n",
              "          document.querySelector('#df-c7eca1fb-b293-4a15-b0c7-f545545e4de1 button.colab-df-convert');\n",
              "        buttonEl.style.display =\n",
              "          google.colab.kernel.accessAllowed ? 'block' : 'none';\n",
              "\n",
              "        async function convertToInteractive(key) {\n",
              "          const element = document.querySelector('#df-c7eca1fb-b293-4a15-b0c7-f545545e4de1');\n",
              "          const dataTable =\n",
              "            await google.colab.kernel.invokeFunction('convertToInteractive',\n",
              "                                                     [key], {});\n",
              "          if (!dataTable) return;\n",
              "\n",
              "          const docLinkHtml = 'Like what you see? Visit the ' +\n",
              "            '<a target=\"_blank\" href=https://colab.research.google.com/notebooks/data_table.ipynb>data table notebook</a>'\n",
              "            + ' to learn more about interactive tables.';\n",
              "          element.innerHTML = '';\n",
              "          dataTable['output_type'] = 'display_data';\n",
              "          await google.colab.output.renderOutput(dataTable, element);\n",
              "          const docLink = document.createElement('div');\n",
              "          docLink.innerHTML = docLinkHtml;\n",
              "          element.appendChild(docLink);\n",
              "        }\n",
              "      </script>\n",
              "    </div>\n",
              "  </div>\n",
              "  "
            ]
          },
          "metadata": {},
          "execution_count": 49
        }
      ]
    },
    {
      "cell_type": "markdown",
      "source": [
        "## **Remove duplicate observations**"
      ],
      "metadata": {
        "id": "hRM4qGJ9ZgnZ"
      }
    },
    {
      "cell_type": "code",
      "source": [
        "columns_to_exclude = ['SK_ID_BUREAU']  # Columns to exclude from duplication check\n",
        "columns_to_check = df_bureau.columns.difference(columns_to_exclude)  # Columns to include in duplication check\n",
        "\n",
        "# Check for duplicates only in the specified columns\n",
        "duplicates = df_bureau.duplicated(subset=columns_to_check)\n",
        "\n",
        "# Access the rows that are not duplicates in the specified columns\n",
        "print('Before:', df_bureau.shape)\n",
        "df_bureau = df_bureau[~duplicates]\n",
        "print('After:', df_bureau.shape)"
      ],
      "metadata": {
        "colab": {
          "base_uri": "https://localhost:8080/"
        },
        "id": "f6qSLYBlVrIB",
        "outputId": "27d75a0b-0734-4242-abec-8d43269510da"
      },
      "execution_count": null,
      "outputs": [
        {
          "output_type": "stream",
          "name": "stdout",
          "text": [
            "Before: (1716428, 15)\n",
            "After: (1713975, 15)\n"
          ]
        }
      ]
    },
    {
      "cell_type": "markdown",
      "source": [
        "**Get the summary statistics**"
      ],
      "metadata": {
        "id": "2FGcfPu3jJVG"
      }
    },
    {
      "cell_type": "code",
      "source": [
        "df_bureau.describe().T.round(1)"
      ],
      "metadata": {
        "colab": {
          "base_uri": "https://localhost:8080/",
          "height": 425
        },
        "id": "0ooDsBtphL1Z",
        "outputId": "f7c1752c-427c-4cd2-f61f-6efc9ef0b912"
      },
      "execution_count": null,
      "outputs": [
        {
          "output_type": "execute_result",
          "data": {
            "text/plain": [
              "                            count       mean        std        min        25%  \\\n",
              "SK_ID_CURR              1713975.0   278212.0   102940.0   100001.0   188862.0   \n",
              "SK_ID_BUREAU            1713975.0  5924367.6   532268.0  5000000.0  5463867.5   \n",
              "DAYS_CREDIT             1713975.0    -1142.6      795.4    -2922.0    -1667.0   \n",
              "CREDIT_DAY_OVERDUE      1713975.0        0.8       36.6        0.0        0.0   \n",
              "DAYS_CREDIT_ENDDATE     1608488.0      509.5     4996.1   -42060.0    -1139.0   \n",
              "DAYS_ENDDATE_FACT       1082142.0    -1017.6      714.0   -42023.0    -1489.0   \n",
              "CNT_CREDIT_PROLONG      1713975.0        0.0        0.1        0.0        0.0   \n",
              "AMT_CREDIT_SUM          1713962.0   355205.9  1145634.5        0.0    51511.5   \n",
              "AMT_CREDIT_SUM_DEBT     1456478.0   137227.0   677597.4 -4705600.3        0.0   \n",
              "AMT_CREDIT_SUM_LIMIT    1122813.0     6226.2    45025.4  -586406.1        0.0   \n",
              "AMT_CREDIT_SUM_OVERDUE  1713975.0       37.9     5941.8        0.0        0.0   \n",
              "DAYS_CREDIT_UPDATE      1713975.0     -594.2      720.3   -41947.0     -909.0   \n",
              "\n",
              "                              50%        75%          max  \n",
              "SK_ID_CURR               278053.0   367422.0     456255.0  \n",
              "SK_ID_BUREAU            5926221.0  6385589.5    6843457.0  \n",
              "DAYS_CREDIT                -988.0     -474.0          0.0  \n",
              "CREDIT_DAY_OVERDUE            0.0        0.0       2792.0  \n",
              "DAYS_CREDIT_ENDDATE        -332.0      470.0      31199.0  \n",
              "DAYS_ENDDATE_FACT          -897.0     -426.0          0.0  \n",
              "CNT_CREDIT_PROLONG            0.0        0.0          9.0  \n",
              "AMT_CREDIT_SUM           125779.5   315000.0  585000000.0  \n",
              "AMT_CREDIT_SUM_DEBT           0.0    40428.0  170100000.0  \n",
              "AMT_CREDIT_SUM_LIMIT          0.0        0.0    4705600.3  \n",
              "AMT_CREDIT_SUM_OVERDUE        0.0        0.0    3756681.0  \n",
              "DAYS_CREDIT_UPDATE         -396.0      -33.0        372.0  "
            ],
            "text/html": [
              "\n",
              "  <div id=\"df-ed02559f-7b26-4b57-a4c2-dfd9aa999a45\">\n",
              "    <div class=\"colab-df-container\">\n",
              "      <div>\n",
              "<style scoped>\n",
              "    .dataframe tbody tr th:only-of-type {\n",
              "        vertical-align: middle;\n",
              "    }\n",
              "\n",
              "    .dataframe tbody tr th {\n",
              "        vertical-align: top;\n",
              "    }\n",
              "\n",
              "    .dataframe thead th {\n",
              "        text-align: right;\n",
              "    }\n",
              "</style>\n",
              "<table border=\"1\" class=\"dataframe\">\n",
              "  <thead>\n",
              "    <tr style=\"text-align: right;\">\n",
              "      <th></th>\n",
              "      <th>count</th>\n",
              "      <th>mean</th>\n",
              "      <th>std</th>\n",
              "      <th>min</th>\n",
              "      <th>25%</th>\n",
              "      <th>50%</th>\n",
              "      <th>75%</th>\n",
              "      <th>max</th>\n",
              "    </tr>\n",
              "  </thead>\n",
              "  <tbody>\n",
              "    <tr>\n",
              "      <th>SK_ID_CURR</th>\n",
              "      <td>1713975.0</td>\n",
              "      <td>278212.0</td>\n",
              "      <td>102940.0</td>\n",
              "      <td>100001.0</td>\n",
              "      <td>188862.0</td>\n",
              "      <td>278053.0</td>\n",
              "      <td>367422.0</td>\n",
              "      <td>456255.0</td>\n",
              "    </tr>\n",
              "    <tr>\n",
              "      <th>SK_ID_BUREAU</th>\n",
              "      <td>1713975.0</td>\n",
              "      <td>5924367.6</td>\n",
              "      <td>532268.0</td>\n",
              "      <td>5000000.0</td>\n",
              "      <td>5463867.5</td>\n",
              "      <td>5926221.0</td>\n",
              "      <td>6385589.5</td>\n",
              "      <td>6843457.0</td>\n",
              "    </tr>\n",
              "    <tr>\n",
              "      <th>DAYS_CREDIT</th>\n",
              "      <td>1713975.0</td>\n",
              "      <td>-1142.6</td>\n",
              "      <td>795.4</td>\n",
              "      <td>-2922.0</td>\n",
              "      <td>-1667.0</td>\n",
              "      <td>-988.0</td>\n",
              "      <td>-474.0</td>\n",
              "      <td>0.0</td>\n",
              "    </tr>\n",
              "    <tr>\n",
              "      <th>CREDIT_DAY_OVERDUE</th>\n",
              "      <td>1713975.0</td>\n",
              "      <td>0.8</td>\n",
              "      <td>36.6</td>\n",
              "      <td>0.0</td>\n",
              "      <td>0.0</td>\n",
              "      <td>0.0</td>\n",
              "      <td>0.0</td>\n",
              "      <td>2792.0</td>\n",
              "    </tr>\n",
              "    <tr>\n",
              "      <th>DAYS_CREDIT_ENDDATE</th>\n",
              "      <td>1608488.0</td>\n",
              "      <td>509.5</td>\n",
              "      <td>4996.1</td>\n",
              "      <td>-42060.0</td>\n",
              "      <td>-1139.0</td>\n",
              "      <td>-332.0</td>\n",
              "      <td>470.0</td>\n",
              "      <td>31199.0</td>\n",
              "    </tr>\n",
              "    <tr>\n",
              "      <th>DAYS_ENDDATE_FACT</th>\n",
              "      <td>1082142.0</td>\n",
              "      <td>-1017.6</td>\n",
              "      <td>714.0</td>\n",
              "      <td>-42023.0</td>\n",
              "      <td>-1489.0</td>\n",
              "      <td>-897.0</td>\n",
              "      <td>-426.0</td>\n",
              "      <td>0.0</td>\n",
              "    </tr>\n",
              "    <tr>\n",
              "      <th>CNT_CREDIT_PROLONG</th>\n",
              "      <td>1713975.0</td>\n",
              "      <td>0.0</td>\n",
              "      <td>0.1</td>\n",
              "      <td>0.0</td>\n",
              "      <td>0.0</td>\n",
              "      <td>0.0</td>\n",
              "      <td>0.0</td>\n",
              "      <td>9.0</td>\n",
              "    </tr>\n",
              "    <tr>\n",
              "      <th>AMT_CREDIT_SUM</th>\n",
              "      <td>1713962.0</td>\n",
              "      <td>355205.9</td>\n",
              "      <td>1145634.5</td>\n",
              "      <td>0.0</td>\n",
              "      <td>51511.5</td>\n",
              "      <td>125779.5</td>\n",
              "      <td>315000.0</td>\n",
              "      <td>585000000.0</td>\n",
              "    </tr>\n",
              "    <tr>\n",
              "      <th>AMT_CREDIT_SUM_DEBT</th>\n",
              "      <td>1456478.0</td>\n",
              "      <td>137227.0</td>\n",
              "      <td>677597.4</td>\n",
              "      <td>-4705600.3</td>\n",
              "      <td>0.0</td>\n",
              "      <td>0.0</td>\n",
              "      <td>40428.0</td>\n",
              "      <td>170100000.0</td>\n",
              "    </tr>\n",
              "    <tr>\n",
              "      <th>AMT_CREDIT_SUM_LIMIT</th>\n",
              "      <td>1122813.0</td>\n",
              "      <td>6226.2</td>\n",
              "      <td>45025.4</td>\n",
              "      <td>-586406.1</td>\n",
              "      <td>0.0</td>\n",
              "      <td>0.0</td>\n",
              "      <td>0.0</td>\n",
              "      <td>4705600.3</td>\n",
              "    </tr>\n",
              "    <tr>\n",
              "      <th>AMT_CREDIT_SUM_OVERDUE</th>\n",
              "      <td>1713975.0</td>\n",
              "      <td>37.9</td>\n",
              "      <td>5941.8</td>\n",
              "      <td>0.0</td>\n",
              "      <td>0.0</td>\n",
              "      <td>0.0</td>\n",
              "      <td>0.0</td>\n",
              "      <td>3756681.0</td>\n",
              "    </tr>\n",
              "    <tr>\n",
              "      <th>DAYS_CREDIT_UPDATE</th>\n",
              "      <td>1713975.0</td>\n",
              "      <td>-594.2</td>\n",
              "      <td>720.3</td>\n",
              "      <td>-41947.0</td>\n",
              "      <td>-909.0</td>\n",
              "      <td>-396.0</td>\n",
              "      <td>-33.0</td>\n",
              "      <td>372.0</td>\n",
              "    </tr>\n",
              "  </tbody>\n",
              "</table>\n",
              "</div>\n",
              "      <button class=\"colab-df-convert\" onclick=\"convertToInteractive('df-ed02559f-7b26-4b57-a4c2-dfd9aa999a45')\"\n",
              "              title=\"Convert this dataframe to an interactive table.\"\n",
              "              style=\"display:none;\">\n",
              "        \n",
              "  <svg xmlns=\"http://www.w3.org/2000/svg\" height=\"24px\"viewBox=\"0 0 24 24\"\n",
              "       width=\"24px\">\n",
              "    <path d=\"M0 0h24v24H0V0z\" fill=\"none\"/>\n",
              "    <path d=\"M18.56 5.44l.94 2.06.94-2.06 2.06-.94-2.06-.94-.94-2.06-.94 2.06-2.06.94zm-11 1L8.5 8.5l.94-2.06 2.06-.94-2.06-.94L8.5 2.5l-.94 2.06-2.06.94zm10 10l.94 2.06.94-2.06 2.06-.94-2.06-.94-.94-2.06-.94 2.06-2.06.94z\"/><path d=\"M17.41 7.96l-1.37-1.37c-.4-.4-.92-.59-1.43-.59-.52 0-1.04.2-1.43.59L10.3 9.45l-7.72 7.72c-.78.78-.78 2.05 0 2.83L4 21.41c.39.39.9.59 1.41.59.51 0 1.02-.2 1.41-.59l7.78-7.78 2.81-2.81c.8-.78.8-2.07 0-2.86zM5.41 20L4 18.59l7.72-7.72 1.47 1.35L5.41 20z\"/>\n",
              "  </svg>\n",
              "      </button>\n",
              "      \n",
              "  <style>\n",
              "    .colab-df-container {\n",
              "      display:flex;\n",
              "      flex-wrap:wrap;\n",
              "      gap: 12px;\n",
              "    }\n",
              "\n",
              "    .colab-df-convert {\n",
              "      background-color: #E8F0FE;\n",
              "      border: none;\n",
              "      border-radius: 50%;\n",
              "      cursor: pointer;\n",
              "      display: none;\n",
              "      fill: #1967D2;\n",
              "      height: 32px;\n",
              "      padding: 0 0 0 0;\n",
              "      width: 32px;\n",
              "    }\n",
              "\n",
              "    .colab-df-convert:hover {\n",
              "      background-color: #E2EBFA;\n",
              "      box-shadow: 0px 1px 2px rgba(60, 64, 67, 0.3), 0px 1px 3px 1px rgba(60, 64, 67, 0.15);\n",
              "      fill: #174EA6;\n",
              "    }\n",
              "\n",
              "    [theme=dark] .colab-df-convert {\n",
              "      background-color: #3B4455;\n",
              "      fill: #D2E3FC;\n",
              "    }\n",
              "\n",
              "    [theme=dark] .colab-df-convert:hover {\n",
              "      background-color: #434B5C;\n",
              "      box-shadow: 0px 1px 3px 1px rgba(0, 0, 0, 0.15);\n",
              "      filter: drop-shadow(0px 1px 2px rgba(0, 0, 0, 0.3));\n",
              "      fill: #FFFFFF;\n",
              "    }\n",
              "  </style>\n",
              "\n",
              "      <script>\n",
              "        const buttonEl =\n",
              "          document.querySelector('#df-ed02559f-7b26-4b57-a4c2-dfd9aa999a45 button.colab-df-convert');\n",
              "        buttonEl.style.display =\n",
              "          google.colab.kernel.accessAllowed ? 'block' : 'none';\n",
              "\n",
              "        async function convertToInteractive(key) {\n",
              "          const element = document.querySelector('#df-ed02559f-7b26-4b57-a4c2-dfd9aa999a45');\n",
              "          const dataTable =\n",
              "            await google.colab.kernel.invokeFunction('convertToInteractive',\n",
              "                                                     [key], {});\n",
              "          if (!dataTable) return;\n",
              "\n",
              "          const docLinkHtml = 'Like what you see? Visit the ' +\n",
              "            '<a target=\"_blank\" href=https://colab.research.google.com/notebooks/data_table.ipynb>data table notebook</a>'\n",
              "            + ' to learn more about interactive tables.';\n",
              "          element.innerHTML = '';\n",
              "          dataTable['output_type'] = 'display_data';\n",
              "          await google.colab.output.renderOutput(dataTable, element);\n",
              "          const docLink = document.createElement('div');\n",
              "          docLink.innerHTML = docLinkHtml;\n",
              "          element.appendChild(docLink);\n",
              "        }\n",
              "      </script>\n",
              "    </div>\n",
              "  </div>\n",
              "  "
            ]
          },
          "metadata": {},
          "execution_count": 51
        }
      ]
    },
    {
      "cell_type": "markdown",
      "source": [
        "I will drop the columns `CREDIT_DAYS_OVERDUE`, `CNT_CREDIT_PROLONG`, `AMT_CREDIT_SUM_LIMIT`, and `AMT_CREDIT_SUM_OVERDUE` where three-quarters of the data in these columns are filled with zeros."
      ],
      "metadata": {
        "id": "7a8OnNeci_VJ"
      }
    },
    {
      "cell_type": "code",
      "source": [
        "df_bureau.drop(\n",
        "    columns=['CREDIT_DAY_OVERDUE', 'CNT_CREDIT_PROLONG', 'AMT_CREDIT_SUM_LIMIT', 'AMT_CREDIT_SUM_OVERDUE'],\n",
        "    inplace=True)"
      ],
      "metadata": {
        "id": "euWFIiv8i-0X"
      },
      "execution_count": null,
      "outputs": []
    },
    {
      "cell_type": "markdown",
      "source": [
        "## **Handling missing values**"
      ],
      "metadata": {
        "id": "ivUvrf0wbeCX"
      }
    },
    {
      "cell_type": "code",
      "source": [
        "# Plot the number of missing values\n",
        "fig, ax = plot_missing_values(df_bureau, 'bureau')\n",
        "plt.show()"
      ],
      "metadata": {
        "colab": {
          "base_uri": "https://localhost:8080/",
          "height": 470
        },
        "id": "LQriYv-8901R",
        "outputId": "84c5c3ef-5571-44eb-8951-ee7c56a122db"
      },
      "execution_count": null,
      "outputs": [
        {
          "output_type": "display_data",
          "data": {
            "text/plain": [
              "<Figure size 600x300 with 1 Axes>"
            ],
            "image/png": "[encoded data removed]"
          },
          "metadata": {}
        }
      ]
    },
    {
      "cell_type": "markdown",
      "source": [
        "I haven't yet determined the appropriate method for imputing missing values in those columns, so for now, I have made the decision to drop all rows with missing values. This allows me to proceed with the analysis while temporarily disregarding the incomplete data."
      ],
      "metadata": {
        "id": "ZjGZc7IjlCfi"
      }
    },
    {
      "cell_type": "code",
      "source": [
        "# Drop missing values\n",
        "df_bureau.dropna(inplace=True)"
      ],
      "metadata": {
        "id": "wIdnBOaRlVb6"
      },
      "execution_count": null,
      "outputs": []
    },
    {
      "cell_type": "markdown",
      "source": [
        "## **Check if there are any missing values for the last time**"
      ],
      "metadata": {
        "id": "K3oKPch5BmQ1"
      }
    },
    {
      "cell_type": "code",
      "source": [
        "isna_counts = df_bureau.isna().sum()\n",
        "if not isna_counts[isna_counts > 0].any():\n",
        "    print('All clear')\n",
        "else:\n",
        "    print(isna_counts[isna_counts > 0])"
      ],
      "metadata": {
        "colab": {
          "base_uri": "https://localhost:8080/"
        },
        "id": "SHWba4--yAP2",
        "outputId": "a0ecdb44-ef71-4477-b98b-b8a559e520a7"
      },
      "execution_count": null,
      "outputs": [
        {
          "output_type": "stream",
          "name": "stdout",
          "text": [
            "All clear\n"
          ]
        }
      ]
    },
    {
      "cell_type": "markdown",
      "source": [
        "## **Data type conversion**"
      ],
      "metadata": {
        "id": "S_vplPpBpzTG"
      }
    },
    {
      "cell_type": "code",
      "source": [
        "# List of columns to be converted from float to int data type\n",
        "columns_to_convert = ['DAYS_CREDIT_ENDDATE', 'DAYS_ENDDATE_FACT']\n",
        "\n",
        "# Convert the columns from float to int data type\n",
        "df_bureau[columns_to_convert] = df_bureau[columns_to_convert].astype(int)"
      ],
      "metadata": {
        "id": "ehvQs127p1I9"
      },
      "execution_count": null,
      "outputs": []
    },
    {
      "cell_type": "markdown",
      "source": [
        "# **Preparing `bureau_balance` data**"
      ],
      "metadata": {
        "id": "yGd2G9yRJnk5"
      }
    },
    {
      "cell_type": "code",
      "source": [
        "# Print the first few rows\n",
        "df_bureau_balance.head()"
      ],
      "metadata": {
        "colab": {
          "base_uri": "https://localhost:8080/",
          "height": 206
        },
        "id": "bJM46GP1JY8F",
        "outputId": "047be1aa-1fc1-427e-93da-0cb33c14b77a"
      },
      "execution_count": null,
      "outputs": [
        {
          "output_type": "execute_result",
          "data": {
            "text/plain": [
              "   SK_ID_BUREAU  MONTHS_BALANCE STATUS\n",
              "0       5715448               0      C\n",
              "1       5715448              -1      C\n",
              "2       5715448              -2      C\n",
              "3       5715448              -3      C\n",
              "4       5715448              -4      C"
            ],
            "text/html": [
              "\n",
              "  <div id=\"df-34659a5f-69a9-4c0d-95f0-c6f1806b7230\">\n",
              "    <div class=\"colab-df-container\">\n",
              "      <div>\n",
              "<style scoped>\n",
              "    .dataframe tbody tr th:only-of-type {\n",
              "        vertical-align: middle;\n",
              "    }\n",
              "\n",
              "    .dataframe tbody tr th {\n",
              "        vertical-align: top;\n",
              "    }\n",
              "\n",
              "    .dataframe thead th {\n",
              "        text-align: right;\n",
              "    }\n",
              "</style>\n",
              "<table border=\"1\" class=\"dataframe\">\n",
              "  <thead>\n",
              "    <tr style=\"text-align: right;\">\n",
              "      <th></th>\n",
              "      <th>SK_ID_BUREAU</th>\n",
              "      <th>MONTHS_BALANCE</th>\n",
              "      <th>STATUS</th>\n",
              "    </tr>\n",
              "  </thead>\n",
              "  <tbody>\n",
              "    <tr>\n",
              "      <th>0</th>\n",
              "      <td>5715448</td>\n",
              "      <td>0</td>\n",
              "      <td>C</td>\n",
              "    </tr>\n",
              "    <tr>\n",
              "      <th>1</th>\n",
              "      <td>5715448</td>\n",
              "      <td>-1</td>\n",
              "      <td>C</td>\n",
              "    </tr>\n",
              "    <tr>\n",
              "      <th>2</th>\n",
              "      <td>5715448</td>\n",
              "      <td>-2</td>\n",
              "      <td>C</td>\n",
              "    </tr>\n",
              "    <tr>\n",
              "      <th>3</th>\n",
              "      <td>5715448</td>\n",
              "      <td>-3</td>\n",
              "      <td>C</td>\n",
              "    </tr>\n",
              "    <tr>\n",
              "      <th>4</th>\n",
              "      <td>5715448</td>\n",
              "      <td>-4</td>\n",
              "      <td>C</td>\n",
              "    </tr>\n",
              "  </tbody>\n",
              "</table>\n",
              "</div>\n",
              "      <button class=\"colab-df-convert\" onclick=\"convertToInteractive('df-34659a5f-69a9-4c0d-95f0-c6f1806b7230')\"\n",
              "              title=\"Convert this dataframe to an interactive table.\"\n",
              "              style=\"display:none;\">\n",
              "        \n",
              "  <svg xmlns=\"http://www.w3.org/2000/svg\" height=\"24px\"viewBox=\"0 0 24 24\"\n",
              "       width=\"24px\">\n",
              "    <path d=\"M0 0h24v24H0V0z\" fill=\"none\"/>\n",
              "    <path d=\"M18.56 5.44l.94 2.06.94-2.06 2.06-.94-2.06-.94-.94-2.06-.94 2.06-2.06.94zm-11 1L8.5 8.5l.94-2.06 2.06-.94-2.06-.94L8.5 2.5l-.94 2.06-2.06.94zm10 10l.94 2.06.94-2.06 2.06-.94-2.06-.94-.94-2.06-.94 2.06-2.06.94z\"/><path d=\"M17.41 7.96l-1.37-1.37c-.4-.4-.92-.59-1.43-.59-.52 0-1.04.2-1.43.59L10.3 9.45l-7.72 7.72c-.78.78-.78 2.05 0 2.83L4 21.41c.39.39.9.59 1.41.59.51 0 1.02-.2 1.41-.59l7.78-7.78 2.81-2.81c.8-.78.8-2.07 0-2.86zM5.41 20L4 18.59l7.72-7.72 1.47 1.35L5.41 20z\"/>\n",
              "  </svg>\n",
              "      </button>\n",
              "      \n",
              "  <style>\n",
              "    .colab-df-container {\n",
              "      display:flex;\n",
              "      flex-wrap:wrap;\n",
              "      gap: 12px;\n",
              "    }\n",
              "\n",
              "    .colab-df-convert {\n",
              "      background-color: #E8F0FE;\n",
              "      border: none;\n",
              "      border-radius: 50%;\n",
              "      cursor: pointer;\n",
              "      display: none;\n",
              "      fill: #1967D2;\n",
              "      height: 32px;\n",
              "      padding: 0 0 0 0;\n",
              "      width: 32px;\n",
              "    }\n",
              "\n",
              "    .colab-df-convert:hover {\n",
              "      background-color: #E2EBFA;\n",
              "      box-shadow: 0px 1px 2px rgba(60, 64, 67, 0.3), 0px 1px 3px 1px rgba(60, 64, 67, 0.15);\n",
              "      fill: #174EA6;\n",
              "    }\n",
              "\n",
              "    [theme=dark] .colab-df-convert {\n",
              "      background-color: #3B4455;\n",
              "      fill: #D2E3FC;\n",
              "    }\n",
              "\n",
              "    [theme=dark] .colab-df-convert:hover {\n",
              "      background-color: #434B5C;\n",
              "      box-shadow: 0px 1px 3px 1px rgba(0, 0, 0, 0.15);\n",
              "      filter: drop-shadow(0px 1px 2px rgba(0, 0, 0, 0.3));\n",
              "      fill: #FFFFFF;\n",
              "    }\n",
              "  </style>\n",
              "\n",
              "      <script>\n",
              "        const buttonEl =\n",
              "          document.querySelector('#df-34659a5f-69a9-4c0d-95f0-c6f1806b7230 button.colab-df-convert');\n",
              "        buttonEl.style.display =\n",
              "          google.colab.kernel.accessAllowed ? 'block' : 'none';\n",
              "\n",
              "        async function convertToInteractive(key) {\n",
              "          const element = document.querySelector('#df-34659a5f-69a9-4c0d-95f0-c6f1806b7230');\n",
              "          const dataTable =\n",
              "            await google.colab.kernel.invokeFunction('convertToInteractive',\n",
              "                                                     [key], {});\n",
              "          if (!dataTable) return;\n",
              "\n",
              "          const docLinkHtml = 'Like what you see? Visit the ' +\n",
              "            '<a target=\"_blank\" href=https://colab.research.google.com/notebooks/data_table.ipynb>data table notebook</a>'\n",
              "            + ' to learn more about interactive tables.';\n",
              "          element.innerHTML = '';\n",
              "          dataTable['output_type'] = 'display_data';\n",
              "          await google.colab.output.renderOutput(dataTable, element);\n",
              "          const docLink = document.createElement('div');\n",
              "          docLink.innerHTML = docLinkHtml;\n",
              "          element.appendChild(docLink);\n",
              "        }\n",
              "      </script>\n",
              "    </div>\n",
              "  </div>\n",
              "  "
            ]
          },
          "metadata": {},
          "execution_count": 57
        }
      ]
    },
    {
      "cell_type": "code",
      "source": [
        "df_bureau_balance.isna().sum()"
      ],
      "metadata": {
        "colab": {
          "base_uri": "https://localhost:8080/"
        },
        "id": "Zie2YpDKJiJp",
        "outputId": "12577410-a0ad-4d83-8602-b8b158dfe8e1"
      },
      "execution_count": null,
      "outputs": [
        {
          "output_type": "execute_result",
          "data": {
            "text/plain": [
              "SK_ID_BUREAU      0\n",
              "MONTHS_BALANCE    0\n",
              "STATUS            0\n",
              "dtype: int64"
            ]
          },
          "metadata": {},
          "execution_count": 58
        }
      ]
    },
    {
      "cell_type": "markdown",
      "source": [
        "# **Preparing `previous_application` data**"
      ],
      "metadata": {
        "id": "UWKH-4Y5Kcig"
      }
    },
    {
      "cell_type": "code",
      "source": [
        "# Print the first few rows\n",
        "df_previous_application = df_previous_application.sort_values(['SK_ID_CURR', 'SK_ID_PREV'])\n",
        "df_previous_application.head()"
      ],
      "metadata": {
        "colab": {
          "base_uri": "https://localhost:8080/",
          "height": 369
        },
        "id": "jhwOqwVhKh94",
        "outputId": "1dee4155-1452-40b7-d076-1d21c28f6210"
      },
      "execution_count": null,
      "outputs": [
        {
          "output_type": "execute_result",
          "data": {
            "text/plain": [
              "         SK_ID_PREV  SK_ID_CURR NAME_CONTRACT_TYPE  AMT_ANNUITY  \\\n",
              "201668      1369693      100001     Consumer loans     3951.000   \n",
              "892077      1038818      100002     Consumer loans     9251.775   \n",
              "575941      1810518      100003         Cash loans    98356.995   \n",
              "1223745     2396755      100003     Consumer loans     6737.310   \n",
              "1021650     2636178      100003     Consumer loans    64567.665   \n",
              "\n",
              "         AMT_APPLICATION  AMT_CREDIT  AMT_GOODS_PRICE  \\\n",
              "201668           24835.5     23787.0          24835.5   \n",
              "892077          179055.0    179055.0         179055.0   \n",
              "575941          900000.0   1035882.0         900000.0   \n",
              "1223745          68809.5     68053.5          68809.5   \n",
              "1021650         337500.0    348637.5         337500.0   \n",
              "\n",
              "        WEEKDAY_APPR_PROCESS_START  HOUR_APPR_PROCESS_START  \\\n",
              "201668                      FRIDAY                       13   \n",
              "892077                    SATURDAY                        9   \n",
              "575941                      FRIDAY                       12   \n",
              "1223745                   SATURDAY                       15   \n",
              "1021650                     SUNDAY                       17   \n",
              "\n",
              "        FLAG_LAST_APPL_PER_CONTRACT  ...  NAME_CONTRACT_STATUS DAYS_DECISION  \\\n",
              "201668                            Y  ...              Approved         -1740   \n",
              "892077                            Y  ...              Approved          -606   \n",
              "575941                            Y  ...              Approved          -746   \n",
              "1223745                           Y  ...              Approved         -2341   \n",
              "1021650                           Y  ...              Approved          -828   \n",
              "\n",
              "             NAME_PAYMENT_TYPE CODE_REJECT_REASON NAME_CLIENT_TYPE  \\\n",
              "201668   Cash through the bank                XAP        Refreshed   \n",
              "892077                     NaN                XAP              New   \n",
              "575941                     NaN                XAP         Repeater   \n",
              "1223745  Cash through the bank                XAP        Refreshed   \n",
              "1021650  Cash through the bank                XAP        Refreshed   \n",
              "\n",
              "        NAME_PORTFOLIO             CHANNEL_TYPE CNT_PAYMENT  NAME_YIELD_GROUP  \\\n",
              "201668             POS             Country-wide         8.0              high   \n",
              "892077             POS                    Stone        24.0        low_normal   \n",
              "575941            Cash  Credit and cash offices        12.0        low_normal   \n",
              "1223745            POS             Country-wide        12.0            middle   \n",
              "1021650            POS                    Stone         6.0            middle   \n",
              "\n",
              "                 PRODUCT_COMBINATION  \n",
              "201668      POS mobile with interest  \n",
              "892077       POS other with interest  \n",
              "575941              Cash X-Sell: low  \n",
              "1223745  POS household with interest  \n",
              "1021650   POS industry with interest  \n",
              "\n",
              "[5 rows x 21 columns]"
            ],
            "text/html": [
              "\n",
              "  <div id=\"df-f121f86a-b8f0-4675-9f26-e2b704b5ce13\">\n",
              "    <div class=\"colab-df-container\">\n",
              "      <div>\n",
              "<style scoped>\n",
              "    .dataframe tbody tr th:only-of-type {\n",
              "        vertical-align: middle;\n",
              "    }\n",
              "\n",
              "    .dataframe tbody tr th {\n",
              "        vertical-align: top;\n",
              "    }\n",
              "\n",
              "    .dataframe thead th {\n",
              "        text-align: right;\n",
              "    }\n",
              "</style>\n",
              "<table border=\"1\" class=\"dataframe\">\n",
              "  <thead>\n",
              "    <tr style=\"text-align: right;\">\n",
              "      <th></th>\n",
              "      <th>SK_ID_PREV</th>\n",
              "      <th>SK_ID_CURR</th>\n",
              "      <th>NAME_CONTRACT_TYPE</th>\n",
              "      <th>AMT_ANNUITY</th>\n",
              "      <th>AMT_APPLICATION</th>\n",
              "      <th>AMT_CREDIT</th>\n",
              "      <th>AMT_GOODS_PRICE</th>\n",
              "      <th>WEEKDAY_APPR_PROCESS_START</th>\n",
              "      <th>HOUR_APPR_PROCESS_START</th>\n",
              "      <th>FLAG_LAST_APPL_PER_CONTRACT</th>\n",
              "      <th>...</th>\n",
              "      <th>NAME_CONTRACT_STATUS</th>\n",
              "      <th>DAYS_DECISION</th>\n",
              "      <th>NAME_PAYMENT_TYPE</th>\n",
              "      <th>CODE_REJECT_REASON</th>\n",
              "      <th>NAME_CLIENT_TYPE</th>\n",
              "      <th>NAME_PORTFOLIO</th>\n",
              "      <th>CHANNEL_TYPE</th>\n",
              "      <th>CNT_PAYMENT</th>\n",
              "      <th>NAME_YIELD_GROUP</th>\n",
              "      <th>PRODUCT_COMBINATION</th>\n",
              "    </tr>\n",
              "  </thead>\n",
              "  <tbody>\n",
              "    <tr>\n",
              "      <th>201668</th>\n",
              "      <td>1369693</td>\n",
              "      <td>100001</td>\n",
              "      <td>Consumer loans</td>\n",
              "      <td>3951.000</td>\n",
              "      <td>24835.5</td>\n",
              "      <td>23787.0</td>\n",
              "      <td>24835.5</td>\n",
              "      <td>FRIDAY</td>\n",
              "      <td>13</td>\n",
              "      <td>Y</td>\n",
              "      <td>...</td>\n",
              "      <td>Approved</td>\n",
              "      <td>-1740</td>\n",
              "      <td>Cash through the bank</td>\n",
              "      <td>XAP</td>\n",
              "      <td>Refreshed</td>\n",
              "      <td>POS</td>\n",
              "      <td>Country-wide</td>\n",
              "      <td>8.0</td>\n",
              "      <td>high</td>\n",
              "      <td>POS mobile with interest</td>\n",
              "    </tr>\n",
              "    <tr>\n",
              "      <th>892077</th>\n",
              "      <td>1038818</td>\n",
              "      <td>100002</td>\n",
              "      <td>Consumer loans</td>\n",
              "      <td>9251.775</td>\n",
              "      <td>179055.0</td>\n",
              "      <td>179055.0</td>\n",
              "      <td>179055.0</td>\n",
              "      <td>SATURDAY</td>\n",
              "      <td>9</td>\n",
              "      <td>Y</td>\n",
              "      <td>...</td>\n",
              "      <td>Approved</td>\n",
              "      <td>-606</td>\n",
              "      <td>NaN</td>\n",
              "      <td>XAP</td>\n",
              "      <td>New</td>\n",
              "      <td>POS</td>\n",
              "      <td>Stone</td>\n",
              "      <td>24.0</td>\n",
              "      <td>low_normal</td>\n",
              "      <td>POS other with interest</td>\n",
              "    </tr>\n",
              "    <tr>\n",
              "      <th>575941</th>\n",
              "      <td>1810518</td>\n",
              "      <td>100003</td>\n",
              "      <td>Cash loans</td>\n",
              "      <td>98356.995</td>\n",
              "      <td>900000.0</td>\n",
              "      <td>1035882.0</td>\n",
              "      <td>900000.0</td>\n",
              "      <td>FRIDAY</td>\n",
              "      <td>12</td>\n",
              "      <td>Y</td>\n",
              "      <td>...</td>\n",
              "      <td>Approved</td>\n",
              "      <td>-746</td>\n",
              "      <td>NaN</td>\n",
              "      <td>XAP</td>\n",
              "      <td>Repeater</td>\n",
              "      <td>Cash</td>\n",
              "      <td>Credit and cash offices</td>\n",
              "      <td>12.0</td>\n",
              "      <td>low_normal</td>\n",
              "      <td>Cash X-Sell: low</td>\n",
              "    </tr>\n",
              "    <tr>\n",
              "      <th>1223745</th>\n",
              "      <td>2396755</td>\n",
              "      <td>100003</td>\n",
              "      <td>Consumer loans</td>\n",
              "      <td>6737.310</td>\n",
              "      <td>68809.5</td>\n",
              "      <td>68053.5</td>\n",
              "      <td>68809.5</td>\n",
              "      <td>SATURDAY</td>\n",
              "      <td>15</td>\n",
              "      <td>Y</td>\n",
              "      <td>...</td>\n",
              "      <td>Approved</td>\n",
              "      <td>-2341</td>\n",
              "      <td>Cash through the bank</td>\n",
              "      <td>XAP</td>\n",
              "      <td>Refreshed</td>\n",
              "      <td>POS</td>\n",
              "      <td>Country-wide</td>\n",
              "      <td>12.0</td>\n",
              "      <td>middle</td>\n",
              "      <td>POS household with interest</td>\n",
              "    </tr>\n",
              "    <tr>\n",
              "      <th>1021650</th>\n",
              "      <td>2636178</td>\n",
              "      <td>100003</td>\n",
              "      <td>Consumer loans</td>\n",
              "      <td>64567.665</td>\n",
              "      <td>337500.0</td>\n",
              "      <td>348637.5</td>\n",
              "      <td>337500.0</td>\n",
              "      <td>SUNDAY</td>\n",
              "      <td>17</td>\n",
              "      <td>Y</td>\n",
              "      <td>...</td>\n",
              "      <td>Approved</td>\n",
              "      <td>-828</td>\n",
              "      <td>Cash through the bank</td>\n",
              "      <td>XAP</td>\n",
              "      <td>Refreshed</td>\n",
              "      <td>POS</td>\n",
              "      <td>Stone</td>\n",
              "      <td>6.0</td>\n",
              "      <td>middle</td>\n",
              "      <td>POS industry with interest</td>\n",
              "    </tr>\n",
              "  </tbody>\n",
              "</table>\n",
              "<p>5 rows × 21 columns</p>\n",
              "</div>\n",
              "      <button class=\"colab-df-convert\" onclick=\"convertToInteractive('df-f121f86a-b8f0-4675-9f26-e2b704b5ce13')\"\n",
              "              title=\"Convert this dataframe to an interactive table.\"\n",
              "              style=\"display:none;\">\n",
              "        \n",
              "  <svg xmlns=\"http://www.w3.org/2000/svg\" height=\"24px\"viewBox=\"0 0 24 24\"\n",
              "       width=\"24px\">\n",
              "    <path d=\"M0 0h24v24H0V0z\" fill=\"none\"/>\n",
              "    <path d=\"M18.56 5.44l.94 2.06.94-2.06 2.06-.94-2.06-.94-.94-2.06-.94 2.06-2.06.94zm-11 1L8.5 8.5l.94-2.06 2.06-.94-2.06-.94L8.5 2.5l-.94 2.06-2.06.94zm10 10l.94 2.06.94-2.06 2.06-.94-2.06-.94-.94-2.06-.94 2.06-2.06.94z\"/><path d=\"M17.41 7.96l-1.37-1.37c-.4-.4-.92-.59-1.43-.59-.52 0-1.04.2-1.43.59L10.3 9.45l-7.72 7.72c-.78.78-.78 2.05 0 2.83L4 21.41c.39.39.9.59 1.41.59.51 0 1.02-.2 1.41-.59l7.78-7.78 2.81-2.81c.8-.78.8-2.07 0-2.86zM5.41 20L4 18.59l7.72-7.72 1.47 1.35L5.41 20z\"/>\n",
              "  </svg>\n",
              "      </button>\n",
              "      \n",
              "  <style>\n",
              "    .colab-df-container {\n",
              "      display:flex;\n",
              "      flex-wrap:wrap;\n",
              "      gap: 12px;\n",
              "    }\n",
              "\n",
              "    .colab-df-convert {\n",
              "      background-color: #E8F0FE;\n",
              "      border: none;\n",
              "      border-radius: 50%;\n",
              "      cursor: pointer;\n",
              "      display: none;\n",
              "      fill: #1967D2;\n",
              "      height: 32px;\n",
              "      padding: 0 0 0 0;\n",
              "      width: 32px;\n",
              "    }\n",
              "\n",
              "    .colab-df-convert:hover {\n",
              "      background-color: #E2EBFA;\n",
              "      box-shadow: 0px 1px 2px rgba(60, 64, 67, 0.3), 0px 1px 3px 1px rgba(60, 64, 67, 0.15);\n",
              "      fill: #174EA6;\n",
              "    }\n",
              "\n",
              "    [theme=dark] .colab-df-convert {\n",
              "      background-color: #3B4455;\n",
              "      fill: #D2E3FC;\n",
              "    }\n",
              "\n",
              "    [theme=dark] .colab-df-convert:hover {\n",
              "      background-color: #434B5C;\n",
              "      box-shadow: 0px 1px 3px 1px rgba(0, 0, 0, 0.15);\n",
              "      filter: drop-shadow(0px 1px 2px rgba(0, 0, 0, 0.3));\n",
              "      fill: #FFFFFF;\n",
              "    }\n",
              "  </style>\n",
              "\n",
              "      <script>\n",
              "        const buttonEl =\n",
              "          document.querySelector('#df-f121f86a-b8f0-4675-9f26-e2b704b5ce13 button.colab-df-convert');\n",
              "        buttonEl.style.display =\n",
              "          google.colab.kernel.accessAllowed ? 'block' : 'none';\n",
              "\n",
              "        async function convertToInteractive(key) {\n",
              "          const element = document.querySelector('#df-f121f86a-b8f0-4675-9f26-e2b704b5ce13');\n",
              "          const dataTable =\n",
              "            await google.colab.kernel.invokeFunction('convertToInteractive',\n",
              "                                                     [key], {});\n",
              "          if (!dataTable) return;\n",
              "\n",
              "          const docLinkHtml = 'Like what you see? Visit the ' +\n",
              "            '<a target=\"_blank\" href=https://colab.research.google.com/notebooks/data_table.ipynb>data table notebook</a>'\n",
              "            + ' to learn more about interactive tables.';\n",
              "          element.innerHTML = '';\n",
              "          dataTable['output_type'] = 'display_data';\n",
              "          await google.colab.output.renderOutput(dataTable, element);\n",
              "          const docLink = document.createElement('div');\n",
              "          docLink.innerHTML = docLinkHtml;\n",
              "          element.appendChild(docLink);\n",
              "        }\n",
              "      </script>\n",
              "    </div>\n",
              "  </div>\n",
              "  "
            ]
          },
          "metadata": {},
          "execution_count": 59
        }
      ]
    },
    {
      "cell_type": "markdown",
      "source": [
        "## **Remove duplicate observations**"
      ],
      "metadata": {
        "id": "_zsGb9DzswfU"
      }
    },
    {
      "cell_type": "code",
      "source": [
        "columns_to_exclude = ['SK_ID_PREV']  # Columns to exclude from duplication check\n",
        "columns_to_check = df_previous_application.columns.difference(columns_to_exclude)  # Columns to include in duplication check\n",
        "\n",
        "# Check for duplicates only in the specified columns\n",
        "duplicates = df_previous_application.duplicated(subset=columns_to_check)\n",
        "\n",
        "# Access the rows that are not duplicates in the specified columns\n",
        "print('Before:', df_previous_application.shape)\n",
        "df_previous_application = df_previous_application[~duplicates]\n",
        "print('After:', df_previous_application.shape)"
      ],
      "metadata": {
        "colab": {
          "base_uri": "https://localhost:8080/"
        },
        "id": "TELJZaY7qW4B",
        "outputId": "981ea2a6-ec75-4f31-f16e-aaef2bc875d9"
      },
      "execution_count": null,
      "outputs": [
        {
          "output_type": "stream",
          "name": "stdout",
          "text": [
            "Before: (1670214, 21)\n",
            "After: (1612082, 21)\n"
          ]
        }
      ]
    },
    {
      "cell_type": "markdown",
      "source": [
        "## **Handling missing values**"
      ],
      "metadata": {
        "id": "bvEOu20Is7hp"
      }
    },
    {
      "cell_type": "code",
      "source": [
        "# Plot the number of missing values\n",
        "fig, ax = plot_missing_values(df_previous_application, 'previous_application')\n",
        "plt.show()"
      ],
      "metadata": {
        "colab": {
          "base_uri": "https://localhost:8080/",
          "height": 473
        },
        "id": "eerzYqPvKl0q",
        "outputId": "a8962445-fc3d-4b85-bdd3-021763834d5e"
      },
      "execution_count": null,
      "outputs": [
        {
          "output_type": "display_data",
          "data": {
            "text/plain": [
              "<Figure size 600x300 with 1 Axes>"
            ],
            "image/png": "[encoded data removed]"
          },
          "metadata": {}
        }
      ]
    },
    {
      "cell_type": "markdown",
      "source": [
        "> **Handling missing values in `NAME_PAYMENT_TYPE` columns**"
      ],
      "metadata": {
        "id": "deUZrFuY5Gfj"
      }
    },
    {
      "cell_type": "code",
      "source": [
        "# Extract rows with missing values in 'NAME_PAYMENT_TYPE'\n",
        "missing_payment_type = df_previous_application[df_previous_application['NAME_PAYMENT_TYPE'].isna()]"
      ],
      "metadata": {
        "id": "1A4Q_ukp7u_2"
      },
      "execution_count": null,
      "outputs": []
    },
    {
      "cell_type": "code",
      "source": [
        "# Count the occurrences of each 'NAME_CONTRACT_STATUS' category in the extracted rows\n",
        "missing_payment_type['NAME_CONTRACT_STATUS'].value_counts()"
      ],
      "metadata": {
        "colab": {
          "base_uri": "https://localhost:8080/"
        },
        "id": "VE2jzC_N7stx",
        "outputId": "cf5c34e5-95fd-4d5c-e0ad-f48802890f2e"
      },
      "execution_count": null,
      "outputs": [
        {
          "output_type": "execute_result",
          "data": {
            "text/plain": [
              "Canceled        264690\n",
              "Approved        211240\n",
              "Refused          97617\n",
              "Unused offer       509\n",
              "Name: NAME_CONTRACT_STATUS, dtype: int64"
            ]
          },
          "metadata": {},
          "execution_count": 63
        }
      ]
    },
    {
      "cell_type": "code",
      "source": [
        "# Count the occurrences of each 'NAME_CONTRACT_STATUS' category in the extracted rows\n",
        "missing_payment_type['NAME_CLIENT_TYPE'].value_counts()"
      ],
      "metadata": {
        "colab": {
          "base_uri": "https://localhost:8080/"
        },
        "id": "3fqcKcMs74dE",
        "outputId": "a11dade7-5785-4837-91bb-587be00401be"
      },
      "execution_count": null,
      "outputs": [
        {
          "output_type": "execute_result",
          "data": {
            "text/plain": [
              "Repeater     481687\n",
              "New           50229\n",
              "Refreshed     41015\n",
              "Name: NAME_CLIENT_TYPE, dtype: int64"
            ]
          },
          "metadata": {},
          "execution_count": 64
        }
      ]
    },
    {
      "cell_type": "markdown",
      "source": [
        "The missing values in the `NAME_PAYMENT_TYPE` column are present in both approved and non-approved applications. Therefore, it cannot be assumed that the missing values are only related to applications that were not processed further. Additionally, a large portion of these applications belong to repeater clients, indicating that they are not completely new clients. To handle these missing values, I will impute them using the mode of the `NAME_PAYMENT_TYPE` column."
      ],
      "metadata": {
        "id": "Q-aeaUzH9tjC"
      }
    },
    {
      "cell_type": "code",
      "source": [
        "# Calculate the mode of the NAME_PAYMENT_TYPE column\n",
        "mode_payment_type = df_previous_application['NAME_PAYMENT_TYPE'].mode().values[0]\n",
        "print(mode_payment_type)\n",
        "\n",
        "# Fill the missing values with the mode\n",
        "df_previous_application['NAME_PAYMENT_TYPE'].fillna(mode_payment_type, inplace=True)"
      ],
      "metadata": {
        "colab": {
          "base_uri": "https://localhost:8080/"
        },
        "id": "Lg8VDQWFioRE",
        "outputId": "6086e96a-46bd-4fb0-de56-e4a9ba79b6f8"
      },
      "execution_count": null,
      "outputs": [
        {
          "output_type": "stream",
          "name": "stdout",
          "text": [
            "Cash through the bank\n"
          ]
        }
      ]
    },
    {
      "cell_type": "markdown",
      "source": [
        "> **Handling missing values in `NAME_YIELD_GROUP` columns**"
      ],
      "metadata": {
        "id": "LUKv-Zc6-1E2"
      }
    },
    {
      "cell_type": "code",
      "source": [
        "# Group data by \"NAME_YIELD_GROUP\"\n",
        "groups = df_previous_application.groupby('NAME_YIELD_GROUP')\n",
        "\n",
        "# Plot the histogram\n",
        "fig, ax = plt.subplots(figsize=(6, 3))\n",
        "for i, (name, group) in enumerate(groups):\n",
        "    ax.hist(group['AMT_CREDIT'], bins=10, alpha=0.7, label=name)\n",
        "\n",
        "# Set labels and title\n",
        "ax.set_xlabel('Credit Amount')\n",
        "ax.set_ylabel('Frequency')\n",
        "ax.set_title('Histogram of Credit Amount by Yield Group Name')\n",
        "\n",
        "# Format y-axis ticks as thousands\n",
        "formatter = ticker.FuncFormatter(lambda x, pos: f'{int(x/1000)}k' if x != 0 else '0')\n",
        "ax.yaxis.set_major_formatter(formatter)\n",
        "\n",
        "# Add a legend\n",
        "ax.legend()\n",
        "\n",
        "# Show the plot\n",
        "plt.show()\n"
      ],
      "metadata": {
        "colab": {
          "base_uri": "https://localhost:8080/",
          "height": 333
        },
        "id": "iuGtsLjUAsXA",
        "outputId": "71667c7b-fa44-4996-9747-7ae2d33fa54f"
      },
      "execution_count": null,
      "outputs": [
        {
          "output_type": "display_data",
          "data": {
            "text/plain": [
              "<Figure size 600x300 with 1 Axes>"
            ],
            "image/png": "[encoded data removed]"
          },
          "metadata": {}
        }
      ]
    },
    {
      "cell_type": "markdown",
      "source": [
        "I expected the yield group to be based on the credit amount, but apparently it is not. Therefore, I will impute the missing values in this column with the mode of the column."
      ],
      "metadata": {
        "id": "x9Ts-shQK_xZ"
      }
    },
    {
      "cell_type": "code",
      "source": [
        "# Calculate the mode of the NAME_YIELD_GROUP column\n",
        "mode_yield_group = df_previous_application['NAME_YIELD_GROUP'].mode().values[0]\n",
        "print(mode_yield_group)\n",
        "\n",
        "# Fill the missing values with the mode\n",
        "df_previous_application['NAME_YIELD_GROUP'].fillna(mode_yield_group, inplace=True)"
      ],
      "metadata": {
        "colab": {
          "base_uri": "https://localhost:8080/"
        },
        "id": "Qtt8K26KKLfo",
        "outputId": "221dd724-911b-44b6-96e0-0fdcac6ac6aa"
      },
      "execution_count": null,
      "outputs": [
        {
          "output_type": "stream",
          "name": "stdout",
          "text": [
            "middle\n"
          ]
        }
      ]
    },
    {
      "cell_type": "markdown",
      "source": [
        "> **Handling missing values in `AMT_CREDIT` columns**"
      ],
      "metadata": {
        "id": "kRgE1Y8DkcJ8"
      }
    },
    {
      "cell_type": "code",
      "source": [
        "# View the row with missing AMT_CREDIT\n",
        "df_previous_application[df_previous_application['AMT_CREDIT'].isna()]"
      ],
      "metadata": {
        "colab": {
          "base_uri": "https://localhost:8080/",
          "height": 191
        },
        "id": "OgaeJjqlkcut",
        "outputId": "f9986a41-5744-4a90-e83a-df2cf682ff72"
      },
      "execution_count": null,
      "outputs": [
        {
          "output_type": "execute_result",
          "data": {
            "text/plain": [
              "         SK_ID_PREV  SK_ID_CURR NAME_CONTRACT_TYPE  AMT_ANNUITY  \\\n",
              "1127152     2204450      438387    Revolving loans          0.0   \n",
              "\n",
              "         AMT_APPLICATION  AMT_CREDIT  AMT_GOODS_PRICE  \\\n",
              "1127152              0.0         NaN              NaN   \n",
              "\n",
              "        WEEKDAY_APPR_PROCESS_START  HOUR_APPR_PROCESS_START  \\\n",
              "1127152                     FRIDAY                       10   \n",
              "\n",
              "        FLAG_LAST_APPL_PER_CONTRACT  ...  NAME_CONTRACT_STATUS DAYS_DECISION  \\\n",
              "1127152                           Y  ...              Approved          -608   \n",
              "\n",
              "             NAME_PAYMENT_TYPE CODE_REJECT_REASON NAME_CLIENT_TYPE  \\\n",
              "1127152  Cash through the bank                XAP         Repeater   \n",
              "\n",
              "        NAME_PORTFOLIO  CHANNEL_TYPE CNT_PAYMENT  NAME_YIELD_GROUP  \\\n",
              "1127152          Cards  Country-wide         0.0            middle   \n",
              "\n",
              "        PRODUCT_COMBINATION  \n",
              "1127152         Card Street  \n",
              "\n",
              "[1 rows x 21 columns]"
            ],
            "text/html": [
              "\n",
              "  <div id=\"df-ab72d285-5425-4cd7-86f8-a57044c0c493\">\n",
              "    <div class=\"colab-df-container\">\n",
              "      <div>\n",
              "<style scoped>\n",
              "    .dataframe tbody tr th:only-of-type {\n",
              "        vertical-align: middle;\n",
              "    }\n",
              "\n",
              "    .dataframe tbody tr th {\n",
              "        vertical-align: top;\n",
              "    }\n",
              "\n",
              "    .dataframe thead th {\n",
              "        text-align: right;\n",
              "    }\n",
              "</style>\n",
              "<table border=\"1\" class=\"dataframe\">\n",
              "  <thead>\n",
              "    <tr style=\"text-align: right;\">\n",
              "      <th></th>\n",
              "      <th>SK_ID_PREV</th>\n",
              "      <th>SK_ID_CURR</th>\n",
              "      <th>NAME_CONTRACT_TYPE</th>\n",
              "      <th>AMT_ANNUITY</th>\n",
              "      <th>AMT_APPLICATION</th>\n",
              "      <th>AMT_CREDIT</th>\n",
              "      <th>AMT_GOODS_PRICE</th>\n",
              "      <th>WEEKDAY_APPR_PROCESS_START</th>\n",
              "      <th>HOUR_APPR_PROCESS_START</th>\n",
              "      <th>FLAG_LAST_APPL_PER_CONTRACT</th>\n",
              "      <th>...</th>\n",
              "      <th>NAME_CONTRACT_STATUS</th>\n",
              "      <th>DAYS_DECISION</th>\n",
              "      <th>NAME_PAYMENT_TYPE</th>\n",
              "      <th>CODE_REJECT_REASON</th>\n",
              "      <th>NAME_CLIENT_TYPE</th>\n",
              "      <th>NAME_PORTFOLIO</th>\n",
              "      <th>CHANNEL_TYPE</th>\n",
              "      <th>CNT_PAYMENT</th>\n",
              "      <th>NAME_YIELD_GROUP</th>\n",
              "      <th>PRODUCT_COMBINATION</th>\n",
              "    </tr>\n",
              "  </thead>\n",
              "  <tbody>\n",
              "    <tr>\n",
              "      <th>1127152</th>\n",
              "      <td>2204450</td>\n",
              "      <td>438387</td>\n",
              "      <td>Revolving loans</td>\n",
              "      <td>0.0</td>\n",
              "      <td>0.0</td>\n",
              "      <td>NaN</td>\n",
              "      <td>NaN</td>\n",
              "      <td>FRIDAY</td>\n",
              "      <td>10</td>\n",
              "      <td>Y</td>\n",
              "      <td>...</td>\n",
              "      <td>Approved</td>\n",
              "      <td>-608</td>\n",
              "      <td>Cash through the bank</td>\n",
              "      <td>XAP</td>\n",
              "      <td>Repeater</td>\n",
              "      <td>Cards</td>\n",
              "      <td>Country-wide</td>\n",
              "      <td>0.0</td>\n",
              "      <td>middle</td>\n",
              "      <td>Card Street</td>\n",
              "    </tr>\n",
              "  </tbody>\n",
              "</table>\n",
              "<p>1 rows × 21 columns</p>\n",
              "</div>\n",
              "      <button class=\"colab-df-convert\" onclick=\"convertToInteractive('df-ab72d285-5425-4cd7-86f8-a57044c0c493')\"\n",
              "              title=\"Convert this dataframe to an interactive table.\"\n",
              "              style=\"display:none;\">\n",
              "        \n",
              "  <svg xmlns=\"http://www.w3.org/2000/svg\" height=\"24px\"viewBox=\"0 0 24 24\"\n",
              "       width=\"24px\">\n",
              "    <path d=\"M0 0h24v24H0V0z\" fill=\"none\"/>\n",
              "    <path d=\"M18.56 5.44l.94 2.06.94-2.06 2.06-.94-2.06-.94-.94-2.06-.94 2.06-2.06.94zm-11 1L8.5 8.5l.94-2.06 2.06-.94-2.06-.94L8.5 2.5l-.94 2.06-2.06.94zm10 10l.94 2.06.94-2.06 2.06-.94-2.06-.94-.94-2.06-.94 2.06-2.06.94z\"/><path d=\"M17.41 7.96l-1.37-1.37c-.4-.4-.92-.59-1.43-.59-.52 0-1.04.2-1.43.59L10.3 9.45l-7.72 7.72c-.78.78-.78 2.05 0 2.83L4 21.41c.39.39.9.59 1.41.59.51 0 1.02-.2 1.41-.59l7.78-7.78 2.81-2.81c.8-.78.8-2.07 0-2.86zM5.41 20L4 18.59l7.72-7.72 1.47 1.35L5.41 20z\"/>\n",
              "  </svg>\n",
              "      </button>\n",
              "      \n",
              "  <style>\n",
              "    .colab-df-container {\n",
              "      display:flex;\n",
              "      flex-wrap:wrap;\n",
              "      gap: 12px;\n",
              "    }\n",
              "\n",
              "    .colab-df-convert {\n",
              "      background-color: #E8F0FE;\n",
              "      border: none;\n",
              "      border-radius: 50%;\n",
              "      cursor: pointer;\n",
              "      display: none;\n",
              "      fill: #1967D2;\n",
              "      height: 32px;\n",
              "      padding: 0 0 0 0;\n",
              "      width: 32px;\n",
              "    }\n",
              "\n",
              "    .colab-df-convert:hover {\n",
              "      background-color: #E2EBFA;\n",
              "      box-shadow: 0px 1px 2px rgba(60, 64, 67, 0.3), 0px 1px 3px 1px rgba(60, 64, 67, 0.15);\n",
              "      fill: #174EA6;\n",
              "    }\n",
              "\n",
              "    [theme=dark] .colab-df-convert {\n",
              "      background-color: #3B4455;\n",
              "      fill: #D2E3FC;\n",
              "    }\n",
              "\n",
              "    [theme=dark] .colab-df-convert:hover {\n",
              "      background-color: #434B5C;\n",
              "      box-shadow: 0px 1px 3px 1px rgba(0, 0, 0, 0.15);\n",
              "      filter: drop-shadow(0px 1px 2px rgba(0, 0, 0, 0.3));\n",
              "      fill: #FFFFFF;\n",
              "    }\n",
              "  </style>\n",
              "\n",
              "      <script>\n",
              "        const buttonEl =\n",
              "          document.querySelector('#df-ab72d285-5425-4cd7-86f8-a57044c0c493 button.colab-df-convert');\n",
              "        buttonEl.style.display =\n",
              "          google.colab.kernel.accessAllowed ? 'block' : 'none';\n",
              "\n",
              "        async function convertToInteractive(key) {\n",
              "          const element = document.querySelector('#df-ab72d285-5425-4cd7-86f8-a57044c0c493');\n",
              "          const dataTable =\n",
              "            await google.colab.kernel.invokeFunction('convertToInteractive',\n",
              "                                                     [key], {});\n",
              "          if (!dataTable) return;\n",
              "\n",
              "          const docLinkHtml = 'Like what you see? Visit the ' +\n",
              "            '<a target=\"_blank\" href=https://colab.research.google.com/notebooks/data_table.ipynb>data table notebook</a>'\n",
              "            + ' to learn more about interactive tables.';\n",
              "          element.innerHTML = '';\n",
              "          dataTable['output_type'] = 'display_data';\n",
              "          await google.colab.output.renderOutput(dataTable, element);\n",
              "          const docLink = document.createElement('div');\n",
              "          docLink.innerHTML = docLinkHtml;\n",
              "          element.appendChild(docLink);\n",
              "        }\n",
              "      </script>\n",
              "    </div>\n",
              "  </div>\n",
              "  "
            ]
          },
          "metadata": {},
          "execution_count": 68
        }
      ]
    },
    {
      "cell_type": "code",
      "source": [
        "# Filter the dataframe for 'Revolving loans' and applied credit amount of 0\n",
        "revo_loans_zero_amt = df_previous_application[\n",
        "    (df_previous_application['NAME_CONTRACT_TYPE'] == 'Revolving loans') &\n",
        "    (df_previous_application['AMT_APPLICATION'] == 0)\n",
        "].drop(columns=['SK_ID_PREV', 'SK_ID_CURR'])\n",
        "\n",
        "# Generate descriptive statistics for the filtered dataframe\n",
        "summary_stats = revo_loans_zero_amt.describe().T.round(1)\n",
        "summary_stats.loc['AMT_CREDIT']"
      ],
      "metadata": {
        "colab": {
          "base_uri": "https://localhost:8080/"
        },
        "id": "5-0DtbaEnkxj",
        "outputId": "29c979ed-98e4-4fb2-9a56-4e6cbd8d1d1d"
      },
      "execution_count": null,
      "outputs": [
        {
          "output_type": "execute_result",
          "data": {
            "text/plain": [
              "count      98481.0\n",
              "mean      149372.8\n",
              "std       202388.8\n",
              "min            0.0\n",
              "25%            0.0\n",
              "50%        67500.0\n",
              "75%       225000.0\n",
              "max      1350000.0\n",
              "Name: AMT_CREDIT, dtype: float64"
            ]
          },
          "metadata": {},
          "execution_count": 69
        }
      ]
    },
    {
      "cell_type": "markdown",
      "source": [
        "There is a possibility that the credit amount given to the client exceeds the applied credit amount. However, considering that 25% of the data has 0 as its value, I will fill the missing values in the `AMT_CREDIT` column with 0. This aligns with the corresponding `AMT_APPLICATION` value."
      ],
      "metadata": {
        "id": "PphD6DQSqa8-"
      }
    },
    {
      "cell_type": "code",
      "source": [
        "# Fill the missing values with 0\n",
        "df_previous_application['AMT_CREDIT'].fillna(0, inplace=True)"
      ],
      "metadata": {
        "id": "ncG7-lvanKiY"
      },
      "execution_count": null,
      "outputs": []
    },
    {
      "cell_type": "markdown",
      "source": [
        "> **Handling missing values in `AMT_GOODS_PRICE` columns**"
      ],
      "metadata": {
        "id": "pl6rbF64elWP"
      }
    },
    {
      "cell_type": "code",
      "source": [
        "# Divide the values by one million\n",
        "amt_credit = df_previous_application['AMT_CREDIT'] / 1000000\n",
        "amt_goods_price = df_previous_application['AMT_GOODS_PRICE'] / 1000000\n",
        "\n",
        "# Create the scatter plot with circle boundaries\n",
        "fig, ax = plt.subplots(figsize=(6, 3))\n",
        "plt.scatter(amt_credit, amt_goods_price, \n",
        "            alpha=0.5, edgecolors='black')\n",
        "\n",
        "# Set labels and title\n",
        "plt.xlabel('Final credit amount (Million)')\n",
        "plt.ylabel('Goods price (Million)')\n",
        "plt.title('AMT_CREDIT vs AMT_GOODS_PRICE')\n",
        "\n",
        "# Show the plot\n",
        "plt.show()"
      ],
      "metadata": {
        "colab": {
          "base_uri": "https://localhost:8080/",
          "height": 333
        },
        "id": "JI6Q72AsjA4w",
        "outputId": "6595b26f-70bf-493c-e4de-0a5f680bd5c1"
      },
      "execution_count": null,
      "outputs": [
        {
          "output_type": "display_data",
          "data": {
            "text/plain": [
              "<Figure size 600x300 with 1 Axes>"
            ],
            "image/png": "[encoded data removed]"
          },
          "metadata": {}
        }
      ]
    },
    {
      "cell_type": "code",
      "source": [
        "df_previous_application[['AMT_CREDIT', 'AMT_GOODS_PRICE']].corr()"
      ],
      "metadata": {
        "colab": {
          "base_uri": "https://localhost:8080/",
          "height": 112
        },
        "id": "Pd0j0WHYopNM",
        "outputId": "a613e646-0496-4604-dcb3-42a26da5c0a8"
      },
      "execution_count": null,
      "outputs": [
        {
          "output_type": "execute_result",
          "data": {
            "text/plain": [
              "                 AMT_CREDIT  AMT_GOODS_PRICE\n",
              "AMT_CREDIT         1.000000         0.993076\n",
              "AMT_GOODS_PRICE    0.993076         1.000000"
            ],
            "text/html": [
              "\n",
              "  <div id=\"df-9b8dc357-c51c-446c-bf26-1d3a136787b3\">\n",
              "    <div class=\"colab-df-container\">\n",
              "      <div>\n",
              "<style scoped>\n",
              "    .dataframe tbody tr th:only-of-type {\n",
              "        vertical-align: middle;\n",
              "    }\n",
              "\n",
              "    .dataframe tbody tr th {\n",
              "        vertical-align: top;\n",
              "    }\n",
              "\n",
              "    .dataframe thead th {\n",
              "        text-align: right;\n",
              "    }\n",
              "</style>\n",
              "<table border=\"1\" class=\"dataframe\">\n",
              "  <thead>\n",
              "    <tr style=\"text-align: right;\">\n",
              "      <th></th>\n",
              "      <th>AMT_CREDIT</th>\n",
              "      <th>AMT_GOODS_PRICE</th>\n",
              "    </tr>\n",
              "  </thead>\n",
              "  <tbody>\n",
              "    <tr>\n",
              "      <th>AMT_CREDIT</th>\n",
              "      <td>1.000000</td>\n",
              "      <td>0.993076</td>\n",
              "    </tr>\n",
              "    <tr>\n",
              "      <th>AMT_GOODS_PRICE</th>\n",
              "      <td>0.993076</td>\n",
              "      <td>1.000000</td>\n",
              "    </tr>\n",
              "  </tbody>\n",
              "</table>\n",
              "</div>\n",
              "      <button class=\"colab-df-convert\" onclick=\"convertToInteractive('df-9b8dc357-c51c-446c-bf26-1d3a136787b3')\"\n",
              "              title=\"Convert this dataframe to an interactive table.\"\n",
              "              style=\"display:none;\">\n",
              "        \n",
              "  <svg xmlns=\"http://www.w3.org/2000/svg\" height=\"24px\"viewBox=\"0 0 24 24\"\n",
              "       width=\"24px\">\n",
              "    <path d=\"M0 0h24v24H0V0z\" fill=\"none\"/>\n",
              "    <path d=\"M18.56 5.44l.94 2.06.94-2.06 2.06-.94-2.06-.94-.94-2.06-.94 2.06-2.06.94zm-11 1L8.5 8.5l.94-2.06 2.06-.94-2.06-.94L8.5 2.5l-.94 2.06-2.06.94zm10 10l.94 2.06.94-2.06 2.06-.94-2.06-.94-.94-2.06-.94 2.06-2.06.94z\"/><path d=\"M17.41 7.96l-1.37-1.37c-.4-.4-.92-.59-1.43-.59-.52 0-1.04.2-1.43.59L10.3 9.45l-7.72 7.72c-.78.78-.78 2.05 0 2.83L4 21.41c.39.39.9.59 1.41.59.51 0 1.02-.2 1.41-.59l7.78-7.78 2.81-2.81c.8-.78.8-2.07 0-2.86zM5.41 20L4 18.59l7.72-7.72 1.47 1.35L5.41 20z\"/>\n",
              "  </svg>\n",
              "      </button>\n",
              "      \n",
              "  <style>\n",
              "    .colab-df-container {\n",
              "      display:flex;\n",
              "      flex-wrap:wrap;\n",
              "      gap: 12px;\n",
              "    }\n",
              "\n",
              "    .colab-df-convert {\n",
              "      background-color: #E8F0FE;\n",
              "      border: none;\n",
              "      border-radius: 50%;\n",
              "      cursor: pointer;\n",
              "      display: none;\n",
              "      fill: #1967D2;\n",
              "      height: 32px;\n",
              "      padding: 0 0 0 0;\n",
              "      width: 32px;\n",
              "    }\n",
              "\n",
              "    .colab-df-convert:hover {\n",
              "      background-color: #E2EBFA;\n",
              "      box-shadow: 0px 1px 2px rgba(60, 64, 67, 0.3), 0px 1px 3px 1px rgba(60, 64, 67, 0.15);\n",
              "      fill: #174EA6;\n",
              "    }\n",
              "\n",
              "    [theme=dark] .colab-df-convert {\n",
              "      background-color: #3B4455;\n",
              "      fill: #D2E3FC;\n",
              "    }\n",
              "\n",
              "    [theme=dark] .colab-df-convert:hover {\n",
              "      background-color: #434B5C;\n",
              "      box-shadow: 0px 1px 3px 1px rgba(0, 0, 0, 0.15);\n",
              "      filter: drop-shadow(0px 1px 2px rgba(0, 0, 0, 0.3));\n",
              "      fill: #FFFFFF;\n",
              "    }\n",
              "  </style>\n",
              "\n",
              "      <script>\n",
              "        const buttonEl =\n",
              "          document.querySelector('#df-9b8dc357-c51c-446c-bf26-1d3a136787b3 button.colab-df-convert');\n",
              "        buttonEl.style.display =\n",
              "          google.colab.kernel.accessAllowed ? 'block' : 'none';\n",
              "\n",
              "        async function convertToInteractive(key) {\n",
              "          const element = document.querySelector('#df-9b8dc357-c51c-446c-bf26-1d3a136787b3');\n",
              "          const dataTable =\n",
              "            await google.colab.kernel.invokeFunction('convertToInteractive',\n",
              "                                                     [key], {});\n",
              "          if (!dataTable) return;\n",
              "\n",
              "          const docLinkHtml = 'Like what you see? Visit the ' +\n",
              "            '<a target=\"_blank\" href=https://colab.research.google.com/notebooks/data_table.ipynb>data table notebook</a>'\n",
              "            + ' to learn more about interactive tables.';\n",
              "          element.innerHTML = '';\n",
              "          dataTable['output_type'] = 'display_data';\n",
              "          await google.colab.output.renderOutput(dataTable, element);\n",
              "          const docLink = document.createElement('div');\n",
              "          docLink.innerHTML = docLinkHtml;\n",
              "          element.appendChild(docLink);\n",
              "        }\n",
              "      </script>\n",
              "    </div>\n",
              "  </div>\n",
              "  "
            ]
          },
          "metadata": {},
          "execution_count": 72
        }
      ]
    },
    {
      "cell_type": "markdown",
      "source": [
        "Based on the plot and the correlation value, there is indeed a strong positive correlation between the `AMT_CREDIT` and `AMT_GOODS_PRICE` columns. However, having two highly correlated features can introduce multicollinearity, which can be problematic in certain statistical models.\n",
        "\n",
        "To address this problem, I will remove the `AMT_GOODS_PRICE` column instead of filling in its missing values."
      ],
      "metadata": {
        "id": "dObhjBLrrghg"
      }
    },
    {
      "cell_type": "code",
      "source": [
        "df_previous_application.drop('AMT_GOODS_PRICE', axis=1, inplace=True)"
      ],
      "metadata": {
        "id": "-weWXg_Gr8Bx"
      },
      "execution_count": null,
      "outputs": []
    },
    {
      "cell_type": "markdown",
      "source": [
        "> **Handling missing values in `NAME_CONTRACT_TYPE` columns**"
      ],
      "metadata": {
        "id": "F5-mksnTLcLG"
      }
    },
    {
      "cell_type": "code",
      "source": [
        "# Filter rows where 'NAME_CONTRACT_TYPE' is missing\n",
        "missing_contract_type = df_previous_application[df_previous_application['NAME_CONTRACT_TYPE'].isna()]"
      ],
      "metadata": {
        "id": "pEyRZd_H0lKz"
      },
      "execution_count": null,
      "outputs": []
    },
    {
      "cell_type": "code",
      "source": [
        "# Calculate the number of rows in missing_contract_type \n",
        "# where all specified columns have missing values\n",
        "\n",
        "columns_of_interest = ['NAME_CONTRACT_TYPE', 'AMT_ANNUITY', \n",
        "    'NAME_PORTFOLIO', 'CNT_PAYMENT', 'PRODUCT_COMBINATION']\n",
        "all_missing_values = missing_contract_type[columns_of_interest].isna().all(axis=1)\n",
        "total_rows_with_all_missing_values = all_missing_values.sum()\n",
        "print('Total rows in missing_contract_type:', len(missing_contract_type))\n",
        "print('Total rows with all specified columns missing:', total_rows_with_all_missing_values)"
      ],
      "metadata": {
        "colab": {
          "base_uri": "https://localhost:8080/"
        },
        "id": "IPiMrn4k08Vz",
        "outputId": "e30263b6-bdd0-47d6-9ad9-85689a6e82c3"
      },
      "execution_count": null,
      "outputs": [
        {
          "output_type": "stream",
          "name": "stdout",
          "text": [
            "Total rows in missing_contract_type: 334\n",
            "Total rows with all specified columns missing: 334\n"
          ]
        }
      ]
    },
    {
      "cell_type": "code",
      "source": [
        "# Calculate descriptive statistics for 'AMT_APPLICATION' and 'AMT_CREDIT'\n",
        "missing_contract_type[['AMT_APPLICATION', 'AMT_CREDIT']].describe().T"
      ],
      "metadata": {
        "colab": {
          "base_uri": "https://localhost:8080/",
          "height": 112
        },
        "id": "OENlC03x1Xp4",
        "outputId": "ecee5e16-0487-4ab0-a87b-d153ad42da5c"
      },
      "execution_count": null,
      "outputs": [
        {
          "output_type": "execute_result",
          "data": {
            "text/plain": [
              "                 count  mean  std  min  25%  50%  75%  max\n",
              "AMT_APPLICATION  334.0   0.0  0.0  0.0  0.0  0.0  0.0  0.0\n",
              "AMT_CREDIT       334.0   0.0  0.0  0.0  0.0  0.0  0.0  0.0"
            ],
            "text/html": [
              "\n",
              "  <div id=\"df-cb1f0fd2-8c35-48f2-82a0-87571a43c2c3\">\n",
              "    <div class=\"colab-df-container\">\n",
              "      <div>\n",
              "<style scoped>\n",
              "    .dataframe tbody tr th:only-of-type {\n",
              "        vertical-align: middle;\n",
              "    }\n",
              "\n",
              "    .dataframe tbody tr th {\n",
              "        vertical-align: top;\n",
              "    }\n",
              "\n",
              "    .dataframe thead th {\n",
              "        text-align: right;\n",
              "    }\n",
              "</style>\n",
              "<table border=\"1\" class=\"dataframe\">\n",
              "  <thead>\n",
              "    <tr style=\"text-align: right;\">\n",
              "      <th></th>\n",
              "      <th>count</th>\n",
              "      <th>mean</th>\n",
              "      <th>std</th>\n",
              "      <th>min</th>\n",
              "      <th>25%</th>\n",
              "      <th>50%</th>\n",
              "      <th>75%</th>\n",
              "      <th>max</th>\n",
              "    </tr>\n",
              "  </thead>\n",
              "  <tbody>\n",
              "    <tr>\n",
              "      <th>AMT_APPLICATION</th>\n",
              "      <td>334.0</td>\n",
              "      <td>0.0</td>\n",
              "      <td>0.0</td>\n",
              "      <td>0.0</td>\n",
              "      <td>0.0</td>\n",
              "      <td>0.0</td>\n",
              "      <td>0.0</td>\n",
              "      <td>0.0</td>\n",
              "    </tr>\n",
              "    <tr>\n",
              "      <th>AMT_CREDIT</th>\n",
              "      <td>334.0</td>\n",
              "      <td>0.0</td>\n",
              "      <td>0.0</td>\n",
              "      <td>0.0</td>\n",
              "      <td>0.0</td>\n",
              "      <td>0.0</td>\n",
              "      <td>0.0</td>\n",
              "      <td>0.0</td>\n",
              "    </tr>\n",
              "  </tbody>\n",
              "</table>\n",
              "</div>\n",
              "      <button class=\"colab-df-convert\" onclick=\"convertToInteractive('df-cb1f0fd2-8c35-48f2-82a0-87571a43c2c3')\"\n",
              "              title=\"Convert this dataframe to an interactive table.\"\n",
              "              style=\"display:none;\">\n",
              "        \n",
              "  <svg xmlns=\"http://www.w3.org/2000/svg\" height=\"24px\"viewBox=\"0 0 24 24\"\n",
              "       width=\"24px\">\n",
              "    <path d=\"M0 0h24v24H0V0z\" fill=\"none\"/>\n",
              "    <path d=\"M18.56 5.44l.94 2.06.94-2.06 2.06-.94-2.06-.94-.94-2.06-.94 2.06-2.06.94zm-11 1L8.5 8.5l.94-2.06 2.06-.94-2.06-.94L8.5 2.5l-.94 2.06-2.06.94zm10 10l.94 2.06.94-2.06 2.06-.94-2.06-.94-.94-2.06-.94 2.06-2.06.94z\"/><path d=\"M17.41 7.96l-1.37-1.37c-.4-.4-.92-.59-1.43-.59-.52 0-1.04.2-1.43.59L10.3 9.45l-7.72 7.72c-.78.78-.78 2.05 0 2.83L4 21.41c.39.39.9.59 1.41.59.51 0 1.02-.2 1.41-.59l7.78-7.78 2.81-2.81c.8-.78.8-2.07 0-2.86zM5.41 20L4 18.59l7.72-7.72 1.47 1.35L5.41 20z\"/>\n",
              "  </svg>\n",
              "      </button>\n",
              "      \n",
              "  <style>\n",
              "    .colab-df-container {\n",
              "      display:flex;\n",
              "      flex-wrap:wrap;\n",
              "      gap: 12px;\n",
              "    }\n",
              "\n",
              "    .colab-df-convert {\n",
              "      background-color: #E8F0FE;\n",
              "      border: none;\n",
              "      border-radius: 50%;\n",
              "      cursor: pointer;\n",
              "      display: none;\n",
              "      fill: #1967D2;\n",
              "      height: 32px;\n",
              "      padding: 0 0 0 0;\n",
              "      width: 32px;\n",
              "    }\n",
              "\n",
              "    .colab-df-convert:hover {\n",
              "      background-color: #E2EBFA;\n",
              "      box-shadow: 0px 1px 2px rgba(60, 64, 67, 0.3), 0px 1px 3px 1px rgba(60, 64, 67, 0.15);\n",
              "      fill: #174EA6;\n",
              "    }\n",
              "\n",
              "    [theme=dark] .colab-df-convert {\n",
              "      background-color: #3B4455;\n",
              "      fill: #D2E3FC;\n",
              "    }\n",
              "\n",
              "    [theme=dark] .colab-df-convert:hover {\n",
              "      background-color: #434B5C;\n",
              "      box-shadow: 0px 1px 3px 1px rgba(0, 0, 0, 0.15);\n",
              "      filter: drop-shadow(0px 1px 2px rgba(0, 0, 0, 0.3));\n",
              "      fill: #FFFFFF;\n",
              "    }\n",
              "  </style>\n",
              "\n",
              "      <script>\n",
              "        const buttonEl =\n",
              "          document.querySelector('#df-cb1f0fd2-8c35-48f2-82a0-87571a43c2c3 button.colab-df-convert');\n",
              "        buttonEl.style.display =\n",
              "          google.colab.kernel.accessAllowed ? 'block' : 'none';\n",
              "\n",
              "        async function convertToInteractive(key) {\n",
              "          const element = document.querySelector('#df-cb1f0fd2-8c35-48f2-82a0-87571a43c2c3');\n",
              "          const dataTable =\n",
              "            await google.colab.kernel.invokeFunction('convertToInteractive',\n",
              "                                                     [key], {});\n",
              "          if (!dataTable) return;\n",
              "\n",
              "          const docLinkHtml = 'Like what you see? Visit the ' +\n",
              "            '<a target=\"_blank\" href=https://colab.research.google.com/notebooks/data_table.ipynb>data table notebook</a>'\n",
              "            + ' to learn more about interactive tables.';\n",
              "          element.innerHTML = '';\n",
              "          dataTable['output_type'] = 'display_data';\n",
              "          await google.colab.output.renderOutput(dataTable, element);\n",
              "          const docLink = document.createElement('div');\n",
              "          docLink.innerHTML = docLinkHtml;\n",
              "          element.appendChild(docLink);\n",
              "        }\n",
              "      </script>\n",
              "    </div>\n",
              "  </div>\n",
              "  "
            ]
          },
          "metadata": {},
          "execution_count": 76
        }
      ]
    },
    {
      "cell_type": "code",
      "source": [
        "# Get the value counts of 'NAME_CONTRACT_STATUS' in the filtered rows\n",
        "missing_contract_type['NAME_CONTRACT_STATUS'].value_counts()"
      ],
      "metadata": {
        "colab": {
          "base_uri": "https://localhost:8080/"
        },
        "id": "2H7I0wtBtkcv",
        "outputId": "83a89cf3-b278-4ab9-d37f-3c8c3c73544d"
      },
      "execution_count": null,
      "outputs": [
        {
          "output_type": "execute_result",
          "data": {
            "text/plain": [
              "Canceled    303\n",
              "Refused      31\n",
              "Name: NAME_CONTRACT_STATUS, dtype: int64"
            ]
          },
          "metadata": {},
          "execution_count": 77
        }
      ]
    },
    {
      "cell_type": "markdown",
      "source": [
        "Considering that the rows with missing values in the `NAME_CONTRACT_TYPE` column also have missing information in other columns such as `AMT_ANNUITY`, `NAME_PORTFOLIO`, `CNT_PAYMENT`, and `PRODUCT_COMBINATION`, it is reasonable to remove these rows as they do not provide useful information. Additionally, these rows only have a value of 0 in both the `AMT_APPLICATION` and `AMT_CREDIT` columns, and the corresponding contracts are either canceled or refused. "
      ],
      "metadata": {
        "id": "JvFZ6uJk0Xf7"
      }
    },
    {
      "cell_type": "code",
      "source": [
        "# Drop the rows corresponding to the indices in missing_contract_type \n",
        "df_previous_application.drop(missing_contract_type.index, inplace=True)"
      ],
      "metadata": {
        "id": "kY4aQltqyOee"
      },
      "execution_count": null,
      "outputs": []
    },
    {
      "cell_type": "markdown",
      "source": [
        "> **Handling the other missing values**"
      ],
      "metadata": {
        "id": "OdlJ_OBX3b4E"
      }
    },
    {
      "cell_type": "markdown",
      "source": [
        "The remaining observations with missing values will be deleted."
      ],
      "metadata": {
        "id": "N-w6cVzS_g8B"
      }
    },
    {
      "cell_type": "code",
      "source": [
        "df_previous_application.dropna(inplace=True)"
      ],
      "metadata": {
        "id": "Fuz0-mdq0k3L"
      },
      "execution_count": null,
      "outputs": []
    },
    {
      "cell_type": "markdown",
      "source": [
        "## **Check if there are any missing values for the last time**"
      ],
      "metadata": {
        "id": "-kvL5SvvHYBR"
      }
    },
    {
      "cell_type": "code",
      "source": [
        "isna_counts = df_previous_application.isna().sum()\n",
        "if not isna_counts[isna_counts > 0].any():\n",
        "    print('All clear')\n",
        "else:\n",
        "    print(isna_counts[isna_counts > 0])"
      ],
      "metadata": {
        "id": "2OmhrnYYyYn7",
        "colab": {
          "base_uri": "https://localhost:8080/"
        },
        "outputId": "343097b4-4c48-4803-df8f-100df8a868de"
      },
      "execution_count": null,
      "outputs": [
        {
          "output_type": "stream",
          "name": "stdout",
          "text": [
            "All clear\n"
          ]
        }
      ]
    },
    {
      "cell_type": "markdown",
      "source": [
        "## **Data type conversion**"
      ],
      "metadata": {
        "id": "zEh3vLF_7Wan"
      }
    },
    {
      "cell_type": "code",
      "source": [
        "# Convert CNT_PAYMENT column from float to int data type\n",
        "df_previous_application['CNT_PAYMENT'] = df_previous_application['CNT_PAYMENT'].astype(int)\n",
        "df_previous_application.info()"
      ],
      "metadata": {
        "colab": {
          "base_uri": "https://localhost:8080/"
        },
        "id": "8L3v7bih9WFT",
        "outputId": "9b19496a-bd04-4d9e-ca49-2b2b2e05ed0b"
      },
      "execution_count": null,
      "outputs": [
        {
          "output_type": "stream",
          "name": "stdout",
          "text": [
            "<class 'pandas.core.frame.DataFrame'>\n",
            "Int64Index: 1288105 entries, 201668 to 1411592\n",
            "Data columns (total 20 columns):\n",
            " #   Column                       Non-Null Count    Dtype  \n",
            "---  ------                       --------------    -----  \n",
            " 0   SK_ID_PREV                   1288105 non-null  int64  \n",
            " 1   SK_ID_CURR                   1288105 non-null  int64  \n",
            " 2   NAME_CONTRACT_TYPE           1288105 non-null  object \n",
            " 3   AMT_ANNUITY                  1288105 non-null  float64\n",
            " 4   AMT_APPLICATION              1288105 non-null  float64\n",
            " 5   AMT_CREDIT                   1288105 non-null  float64\n",
            " 6   WEEKDAY_APPR_PROCESS_START   1288105 non-null  object \n",
            " 7   HOUR_APPR_PROCESS_START      1288105 non-null  int64  \n",
            " 8   FLAG_LAST_APPL_PER_CONTRACT  1288105 non-null  object \n",
            " 9   NFLAG_LAST_APPL_IN_DAY       1288105 non-null  int64  \n",
            " 10  NAME_CONTRACT_STATUS         1288105 non-null  object \n",
            " 11  DAYS_DECISION                1288105 non-null  int64  \n",
            " 12  NAME_PAYMENT_TYPE            1288105 non-null  object \n",
            " 13  CODE_REJECT_REASON           1288105 non-null  object \n",
            " 14  NAME_CLIENT_TYPE             1288105 non-null  object \n",
            " 15  NAME_PORTFOLIO               1288105 non-null  object \n",
            " 16  CHANNEL_TYPE                 1288105 non-null  object \n",
            " 17  CNT_PAYMENT                  1288105 non-null  int64  \n",
            " 18  NAME_YIELD_GROUP             1288105 non-null  object \n",
            " 19  PRODUCT_COMBINATION          1288105 non-null  object \n",
            "dtypes: float64(3), int64(6), object(11)\n",
            "memory usage: 206.4+ MB\n"
          ]
        }
      ]
    },
    {
      "cell_type": "markdown",
      "source": [
        "# **Preparing `POS_CASH_balance` data**"
      ],
      "metadata": {
        "id": "fx7epaWAJ74f"
      }
    },
    {
      "cell_type": "code",
      "source": [
        "# Print the first few rows\n",
        "df_POS_CASH_balance = df_POS_CASH_balance.sort_values(['SK_ID_CURR', 'SK_ID_PREV'])\n",
        "df_POS_CASH_balance.head()"
      ],
      "metadata": {
        "colab": {
          "base_uri": "https://localhost:8080/",
          "height": 250
        },
        "id": "taQ-MeEfKAK-",
        "outputId": "58d47a30-0a8d-440b-cff3-37f26ab071d9"
      },
      "execution_count": null,
      "outputs": [
        {
          "output_type": "execute_result",
          "data": {
            "text/plain": [
              "         SK_ID_PREV  SK_ID_CURR  MONTHS_BALANCE  CNT_INSTALMENT  \\\n",
              "2197888     1369693      100001             -53             4.0   \n",
              "4704415     1369693      100001             -54             4.0   \n",
              "7167007     1369693      100001             -57             4.0   \n",
              "7823681     1369693      100001             -55             4.0   \n",
              "8789081     1369693      100001             -56             4.0   \n",
              "\n",
              "         CNT_INSTALMENT_FUTURE NAME_CONTRACT_STATUS  SK_DPD  SK_DPD_DEF  \n",
              "2197888                    0.0            Completed       0           0  \n",
              "4704415                    1.0               Active       0           0  \n",
              "7167007                    4.0               Active       0           0  \n",
              "7823681                    2.0               Active       0           0  \n",
              "8789081                    3.0               Active       0           0  "
            ],
            "text/html": [
              "\n",
              "  <div id=\"df-3bb55270-859c-4ece-b277-8617fd4f5438\">\n",
              "    <div class=\"colab-df-container\">\n",
              "      <div>\n",
              "<style scoped>\n",
              "    .dataframe tbody tr th:only-of-type {\n",
              "        vertical-align: middle;\n",
              "    }\n",
              "\n",
              "    .dataframe tbody tr th {\n",
              "        vertical-align: top;\n",
              "    }\n",
              "\n",
              "    .dataframe thead th {\n",
              "        text-align: right;\n",
              "    }\n",
              "</style>\n",
              "<table border=\"1\" class=\"dataframe\">\n",
              "  <thead>\n",
              "    <tr style=\"text-align: right;\">\n",
              "      <th></th>\n",
              "      <th>SK_ID_PREV</th>\n",
              "      <th>SK_ID_CURR</th>\n",
              "      <th>MONTHS_BALANCE</th>\n",
              "      <th>CNT_INSTALMENT</th>\n",
              "      <th>CNT_INSTALMENT_FUTURE</th>\n",
              "      <th>NAME_CONTRACT_STATUS</th>\n",
              "      <th>SK_DPD</th>\n",
              "      <th>SK_DPD_DEF</th>\n",
              "    </tr>\n",
              "  </thead>\n",
              "  <tbody>\n",
              "    <tr>\n",
              "      <th>2197888</th>\n",
              "      <td>1369693</td>\n",
              "      <td>100001</td>\n",
              "      <td>-53</td>\n",
              "      <td>4.0</td>\n",
              "      <td>0.0</td>\n",
              "      <td>Completed</td>\n",
              "      <td>0</td>\n",
              "      <td>0</td>\n",
              "    </tr>\n",
              "    <tr>\n",
              "      <th>4704415</th>\n",
              "      <td>1369693</td>\n",
              "      <td>100001</td>\n",
              "      <td>-54</td>\n",
              "      <td>4.0</td>\n",
              "      <td>1.0</td>\n",
              "      <td>Active</td>\n",
              "      <td>0</td>\n",
              "      <td>0</td>\n",
              "    </tr>\n",
              "    <tr>\n",
              "      <th>7167007</th>\n",
              "      <td>1369693</td>\n",
              "      <td>100001</td>\n",
              "      <td>-57</td>\n",
              "      <td>4.0</td>\n",
              "      <td>4.0</td>\n",
              "      <td>Active</td>\n",
              "      <td>0</td>\n",
              "      <td>0</td>\n",
              "    </tr>\n",
              "    <tr>\n",
              "      <th>7823681</th>\n",
              "      <td>1369693</td>\n",
              "      <td>100001</td>\n",
              "      <td>-55</td>\n",
              "      <td>4.0</td>\n",
              "      <td>2.0</td>\n",
              "      <td>Active</td>\n",
              "      <td>0</td>\n",
              "      <td>0</td>\n",
              "    </tr>\n",
              "    <tr>\n",
              "      <th>8789081</th>\n",
              "      <td>1369693</td>\n",
              "      <td>100001</td>\n",
              "      <td>-56</td>\n",
              "      <td>4.0</td>\n",
              "      <td>3.0</td>\n",
              "      <td>Active</td>\n",
              "      <td>0</td>\n",
              "      <td>0</td>\n",
              "    </tr>\n",
              "  </tbody>\n",
              "</table>\n",
              "</div>\n",
              "      <button class=\"colab-df-convert\" onclick=\"convertToInteractive('df-3bb55270-859c-4ece-b277-8617fd4f5438')\"\n",
              "              title=\"Convert this dataframe to an interactive table.\"\n",
              "              style=\"display:none;\">\n",
              "        \n",
              "  <svg xmlns=\"http://www.w3.org/2000/svg\" height=\"24px\"viewBox=\"0 0 24 24\"\n",
              "       width=\"24px\">\n",
              "    <path d=\"M0 0h24v24H0V0z\" fill=\"none\"/>\n",
              "    <path d=\"M18.56 5.44l.94 2.06.94-2.06 2.06-.94-2.06-.94-.94-2.06-.94 2.06-2.06.94zm-11 1L8.5 8.5l.94-2.06 2.06-.94-2.06-.94L8.5 2.5l-.94 2.06-2.06.94zm10 10l.94 2.06.94-2.06 2.06-.94-2.06-.94-.94-2.06-.94 2.06-2.06.94z\"/><path d=\"M17.41 7.96l-1.37-1.37c-.4-.4-.92-.59-1.43-.59-.52 0-1.04.2-1.43.59L10.3 9.45l-7.72 7.72c-.78.78-.78 2.05 0 2.83L4 21.41c.39.39.9.59 1.41.59.51 0 1.02-.2 1.41-.59l7.78-7.78 2.81-2.81c.8-.78.8-2.07 0-2.86zM5.41 20L4 18.59l7.72-7.72 1.47 1.35L5.41 20z\"/>\n",
              "  </svg>\n",
              "      </button>\n",
              "      \n",
              "  <style>\n",
              "    .colab-df-container {\n",
              "      display:flex;\n",
              "      flex-wrap:wrap;\n",
              "      gap: 12px;\n",
              "    }\n",
              "\n",
              "    .colab-df-convert {\n",
              "      background-color: #E8F0FE;\n",
              "      border: none;\n",
              "      border-radius: 50%;\n",
              "      cursor: pointer;\n",
              "      display: none;\n",
              "      fill: #1967D2;\n",
              "      height: 32px;\n",
              "      padding: 0 0 0 0;\n",
              "      width: 32px;\n",
              "    }\n",
              "\n",
              "    .colab-df-convert:hover {\n",
              "      background-color: #E2EBFA;\n",
              "      box-shadow: 0px 1px 2px rgba(60, 64, 67, 0.3), 0px 1px 3px 1px rgba(60, 64, 67, 0.15);\n",
              "      fill: #174EA6;\n",
              "    }\n",
              "\n",
              "    [theme=dark] .colab-df-convert {\n",
              "      background-color: #3B4455;\n",
              "      fill: #D2E3FC;\n",
              "    }\n",
              "\n",
              "    [theme=dark] .colab-df-convert:hover {\n",
              "      background-color: #434B5C;\n",
              "      box-shadow: 0px 1px 3px 1px rgba(0, 0, 0, 0.15);\n",
              "      filter: drop-shadow(0px 1px 2px rgba(0, 0, 0, 0.3));\n",
              "      fill: #FFFFFF;\n",
              "    }\n",
              "  </style>\n",
              "\n",
              "      <script>\n",
              "        const buttonEl =\n",
              "          document.querySelector('#df-3bb55270-859c-4ece-b277-8617fd4f5438 button.colab-df-convert');\n",
              "        buttonEl.style.display =\n",
              "          google.colab.kernel.accessAllowed ? 'block' : 'none';\n",
              "\n",
              "        async function convertToInteractive(key) {\n",
              "          const element = document.querySelector('#df-3bb55270-859c-4ece-b277-8617fd4f5438');\n",
              "          const dataTable =\n",
              "            await google.colab.kernel.invokeFunction('convertToInteractive',\n",
              "                                                     [key], {});\n",
              "          if (!dataTable) return;\n",
              "\n",
              "          const docLinkHtml = 'Like what you see? Visit the ' +\n",
              "            '<a target=\"_blank\" href=https://colab.research.google.com/notebooks/data_table.ipynb>data table notebook</a>'\n",
              "            + ' to learn more about interactive tables.';\n",
              "          element.innerHTML = '';\n",
              "          dataTable['output_type'] = 'display_data';\n",
              "          await google.colab.output.renderOutput(dataTable, element);\n",
              "          const docLink = document.createElement('div');\n",
              "          docLink.innerHTML = docLinkHtml;\n",
              "          element.appendChild(docLink);\n",
              "        }\n",
              "      </script>\n",
              "    </div>\n",
              "  </div>\n",
              "  "
            ]
          },
          "metadata": {},
          "execution_count": 82
        }
      ]
    },
    {
      "cell_type": "markdown",
      "source": [
        "## **Remove duplicate observations**"
      ],
      "metadata": {
        "id": "9x-sygNQ1dua"
      }
    },
    {
      "cell_type": "code",
      "source": [
        "columns_to_exclude = ['SK_ID_PREV']  # Columns to exclude from duplication check\n",
        "columns_to_check = df_POS_CASH_balance.columns.difference(columns_to_exclude)  # Columns to include in duplication check\n",
        "\n",
        "# Check for duplicates only in the specified columns\n",
        "duplicates = df_POS_CASH_balance.duplicated(subset=columns_to_check)\n",
        "\n",
        "# Access the rows that are not duplicates in the specified columns\n",
        "print('Before:', df_POS_CASH_balance.shape)\n",
        "df_POS_CASH_balance = df_POS_CASH_balance[~duplicates]\n",
        "print('After:', df_POS_CASH_balance.shape)"
      ],
      "metadata": {
        "colab": {
          "base_uri": "https://localhost:8080/"
        },
        "id": "Rn7N_1VP1f18",
        "outputId": "948ca984-f354-45e2-c6a4-b5f58201acdd"
      },
      "execution_count": null,
      "outputs": [
        {
          "output_type": "stream",
          "name": "stdout",
          "text": [
            "Before: (10001358, 8)\n",
            "After: (9972339, 8)\n"
          ]
        }
      ]
    },
    {
      "cell_type": "markdown",
      "source": [
        "## **Handling missing values**"
      ],
      "metadata": {
        "id": "lIVzuMeZCk26"
      }
    },
    {
      "cell_type": "code",
      "source": [
        "# Plot the number of missing values\n",
        "fig, ax = plot_missing_values(df_POS_CASH_balance, 'POS_CASH_balance')\n",
        "plt.show()"
      ],
      "metadata": {
        "colab": {
          "base_uri": "https://localhost:8080/",
          "height": 485
        },
        "id": "2_X5_Ia1KBo6",
        "outputId": "db029d51-7c2c-4e71-9185-e29dc35dec30"
      },
      "execution_count": null,
      "outputs": [
        {
          "output_type": "display_data",
          "data": {
            "text/plain": [
              "<Figure size 600x300 with 1 Axes>"
            ],
            "image/png": "[encoded data removed]"
          },
          "metadata": {}
        }
      ]
    },
    {
      "cell_type": "markdown",
      "source": [
        "Initially, my intention was to drop only the rows that did not represent the freshest monthly snapshot, as indicated by `MONTH_BALANCE = -1`. However, upon further analysis, I discovered that there are still 462 rows remaining with missing values in both the `CNT_INSTALMENT` and `CNT_INSTALMENT_FUTURE` columns. Consequently, I made the decision to drop all rows with missing values."
      ],
      "metadata": {
        "id": "F4fSRZCtEriZ"
      }
    },
    {
      "cell_type": "code",
      "source": [
        "# Drop all missing values\n",
        "df_POS_CASH_balance.dropna(inplace=True)"
      ],
      "metadata": {
        "id": "dJnOFpITFAPO"
      },
      "execution_count": null,
      "outputs": []
    },
    {
      "cell_type": "markdown",
      "source": [
        "## **Check if there are any missing values for the last time**"
      ],
      "metadata": {
        "id": "PBMWqEhFB0Ya"
      }
    },
    {
      "cell_type": "code",
      "source": [
        "isna_counts = df_POS_CASH_balance.isna().sum()\n",
        "if not isna_counts[isna_counts > 0].any():\n",
        "    print('All clear')\n",
        "else:\n",
        "    print(isna_counts[isna_counts > 0])"
      ],
      "metadata": {
        "id": "D4D6kj-zyJbP",
        "colab": {
          "base_uri": "https://localhost:8080/"
        },
        "outputId": "fedc3d1a-3049-4329-bbd8-a6ceae7a68ff"
      },
      "execution_count": null,
      "outputs": [
        {
          "output_type": "stream",
          "name": "stdout",
          "text": [
            "All clear\n"
          ]
        }
      ]
    },
    {
      "cell_type": "markdown",
      "source": [
        "## **Data type conversion**"
      ],
      "metadata": {
        "id": "WMl1Uaze6wTi"
      }
    },
    {
      "cell_type": "code",
      "source": [
        "df_POS_CASH_balance.info()"
      ],
      "metadata": {
        "colab": {
          "base_uri": "https://localhost:8080/"
        },
        "id": "seoXEoNb6y9C",
        "outputId": "c8efc31e-1115-4118-afeb-49ce3f60a250"
      },
      "execution_count": null,
      "outputs": [
        {
          "output_type": "stream",
          "name": "stdout",
          "text": [
            "<class 'pandas.core.frame.DataFrame'>\n",
            "Int64Index: 9946161 entries, 2197888 to 8606094\n",
            "Data columns (total 8 columns):\n",
            " #   Column                 Dtype  \n",
            "---  ------                 -----  \n",
            " 0   SK_ID_PREV             int64  \n",
            " 1   SK_ID_CURR             int64  \n",
            " 2   MONTHS_BALANCE         int64  \n",
            " 3   CNT_INSTALMENT         float64\n",
            " 4   CNT_INSTALMENT_FUTURE  float64\n",
            " 5   NAME_CONTRACT_STATUS   object \n",
            " 6   SK_DPD                 int64  \n",
            " 7   SK_DPD_DEF             int64  \n",
            "dtypes: float64(2), int64(5), object(1)\n",
            "memory usage: 682.9+ MB\n"
          ]
        }
      ]
    },
    {
      "cell_type": "code",
      "source": [
        "# List of columns to be converted from float to int data type\n",
        "columns_to_convert = ['CNT_INSTALMENT', 'CNT_INSTALMENT_FUTURE']\n",
        "\n",
        "# Convert the columns from float to int data type\n",
        "df_POS_CASH_balance[columns_to_convert] = df_POS_CASH_balance[columns_to_convert].astype(int)"
      ],
      "metadata": {
        "id": "Db7C6VDG6x4F"
      },
      "execution_count": null,
      "outputs": []
    },
    {
      "cell_type": "markdown",
      "source": [
        "# **Preparing `credit_card_balance` data**"
      ],
      "metadata": {
        "id": "ad-O1tmDKL8x"
      }
    },
    {
      "cell_type": "code",
      "source": [
        "# Print the first few rows\n",
        "df_credit_card_balance = df_credit_card_balance.sort_values(['SK_ID_CURR', 'SK_ID_PREV'])\n",
        "df_credit_card_balance.head()"
      ],
      "metadata": {
        "colab": {
          "base_uri": "https://localhost:8080/",
          "height": 299
        },
        "id": "XEMb6BZ7KPsW",
        "outputId": "6769053f-22ca-42f3-9e04-58e2d012575e"
      },
      "execution_count": null,
      "outputs": [
        {
          "output_type": "execute_result",
          "data": {
            "text/plain": [
              "         SK_ID_PREV  SK_ID_CURR  MONTHS_BALANCE  AMT_BALANCE  \\\n",
              "520387      1489396      100006              -2          0.0   \n",
              "584804      1489396      100006              -1          0.0   \n",
              "655566      1489396      100006              -5          0.0   \n",
              "1347528     1489396      100006              -3          0.0   \n",
              "1399895     1489396      100006              -4          0.0   \n",
              "\n",
              "         AMT_CREDIT_LIMIT_ACTUAL  AMT_DRAWINGS_ATM_CURRENT  \\\n",
              "520387                    270000                       NaN   \n",
              "584804                    270000                       NaN   \n",
              "655566                    270000                       NaN   \n",
              "1347528                   270000                       NaN   \n",
              "1399895                   270000                       NaN   \n",
              "\n",
              "         AMT_DRAWINGS_CURRENT  AMT_DRAWINGS_OTHER_CURRENT  \\\n",
              "520387                    0.0                         NaN   \n",
              "584804                    0.0                         NaN   \n",
              "655566                    0.0                         NaN   \n",
              "1347528                   0.0                         NaN   \n",
              "1399895                   0.0                         NaN   \n",
              "\n",
              "         AMT_DRAWINGS_POS_CURRENT  AMT_INST_MIN_REGULARITY  ...  \\\n",
              "520387                        NaN                      0.0  ...   \n",
              "584804                        NaN                      0.0  ...   \n",
              "655566                        NaN                      0.0  ...   \n",
              "1347528                       NaN                      0.0  ...   \n",
              "1399895                       NaN                      0.0  ...   \n",
              "\n",
              "         AMT_RECIVABLE  AMT_TOTAL_RECEIVABLE  CNT_DRAWINGS_ATM_CURRENT  \\\n",
              "520387             0.0                   0.0                       NaN   \n",
              "584804             0.0                   0.0                       NaN   \n",
              "655566             0.0                   0.0                       NaN   \n",
              "1347528            0.0                   0.0                       NaN   \n",
              "1399895            0.0                   0.0                       NaN   \n",
              "\n",
              "         CNT_DRAWINGS_CURRENT  CNT_DRAWINGS_OTHER_CURRENT  \\\n",
              "520387                      0                         NaN   \n",
              "584804                      0                         NaN   \n",
              "655566                      0                         NaN   \n",
              "1347528                     0                         NaN   \n",
              "1399895                     0                         NaN   \n",
              "\n",
              "         CNT_DRAWINGS_POS_CURRENT  CNT_INSTALMENT_MATURE_CUM  \\\n",
              "520387                        NaN                        0.0   \n",
              "584804                        NaN                        0.0   \n",
              "655566                        NaN                        0.0   \n",
              "1347528                       NaN                        0.0   \n",
              "1399895                       NaN                        0.0   \n",
              "\n",
              "         NAME_CONTRACT_STATUS  SK_DPD  SK_DPD_DEF  \n",
              "520387                 Active       0           0  \n",
              "584804                 Active       0           0  \n",
              "655566                 Active       0           0  \n",
              "1347528                Active       0           0  \n",
              "1399895                Active       0           0  \n",
              "\n",
              "[5 rows x 23 columns]"
            ],
            "text/html": [
              "\n",
              "  <div id=\"df-38a06229-2a22-48ab-8301-b4647e4a329e\">\n",
              "    <div class=\"colab-df-container\">\n",
              "      <div>\n",
              "<style scoped>\n",
              "    .dataframe tbody tr th:only-of-type {\n",
              "        vertical-align: middle;\n",
              "    }\n",
              "\n",
              "    .dataframe tbody tr th {\n",
              "        vertical-align: top;\n",
              "    }\n",
              "\n",
              "    .dataframe thead th {\n",
              "        text-align: right;\n",
              "    }\n",
              "</style>\n",
              "<table border=\"1\" class=\"dataframe\">\n",
              "  <thead>\n",
              "    <tr style=\"text-align: right;\">\n",
              "      <th></th>\n",
              "      <th>SK_ID_PREV</th>\n",
              "      <th>SK_ID_CURR</th>\n",
              "      <th>MONTHS_BALANCE</th>\n",
              "      <th>AMT_BALANCE</th>\n",
              "      <th>AMT_CREDIT_LIMIT_ACTUAL</th>\n",
              "      <th>AMT_DRAWINGS_ATM_CURRENT</th>\n",
              "      <th>AMT_DRAWINGS_CURRENT</th>\n",
              "      <th>AMT_DRAWINGS_OTHER_CURRENT</th>\n",
              "      <th>AMT_DRAWINGS_POS_CURRENT</th>\n",
              "      <th>AMT_INST_MIN_REGULARITY</th>\n",
              "      <th>...</th>\n",
              "      <th>AMT_RECIVABLE</th>\n",
              "      <th>AMT_TOTAL_RECEIVABLE</th>\n",
              "      <th>CNT_DRAWINGS_ATM_CURRENT</th>\n",
              "      <th>CNT_DRAWINGS_CURRENT</th>\n",
              "      <th>CNT_DRAWINGS_OTHER_CURRENT</th>\n",
              "      <th>CNT_DRAWINGS_POS_CURRENT</th>\n",
              "      <th>CNT_INSTALMENT_MATURE_CUM</th>\n",
              "      <th>NAME_CONTRACT_STATUS</th>\n",
              "      <th>SK_DPD</th>\n",
              "      <th>SK_DPD_DEF</th>\n",
              "    </tr>\n",
              "  </thead>\n",
              "  <tbody>\n",
              "    <tr>\n",
              "      <th>520387</th>\n",
              "      <td>1489396</td>\n",
              "      <td>100006</td>\n",
              "      <td>-2</td>\n",
              "      <td>0.0</td>\n",
              "      <td>270000</td>\n",
              "      <td>NaN</td>\n",
              "      <td>0.0</td>\n",
              "      <td>NaN</td>\n",
              "      <td>NaN</td>\n",
              "      <td>0.0</td>\n",
              "      <td>...</td>\n",
              "      <td>0.0</td>\n",
              "      <td>0.0</td>\n",
              "      <td>NaN</td>\n",
              "      <td>0</td>\n",
              "      <td>NaN</td>\n",
              "      <td>NaN</td>\n",
              "      <td>0.0</td>\n",
              "      <td>Active</td>\n",
              "      <td>0</td>\n",
              "      <td>0</td>\n",
              "    </tr>\n",
              "    <tr>\n",
              "      <th>584804</th>\n",
              "      <td>1489396</td>\n",
              "      <td>100006</td>\n",
              "      <td>-1</td>\n",
              "      <td>0.0</td>\n",
              "      <td>270000</td>\n",
              "      <td>NaN</td>\n",
              "      <td>0.0</td>\n",
              "      <td>NaN</td>\n",
              "      <td>NaN</td>\n",
              "      <td>0.0</td>\n",
              "      <td>...</td>\n",
              "      <td>0.0</td>\n",
              "      <td>0.0</td>\n",
              "      <td>NaN</td>\n",
              "      <td>0</td>\n",
              "      <td>NaN</td>\n",
              "      <td>NaN</td>\n",
              "      <td>0.0</td>\n",
              "      <td>Active</td>\n",
              "      <td>0</td>\n",
              "      <td>0</td>\n",
              "    </tr>\n",
              "    <tr>\n",
              "      <th>655566</th>\n",
              "      <td>1489396</td>\n",
              "      <td>100006</td>\n",
              "      <td>-5</td>\n",
              "      <td>0.0</td>\n",
              "      <td>270000</td>\n",
              "      <td>NaN</td>\n",
              "      <td>0.0</td>\n",
              "      <td>NaN</td>\n",
              "      <td>NaN</td>\n",
              "      <td>0.0</td>\n",
              "      <td>...</td>\n",
              "      <td>0.0</td>\n",
              "      <td>0.0</td>\n",
              "      <td>NaN</td>\n",
              "      <td>0</td>\n",
              "      <td>NaN</td>\n",
              "      <td>NaN</td>\n",
              "      <td>0.0</td>\n",
              "      <td>Active</td>\n",
              "      <td>0</td>\n",
              "      <td>0</td>\n",
              "    </tr>\n",
              "    <tr>\n",
              "      <th>1347528</th>\n",
              "      <td>1489396</td>\n",
              "      <td>100006</td>\n",
              "      <td>-3</td>\n",
              "      <td>0.0</td>\n",
              "      <td>270000</td>\n",
              "      <td>NaN</td>\n",
              "      <td>0.0</td>\n",
              "      <td>NaN</td>\n",
              "      <td>NaN</td>\n",
              "      <td>0.0</td>\n",
              "      <td>...</td>\n",
              "      <td>0.0</td>\n",
              "      <td>0.0</td>\n",
              "      <td>NaN</td>\n",
              "      <td>0</td>\n",
              "      <td>NaN</td>\n",
              "      <td>NaN</td>\n",
              "      <td>0.0</td>\n",
              "      <td>Active</td>\n",
              "      <td>0</td>\n",
              "      <td>0</td>\n",
              "    </tr>\n",
              "    <tr>\n",
              "      <th>1399895</th>\n",
              "      <td>1489396</td>\n",
              "      <td>100006</td>\n",
              "      <td>-4</td>\n",
              "      <td>0.0</td>\n",
              "      <td>270000</td>\n",
              "      <td>NaN</td>\n",
              "      <td>0.0</td>\n",
              "      <td>NaN</td>\n",
              "      <td>NaN</td>\n",
              "      <td>0.0</td>\n",
              "      <td>...</td>\n",
              "      <td>0.0</td>\n",
              "      <td>0.0</td>\n",
              "      <td>NaN</td>\n",
              "      <td>0</td>\n",
              "      <td>NaN</td>\n",
              "      <td>NaN</td>\n",
              "      <td>0.0</td>\n",
              "      <td>Active</td>\n",
              "      <td>0</td>\n",
              "      <td>0</td>\n",
              "    </tr>\n",
              "  </tbody>\n",
              "</table>\n",
              "<p>5 rows × 23 columns</p>\n",
              "</div>\n",
              "      <button class=\"colab-df-convert\" onclick=\"convertToInteractive('df-38a06229-2a22-48ab-8301-b4647e4a329e')\"\n",
              "              title=\"Convert this dataframe to an interactive table.\"\n",
              "              style=\"display:none;\">\n",
              "        \n",
              "  <svg xmlns=\"http://www.w3.org/2000/svg\" height=\"24px\"viewBox=\"0 0 24 24\"\n",
              "       width=\"24px\">\n",
              "    <path d=\"M0 0h24v24H0V0z\" fill=\"none\"/>\n",
              "    <path d=\"M18.56 5.44l.94 2.06.94-2.06 2.06-.94-2.06-.94-.94-2.06-.94 2.06-2.06.94zm-11 1L8.5 8.5l.94-2.06 2.06-.94-2.06-.94L8.5 2.5l-.94 2.06-2.06.94zm10 10l.94 2.06.94-2.06 2.06-.94-2.06-.94-.94-2.06-.94 2.06-2.06.94z\"/><path d=\"M17.41 7.96l-1.37-1.37c-.4-.4-.92-.59-1.43-.59-.52 0-1.04.2-1.43.59L10.3 9.45l-7.72 7.72c-.78.78-.78 2.05 0 2.83L4 21.41c.39.39.9.59 1.41.59.51 0 1.02-.2 1.41-.59l7.78-7.78 2.81-2.81c.8-.78.8-2.07 0-2.86zM5.41 20L4 18.59l7.72-7.72 1.47 1.35L5.41 20z\"/>\n",
              "  </svg>\n",
              "      </button>\n",
              "      \n",
              "  <style>\n",
              "    .colab-df-container {\n",
              "      display:flex;\n",
              "      flex-wrap:wrap;\n",
              "      gap: 12px;\n",
              "    }\n",
              "\n",
              "    .colab-df-convert {\n",
              "      background-color: #E8F0FE;\n",
              "      border: none;\n",
              "      border-radius: 50%;\n",
              "      cursor: pointer;\n",
              "      display: none;\n",
              "      fill: #1967D2;\n",
              "      height: 32px;\n",
              "      padding: 0 0 0 0;\n",
              "      width: 32px;\n",
              "    }\n",
              "\n",
              "    .colab-df-convert:hover {\n",
              "      background-color: #E2EBFA;\n",
              "      box-shadow: 0px 1px 2px rgba(60, 64, 67, 0.3), 0px 1px 3px 1px rgba(60, 64, 67, 0.15);\n",
              "      fill: #174EA6;\n",
              "    }\n",
              "\n",
              "    [theme=dark] .colab-df-convert {\n",
              "      background-color: #3B4455;\n",
              "      fill: #D2E3FC;\n",
              "    }\n",
              "\n",
              "    [theme=dark] .colab-df-convert:hover {\n",
              "      background-color: #434B5C;\n",
              "      box-shadow: 0px 1px 3px 1px rgba(0, 0, 0, 0.15);\n",
              "      filter: drop-shadow(0px 1px 2px rgba(0, 0, 0, 0.3));\n",
              "      fill: #FFFFFF;\n",
              "    }\n",
              "  </style>\n",
              "\n",
              "      <script>\n",
              "        const buttonEl =\n",
              "          document.querySelector('#df-38a06229-2a22-48ab-8301-b4647e4a329e button.colab-df-convert');\n",
              "        buttonEl.style.display =\n",
              "          google.colab.kernel.accessAllowed ? 'block' : 'none';\n",
              "\n",
              "        async function convertToInteractive(key) {\n",
              "          const element = document.querySelector('#df-38a06229-2a22-48ab-8301-b4647e4a329e');\n",
              "          const dataTable =\n",
              "            await google.colab.kernel.invokeFunction('convertToInteractive',\n",
              "                                                     [key], {});\n",
              "          if (!dataTable) return;\n",
              "\n",
              "          const docLinkHtml = 'Like what you see? Visit the ' +\n",
              "            '<a target=\"_blank\" href=https://colab.research.google.com/notebooks/data_table.ipynb>data table notebook</a>'\n",
              "            + ' to learn more about interactive tables.';\n",
              "          element.innerHTML = '';\n",
              "          dataTable['output_type'] = 'display_data';\n",
              "          await google.colab.output.renderOutput(dataTable, element);\n",
              "          const docLink = document.createElement('div');\n",
              "          docLink.innerHTML = docLinkHtml;\n",
              "          element.appendChild(docLink);\n",
              "        }\n",
              "      </script>\n",
              "    </div>\n",
              "  </div>\n",
              "  "
            ]
          },
          "metadata": {},
          "execution_count": 89
        }
      ]
    },
    {
      "cell_type": "markdown",
      "source": [
        "## **Remove duplicate observations**"
      ],
      "metadata": {
        "id": "yTPOXkWL42PF"
      }
    },
    {
      "cell_type": "code",
      "source": [
        "columns_to_exclude = ['SK_ID_PREV']  # Columns to exclude from duplication check\n",
        "columns_to_check = df_credit_card_balance.columns.difference(columns_to_exclude)  # Columns to include in duplication check\n",
        "\n",
        "# Check for duplicates only in the specified columns\n",
        "duplicates = df_credit_card_balance.duplicated(subset=columns_to_check)\n",
        "\n",
        "# Access the rows that are not duplicates in the specified columns\n",
        "print('Before:', df_credit_card_balance.shape)\n",
        "df_credit_card_balance = df_credit_card_balance[~duplicates]\n",
        "print('After:', df_credit_card_balance.shape)"
      ],
      "metadata": {
        "colab": {
          "base_uri": "https://localhost:8080/"
        },
        "id": "U_ZYFFW444JL",
        "outputId": "671c60e1-0379-4643-a4bc-dc4396fe1c9d"
      },
      "execution_count": null,
      "outputs": [
        {
          "output_type": "stream",
          "name": "stdout",
          "text": [
            "Before: (3840312, 23)\n",
            "After: (3840293, 23)\n"
          ]
        }
      ]
    },
    {
      "cell_type": "markdown",
      "source": [
        "## **Handling missing values**"
      ],
      "metadata": {
        "id": "c-_ujZDiCBo2"
      }
    },
    {
      "cell_type": "code",
      "source": [
        "# Plot the number of missing values\n",
        "fig, ax = plot_missing_values(df_credit_card_balance, 'credit_card_balance')\n",
        "plt.show()"
      ],
      "metadata": {
        "colab": {
          "base_uri": "https://localhost:8080/",
          "height": 542
        },
        "id": "BAqgD6jMKTWJ",
        "outputId": "d683e08c-8bf6-42d5-d776-7e846ae407de"
      },
      "execution_count": null,
      "outputs": [
        {
          "output_type": "display_data",
          "data": {
            "text/plain": [
              "<Figure size 600x300 with 1 Axes>"
            ],
            "image/png": "[encoded data removed]"
          },
          "metadata": {}
        }
      ]
    },
    {
      "cell_type": "code",
      "source": [
        "columns_with_nan = ['AMT_DRAWINGS_ATM_CURRENT', 'AMT_DRAWINGS_OTHER_CURRENT',\n",
        "    'AMT_DRAWINGS_POS_CURRENT', 'AMT_INST_MIN_REGULARITY', 'AMT_PAYMENT_CURRENT', \n",
        "    'CNT_DRAWINGS_ATM_CURRENT', 'CNT_DRAWINGS_OTHER_CURRENT', 'CNT_DRAWINGS_POS_CURRENT',\n",
        "    'CNT_INSTALMENT_MATURE_CUM']"
      ],
      "metadata": {
        "id": "VD_uVR1ybLsJ"
      },
      "execution_count": null,
      "outputs": []
    },
    {
      "cell_type": "code",
      "source": [
        "df_credit_card_balance[columns_with_nan].describe().T.round(1)"
      ],
      "metadata": {
        "colab": {
          "base_uri": "https://localhost:8080/",
          "height": 331
        },
        "id": "gOjJrxJXYdL5",
        "outputId": "36f376a4-12b8-4fc8-dbb4-e077d1266b9f"
      },
      "execution_count": null,
      "outputs": [
        {
          "output_type": "execute_result",
          "data": {
            "text/plain": [
              "                                count     mean      std     min    25%  \\\n",
              "AMT_DRAWINGS_ATM_CURRENT    3090482.0   5961.4  28225.7 -6827.3    0.0   \n",
              "AMT_DRAWINGS_OTHER_CURRENT  3090482.0    288.2   8202.0     0.0    0.0   \n",
              "AMT_DRAWINGS_POS_CURRENT    3090482.0   2968.8  20796.9     0.0    0.0   \n",
              "AMT_INST_MIN_REGULARITY     3535057.0   3540.2   5600.2     0.0    0.0   \n",
              "AMT_PAYMENT_CURRENT         3072310.0  10280.6  36078.2     0.0  152.4   \n",
              "CNT_DRAWINGS_ATM_CURRENT    3090482.0      0.3      1.1     0.0    0.0   \n",
              "CNT_DRAWINGS_OTHER_CURRENT  3090482.0      0.0      0.1     0.0    0.0   \n",
              "CNT_DRAWINGS_POS_CURRENT    3090482.0      0.6      3.2     0.0    0.0   \n",
              "CNT_INSTALMENT_MATURE_CUM   3535057.0     20.8     20.1     0.0    4.0   \n",
              "\n",
              "                               50%     75%        max  \n",
              "AMT_DRAWINGS_ATM_CURRENT       0.0     0.0  2115000.0  \n",
              "AMT_DRAWINGS_OTHER_CURRENT     0.0     0.0  1529847.0  \n",
              "AMT_DRAWINGS_POS_CURRENT       0.0     0.0  2239274.2  \n",
              "AMT_INST_MIN_REGULARITY        0.0  6634.2   202882.0  \n",
              "AMT_PAYMENT_CURRENT         2702.7  9000.0  4289207.4  \n",
              "CNT_DRAWINGS_ATM_CURRENT       0.0     0.0       51.0  \n",
              "CNT_DRAWINGS_OTHER_CURRENT     0.0     0.0       12.0  \n",
              "CNT_DRAWINGS_POS_CURRENT       0.0     0.0      165.0  \n",
              "CNT_INSTALMENT_MATURE_CUM     15.0    32.0      120.0  "
            ],
            "text/html": [
              "\n",
              "  <div id=\"df-3f606663-163e-43f6-b772-5627bd92cda6\">\n",
              "    <div class=\"colab-df-container\">\n",
              "      <div>\n",
              "<style scoped>\n",
              "    .dataframe tbody tr th:only-of-type {\n",
              "        vertical-align: middle;\n",
              "    }\n",
              "\n",
              "    .dataframe tbody tr th {\n",
              "        vertical-align: top;\n",
              "    }\n",
              "\n",
              "    .dataframe thead th {\n",
              "        text-align: right;\n",
              "    }\n",
              "</style>\n",
              "<table border=\"1\" class=\"dataframe\">\n",
              "  <thead>\n",
              "    <tr style=\"text-align: right;\">\n",
              "      <th></th>\n",
              "      <th>count</th>\n",
              "      <th>mean</th>\n",
              "      <th>std</th>\n",
              "      <th>min</th>\n",
              "      <th>25%</th>\n",
              "      <th>50%</th>\n",
              "      <th>75%</th>\n",
              "      <th>max</th>\n",
              "    </tr>\n",
              "  </thead>\n",
              "  <tbody>\n",
              "    <tr>\n",
              "      <th>AMT_DRAWINGS_ATM_CURRENT</th>\n",
              "      <td>3090482.0</td>\n",
              "      <td>5961.4</td>\n",
              "      <td>28225.7</td>\n",
              "      <td>-6827.3</td>\n",
              "      <td>0.0</td>\n",
              "      <td>0.0</td>\n",
              "      <td>0.0</td>\n",
              "      <td>2115000.0</td>\n",
              "    </tr>\n",
              "    <tr>\n",
              "      <th>AMT_DRAWINGS_OTHER_CURRENT</th>\n",
              "      <td>3090482.0</td>\n",
              "      <td>288.2</td>\n",
              "      <td>8202.0</td>\n",
              "      <td>0.0</td>\n",
              "      <td>0.0</td>\n",
              "      <td>0.0</td>\n",
              "      <td>0.0</td>\n",
              "      <td>1529847.0</td>\n",
              "    </tr>\n",
              "    <tr>\n",
              "      <th>AMT_DRAWINGS_POS_CURRENT</th>\n",
              "      <td>3090482.0</td>\n",
              "      <td>2968.8</td>\n",
              "      <td>20796.9</td>\n",
              "      <td>0.0</td>\n",
              "      <td>0.0</td>\n",
              "      <td>0.0</td>\n",
              "      <td>0.0</td>\n",
              "      <td>2239274.2</td>\n",
              "    </tr>\n",
              "    <tr>\n",
              "      <th>AMT_INST_MIN_REGULARITY</th>\n",
              "      <td>3535057.0</td>\n",
              "      <td>3540.2</td>\n",
              "      <td>5600.2</td>\n",
              "      <td>0.0</td>\n",
              "      <td>0.0</td>\n",
              "      <td>0.0</td>\n",
              "      <td>6634.2</td>\n",
              "      <td>202882.0</td>\n",
              "    </tr>\n",
              "    <tr>\n",
              "      <th>AMT_PAYMENT_CURRENT</th>\n",
              "      <td>3072310.0</td>\n",
              "      <td>10280.6</td>\n",
              "      <td>36078.2</td>\n",
              "      <td>0.0</td>\n",
              "      <td>152.4</td>\n",
              "      <td>2702.7</td>\n",
              "      <td>9000.0</td>\n",
              "      <td>4289207.4</td>\n",
              "    </tr>\n",
              "    <tr>\n",
              "      <th>CNT_DRAWINGS_ATM_CURRENT</th>\n",
              "      <td>3090482.0</td>\n",
              "      <td>0.3</td>\n",
              "      <td>1.1</td>\n",
              "      <td>0.0</td>\n",
              "      <td>0.0</td>\n",
              "      <td>0.0</td>\n",
              "      <td>0.0</td>\n",
              "      <td>51.0</td>\n",
              "    </tr>\n",
              "    <tr>\n",
              "      <th>CNT_DRAWINGS_OTHER_CURRENT</th>\n",
              "      <td>3090482.0</td>\n",
              "      <td>0.0</td>\n",
              "      <td>0.1</td>\n",
              "      <td>0.0</td>\n",
              "      <td>0.0</td>\n",
              "      <td>0.0</td>\n",
              "      <td>0.0</td>\n",
              "      <td>12.0</td>\n",
              "    </tr>\n",
              "    <tr>\n",
              "      <th>CNT_DRAWINGS_POS_CURRENT</th>\n",
              "      <td>3090482.0</td>\n",
              "      <td>0.6</td>\n",
              "      <td>3.2</td>\n",
              "      <td>0.0</td>\n",
              "      <td>0.0</td>\n",
              "      <td>0.0</td>\n",
              "      <td>0.0</td>\n",
              "      <td>165.0</td>\n",
              "    </tr>\n",
              "    <tr>\n",
              "      <th>CNT_INSTALMENT_MATURE_CUM</th>\n",
              "      <td>3535057.0</td>\n",
              "      <td>20.8</td>\n",
              "      <td>20.1</td>\n",
              "      <td>0.0</td>\n",
              "      <td>4.0</td>\n",
              "      <td>15.0</td>\n",
              "      <td>32.0</td>\n",
              "      <td>120.0</td>\n",
              "    </tr>\n",
              "  </tbody>\n",
              "</table>\n",
              "</div>\n",
              "      <button class=\"colab-df-convert\" onclick=\"convertToInteractive('df-3f606663-163e-43f6-b772-5627bd92cda6')\"\n",
              "              title=\"Convert this dataframe to an interactive table.\"\n",
              "              style=\"display:none;\">\n",
              "        \n",
              "  <svg xmlns=\"http://www.w3.org/2000/svg\" height=\"24px\"viewBox=\"0 0 24 24\"\n",
              "       width=\"24px\">\n",
              "    <path d=\"M0 0h24v24H0V0z\" fill=\"none\"/>\n",
              "    <path d=\"M18.56 5.44l.94 2.06.94-2.06 2.06-.94-2.06-.94-.94-2.06-.94 2.06-2.06.94zm-11 1L8.5 8.5l.94-2.06 2.06-.94-2.06-.94L8.5 2.5l-.94 2.06-2.06.94zm10 10l.94 2.06.94-2.06 2.06-.94-2.06-.94-.94-2.06-.94 2.06-2.06.94z\"/><path d=\"M17.41 7.96l-1.37-1.37c-.4-.4-.92-.59-1.43-.59-.52 0-1.04.2-1.43.59L10.3 9.45l-7.72 7.72c-.78.78-.78 2.05 0 2.83L4 21.41c.39.39.9.59 1.41.59.51 0 1.02-.2 1.41-.59l7.78-7.78 2.81-2.81c.8-.78.8-2.07 0-2.86zM5.41 20L4 18.59l7.72-7.72 1.47 1.35L5.41 20z\"/>\n",
              "  </svg>\n",
              "      </button>\n",
              "      \n",
              "  <style>\n",
              "    .colab-df-container {\n",
              "      display:flex;\n",
              "      flex-wrap:wrap;\n",
              "      gap: 12px;\n",
              "    }\n",
              "\n",
              "    .colab-df-convert {\n",
              "      background-color: #E8F0FE;\n",
              "      border: none;\n",
              "      border-radius: 50%;\n",
              "      cursor: pointer;\n",
              "      display: none;\n",
              "      fill: #1967D2;\n",
              "      height: 32px;\n",
              "      padding: 0 0 0 0;\n",
              "      width: 32px;\n",
              "    }\n",
              "\n",
              "    .colab-df-convert:hover {\n",
              "      background-color: #E2EBFA;\n",
              "      box-shadow: 0px 1px 2px rgba(60, 64, 67, 0.3), 0px 1px 3px 1px rgba(60, 64, 67, 0.15);\n",
              "      fill: #174EA6;\n",
              "    }\n",
              "\n",
              "    [theme=dark] .colab-df-convert {\n",
              "      background-color: #3B4455;\n",
              "      fill: #D2E3FC;\n",
              "    }\n",
              "\n",
              "    [theme=dark] .colab-df-convert:hover {\n",
              "      background-color: #434B5C;\n",
              "      box-shadow: 0px 1px 3px 1px rgba(0, 0, 0, 0.15);\n",
              "      filter: drop-shadow(0px 1px 2px rgba(0, 0, 0, 0.3));\n",
              "      fill: #FFFFFF;\n",
              "    }\n",
              "  </style>\n",
              "\n",
              "      <script>\n",
              "        const buttonEl =\n",
              "          document.querySelector('#df-3f606663-163e-43f6-b772-5627bd92cda6 button.colab-df-convert');\n",
              "        buttonEl.style.display =\n",
              "          google.colab.kernel.accessAllowed ? 'block' : 'none';\n",
              "\n",
              "        async function convertToInteractive(key) {\n",
              "          const element = document.querySelector('#df-3f606663-163e-43f6-b772-5627bd92cda6');\n",
              "          const dataTable =\n",
              "            await google.colab.kernel.invokeFunction('convertToInteractive',\n",
              "                                                     [key], {});\n",
              "          if (!dataTable) return;\n",
              "\n",
              "          const docLinkHtml = 'Like what you see? Visit the ' +\n",
              "            '<a target=\"_blank\" href=https://colab.research.google.com/notebooks/data_table.ipynb>data table notebook</a>'\n",
              "            + ' to learn more about interactive tables.';\n",
              "          element.innerHTML = '';\n",
              "          dataTable['output_type'] = 'display_data';\n",
              "          await google.colab.output.renderOutput(dataTable, element);\n",
              "          const docLink = document.createElement('div');\n",
              "          docLink.innerHTML = docLinkHtml;\n",
              "          element.appendChild(docLink);\n",
              "        }\n",
              "      </script>\n",
              "    </div>\n",
              "  </div>\n",
              "  "
            ]
          },
          "metadata": {},
          "execution_count": 93
        }
      ]
    },
    {
      "cell_type": "markdown",
      "source": [
        "Since most of the columns have a 75% value of 0, and for the remaining columns, I assume there were no transactions (such as no ATM drawings, no payments made, and no paid installments), I will fill the NaN values with 0 for all these missing values."
      ],
      "metadata": {
        "id": "WxjcrcS7dTBA"
      }
    },
    {
      "cell_type": "code",
      "source": [
        "# Fill NaN values with 0 in specified columns\n",
        "df_credit_card_balance[columns_with_nan] = df_credit_card_balance[columns_with_nan].fillna(0)"
      ],
      "metadata": {
        "id": "ilWZJ58PaqQn"
      },
      "execution_count": null,
      "outputs": []
    },
    {
      "cell_type": "markdown",
      "source": [
        "## **Check if there are any missing values for the last time**"
      ],
      "metadata": {
        "id": "rB84YF3dCIN2"
      }
    },
    {
      "cell_type": "code",
      "source": [
        "isna_counts = df_credit_card_balance.isna().sum()\n",
        "if not isna_counts[isna_counts > 0].any():\n",
        "    print('All clear')\n",
        "else:\n",
        "    print(isna_counts[isna_counts > 0])"
      ],
      "metadata": {
        "id": "4vCRC_sFyTqJ",
        "colab": {
          "base_uri": "https://localhost:8080/"
        },
        "outputId": "007b3d18-0ced-4d01-f815-269755042b8e"
      },
      "execution_count": null,
      "outputs": [
        {
          "output_type": "stream",
          "name": "stdout",
          "text": [
            "All clear\n"
          ]
        }
      ]
    },
    {
      "cell_type": "markdown",
      "source": [
        "## **Data type conversion**"
      ],
      "metadata": {
        "id": "8Zx1XniBeHB0"
      }
    },
    {
      "cell_type": "code",
      "source": [
        "# List of columns to be converted from float to int data type\n",
        "columns_to_convert = ['CNT_DRAWINGS_ATM_CURRENT', 'CNT_DRAWINGS_OTHER_CURRENT', \n",
        "    'CNT_DRAWINGS_POS_CURRENT', 'CNT_INSTALMENT_MATURE_CUM']\n",
        "\n",
        "# Convert the columns from float to int data type\n",
        "df_credit_card_balance[columns_to_convert] = df_credit_card_balance[columns_to_convert].astype(int)"
      ],
      "metadata": {
        "id": "vK4j8muheI2_"
      },
      "execution_count": null,
      "outputs": []
    },
    {
      "cell_type": "markdown",
      "source": [
        "# **Preparing `installments_payments` data**"
      ],
      "metadata": {
        "id": "jjrD8PCULXj5"
      }
    },
    {
      "cell_type": "code",
      "source": [
        "# Print the first few rows\n",
        "df_installments_payments = df_installments_payments.sort_values(['SK_ID_CURR', 'SK_ID_PREV'])\n",
        "df_installments_payments.head()"
      ],
      "metadata": {
        "colab": {
          "base_uri": "https://localhost:8080/",
          "height": 270
        },
        "id": "1EUt7hC4Lgeh",
        "outputId": "1ccfbdc3-8847-43ff-e447-d4f5e73c4f2d"
      },
      "execution_count": null,
      "outputs": [
        {
          "output_type": "execute_result",
          "data": {
            "text/plain": [
              "         SK_ID_PREV  SK_ID_CURR  NUM_INSTALMENT_VERSION  \\\n",
              "1478621     1369693      100001                     1.0   \n",
              "2568722     1369693      100001                     1.0   \n",
              "2624024     1369693      100001                     2.0   \n",
              "3458712     1369693      100001                     1.0   \n",
              "1761012     1851984      100001                     1.0   \n",
              "\n",
              "         NUM_INSTALMENT_NUMBER  DAYS_INSTALMENT  DAYS_ENTRY_PAYMENT  \\\n",
              "1478621                      1          -1709.0             -1715.0   \n",
              "2568722                      2          -1679.0             -1715.0   \n",
              "2624024                      4          -1619.0             -1628.0   \n",
              "3458712                      3          -1649.0             -1660.0   \n",
              "1761012                      2          -2916.0             -2916.0   \n",
              "\n",
              "         AMT_INSTALMENT  AMT_PAYMENT  \n",
              "1478621         3951.00      3951.00  \n",
              "2568722         3951.00      3951.00  \n",
              "2624024        17397.90     17397.90  \n",
              "3458712         3951.00      3951.00  \n",
              "1761012         3982.05      3982.05  "
            ],
            "text/html": [
              "\n",
              "  <div id=\"df-266702be-cd01-498a-ab19-f75ba880e993\">\n",
              "    <div class=\"colab-df-container\">\n",
              "      <div>\n",
              "<style scoped>\n",
              "    .dataframe tbody tr th:only-of-type {\n",
              "        vertical-align: middle;\n",
              "    }\n",
              "\n",
              "    .dataframe tbody tr th {\n",
              "        vertical-align: top;\n",
              "    }\n",
              "\n",
              "    .dataframe thead th {\n",
              "        text-align: right;\n",
              "    }\n",
              "</style>\n",
              "<table border=\"1\" class=\"dataframe\">\n",
              "  <thead>\n",
              "    <tr style=\"text-align: right;\">\n",
              "      <th></th>\n",
              "      <th>SK_ID_PREV</th>\n",
              "      <th>SK_ID_CURR</th>\n",
              "      <th>NUM_INSTALMENT_VERSION</th>\n",
              "      <th>NUM_INSTALMENT_NUMBER</th>\n",
              "      <th>DAYS_INSTALMENT</th>\n",
              "      <th>DAYS_ENTRY_PAYMENT</th>\n",
              "      <th>AMT_INSTALMENT</th>\n",
              "      <th>AMT_PAYMENT</th>\n",
              "    </tr>\n",
              "  </thead>\n",
              "  <tbody>\n",
              "    <tr>\n",
              "      <th>1478621</th>\n",
              "      <td>1369693</td>\n",
              "      <td>100001</td>\n",
              "      <td>1.0</td>\n",
              "      <td>1</td>\n",
              "      <td>-1709.0</td>\n",
              "      <td>-1715.0</td>\n",
              "      <td>3951.00</td>\n",
              "      <td>3951.00</td>\n",
              "    </tr>\n",
              "    <tr>\n",
              "      <th>2568722</th>\n",
              "      <td>1369693</td>\n",
              "      <td>100001</td>\n",
              "      <td>1.0</td>\n",
              "      <td>2</td>\n",
              "      <td>-1679.0</td>\n",
              "      <td>-1715.0</td>\n",
              "      <td>3951.00</td>\n",
              "      <td>3951.00</td>\n",
              "    </tr>\n",
              "    <tr>\n",
              "      <th>2624024</th>\n",
              "      <td>1369693</td>\n",
              "      <td>100001</td>\n",
              "      <td>2.0</td>\n",
              "      <td>4</td>\n",
              "      <td>-1619.0</td>\n",
              "      <td>-1628.0</td>\n",
              "      <td>17397.90</td>\n",
              "      <td>17397.90</td>\n",
              "    </tr>\n",
              "    <tr>\n",
              "      <th>3458712</th>\n",
              "      <td>1369693</td>\n",
              "      <td>100001</td>\n",
              "      <td>1.0</td>\n",
              "      <td>3</td>\n",
              "      <td>-1649.0</td>\n",
              "      <td>-1660.0</td>\n",
              "      <td>3951.00</td>\n",
              "      <td>3951.00</td>\n",
              "    </tr>\n",
              "    <tr>\n",
              "      <th>1761012</th>\n",
              "      <td>1851984</td>\n",
              "      <td>100001</td>\n",
              "      <td>1.0</td>\n",
              "      <td>2</td>\n",
              "      <td>-2916.0</td>\n",
              "      <td>-2916.0</td>\n",
              "      <td>3982.05</td>\n",
              "      <td>3982.05</td>\n",
              "    </tr>\n",
              "  </tbody>\n",
              "</table>\n",
              "</div>\n",
              "      <button class=\"colab-df-convert\" onclick=\"convertToInteractive('df-266702be-cd01-498a-ab19-f75ba880e993')\"\n",
              "              title=\"Convert this dataframe to an interactive table.\"\n",
              "              style=\"display:none;\">\n",
              "        \n",
              "  <svg xmlns=\"http://www.w3.org/2000/svg\" height=\"24px\"viewBox=\"0 0 24 24\"\n",
              "       width=\"24px\">\n",
              "    <path d=\"M0 0h24v24H0V0z\" fill=\"none\"/>\n",
              "    <path d=\"M18.56 5.44l.94 2.06.94-2.06 2.06-.94-2.06-.94-.94-2.06-.94 2.06-2.06.94zm-11 1L8.5 8.5l.94-2.06 2.06-.94-2.06-.94L8.5 2.5l-.94 2.06-2.06.94zm10 10l.94 2.06.94-2.06 2.06-.94-2.06-.94-.94-2.06-.94 2.06-2.06.94z\"/><path d=\"M17.41 7.96l-1.37-1.37c-.4-.4-.92-.59-1.43-.59-.52 0-1.04.2-1.43.59L10.3 9.45l-7.72 7.72c-.78.78-.78 2.05 0 2.83L4 21.41c.39.39.9.59 1.41.59.51 0 1.02-.2 1.41-.59l7.78-7.78 2.81-2.81c.8-.78.8-2.07 0-2.86zM5.41 20L4 18.59l7.72-7.72 1.47 1.35L5.41 20z\"/>\n",
              "  </svg>\n",
              "      </button>\n",
              "      \n",
              "  <style>\n",
              "    .colab-df-container {\n",
              "      display:flex;\n",
              "      flex-wrap:wrap;\n",
              "      gap: 12px;\n",
              "    }\n",
              "\n",
              "    .colab-df-convert {\n",
              "      background-color: #E8F0FE;\n",
              "      border: none;\n",
              "      border-radius: 50%;\n",
              "      cursor: pointer;\n",
              "      display: none;\n",
              "      fill: #1967D2;\n",
              "      height: 32px;\n",
              "      padding: 0 0 0 0;\n",
              "      width: 32px;\n",
              "    }\n",
              "\n",
              "    .colab-df-convert:hover {\n",
              "      background-color: #E2EBFA;\n",
              "      box-shadow: 0px 1px 2px rgba(60, 64, 67, 0.3), 0px 1px 3px 1px rgba(60, 64, 67, 0.15);\n",
              "      fill: #174EA6;\n",
              "    }\n",
              "\n",
              "    [theme=dark] .colab-df-convert {\n",
              "      background-color: #3B4455;\n",
              "      fill: #D2E3FC;\n",
              "    }\n",
              "\n",
              "    [theme=dark] .colab-df-convert:hover {\n",
              "      background-color: #434B5C;\n",
              "      box-shadow: 0px 1px 3px 1px rgba(0, 0, 0, 0.15);\n",
              "      filter: drop-shadow(0px 1px 2px rgba(0, 0, 0, 0.3));\n",
              "      fill: #FFFFFF;\n",
              "    }\n",
              "  </style>\n",
              "\n",
              "      <script>\n",
              "        const buttonEl =\n",
              "          document.querySelector('#df-266702be-cd01-498a-ab19-f75ba880e993 button.colab-df-convert');\n",
              "        buttonEl.style.display =\n",
              "          google.colab.kernel.accessAllowed ? 'block' : 'none';\n",
              "\n",
              "        async function convertToInteractive(key) {\n",
              "          const element = document.querySelector('#df-266702be-cd01-498a-ab19-f75ba880e993');\n",
              "          const dataTable =\n",
              "            await google.colab.kernel.invokeFunction('convertToInteractive',\n",
              "                                                     [key], {});\n",
              "          if (!dataTable) return;\n",
              "\n",
              "          const docLinkHtml = 'Like what you see? Visit the ' +\n",
              "            '<a target=\"_blank\" href=https://colab.research.google.com/notebooks/data_table.ipynb>data table notebook</a>'\n",
              "            + ' to learn more about interactive tables.';\n",
              "          element.innerHTML = '';\n",
              "          dataTable['output_type'] = 'display_data';\n",
              "          await google.colab.output.renderOutput(dataTable, element);\n",
              "          const docLink = document.createElement('div');\n",
              "          docLink.innerHTML = docLinkHtml;\n",
              "          element.appendChild(docLink);\n",
              "        }\n",
              "      </script>\n",
              "    </div>\n",
              "  </div>\n",
              "  "
            ]
          },
          "metadata": {},
          "execution_count": 97
        }
      ]
    },
    {
      "cell_type": "markdown",
      "source": [
        "## **Remove duplicate observations**"
      ],
      "metadata": {
        "id": "vmnQCTm94_E4"
      }
    },
    {
      "cell_type": "code",
      "source": [
        "columns_to_exclude = ['SK_ID_PREV']  # Columns to exclude from duplication check\n",
        "columns_to_check = df_installments_payments.columns.difference(columns_to_exclude)  # Columns to include in duplication check\n",
        "\n",
        "# Check for duplicates only in the specified columns\n",
        "duplicates = df_installments_payments.duplicated(subset=columns_to_check)\n",
        "\n",
        "# Access the rows that are not duplicates in the specified columns\n",
        "print('Before:', df_installments_payments.shape)\n",
        "df_installments_payments = df_installments_payments[~duplicates]\n",
        "print('After:', df_installments_payments.shape)"
      ],
      "metadata": {
        "colab": {
          "base_uri": "https://localhost:8080/"
        },
        "id": "XgBp4HEP5BPF",
        "outputId": "99d09513-1197-48a0-bb6e-62afca6e1973"
      },
      "execution_count": null,
      "outputs": [
        {
          "output_type": "stream",
          "name": "stdout",
          "text": [
            "Before: (13605401, 8)\n",
            "After: (13604596, 8)\n"
          ]
        }
      ]
    },
    {
      "cell_type": "markdown",
      "source": [
        "## **Handling missing values**"
      ],
      "metadata": {
        "id": "hsm7cHWMCTGf"
      }
    },
    {
      "cell_type": "code",
      "source": [
        "# Plot the number of missing values\n",
        "fig, ax = plot_missing_values(df_installments_payments, 'installments_payments', y_axis_format=False)\n",
        "plt.xticks(rotation=0)\n",
        "plt.show()"
      ],
      "metadata": {
        "colab": {
          "base_uri": "https://localhost:8080/",
          "height": 314
        },
        "id": "jRIL6hSaLlBV",
        "outputId": "a66aa674-0492-4f5b-803d-5add0f9bbc43"
      },
      "execution_count": null,
      "outputs": [
        {
          "output_type": "display_data",
          "data": {
            "text/plain": [
              "<Figure size 600x300 with 1 Axes>"
            ],
            "image/png": "[encoded data removed]"
          },
          "metadata": {}
        }
      ]
    },
    {
      "cell_type": "code",
      "source": [
        "df_installments_payments[df_installments_payments['DAYS_ENTRY_PAYMENT'].isna()]"
      ],
      "metadata": {
        "colab": {
          "base_uri": "https://localhost:8080/",
          "height": 487
        },
        "id": "7cj-8ezoRAGJ",
        "outputId": "99b12bf9-24ca-46c5-f25d-4033cedffc66"
      },
      "execution_count": null,
      "outputs": [
        {
          "output_type": "execute_result",
          "data": {
            "text/plain": [
              "          SK_ID_PREV  SK_ID_CURR  NUM_INSTALMENT_VERSION  \\\n",
              "3784858      1871097      100224                     0.0   \n",
              "3789267      1871097      100224                     0.0   \n",
              "3794762      1871097      100224                     0.0   \n",
              "3764266      2341414      100260                     0.0   \n",
              "3794786      2341414      100260                     0.0   \n",
              "...              ...         ...                     ...   \n",
              "13605376     1421163      453693                     0.0   \n",
              "13605380     1421163      453693                     0.0   \n",
              "13588380     2568119      453810                     0.0   \n",
              "13594261     2184228      454195                     0.0   \n",
              "13588387     2813014      455973                     0.0   \n",
              "\n",
              "          NUM_INSTALMENT_NUMBER  DAYS_INSTALMENT  DAYS_ENTRY_PAYMENT  \\\n",
              "3784858                      59          -1555.0                 NaN   \n",
              "3789267                      58          -1586.0                 NaN   \n",
              "3794762                      60          -1494.0                 NaN   \n",
              "3764266                      31          -1717.0                 NaN   \n",
              "3794786                      32          -1686.0                 NaN   \n",
              "...                         ...              ...                 ...   \n",
              "13605376                     60          -1387.0                 NaN   \n",
              "13605380                     59          -1417.0                 NaN   \n",
              "13588380                      2           -166.0                 NaN   \n",
              "13594261                     20          -2480.0                 NaN   \n",
              "13588387                     12             -7.0                 NaN   \n",
              "\n",
              "          AMT_INSTALMENT  AMT_PAYMENT  \n",
              "3784858           67.500          NaN  \n",
              "3789267           67.500          NaN  \n",
              "3794762           67.500          NaN  \n",
              "3764266           67.500          NaN  \n",
              "3794786           67.500          NaN  \n",
              "...                  ...          ...  \n",
              "13605376          67.500          NaN  \n",
              "13605380          67.500          NaN  \n",
              "13588380         225.000          NaN  \n",
              "13594261           0.315          NaN  \n",
              "13588387        4682.340          NaN  \n",
              "\n",
              "[2905 rows x 8 columns]"
            ],
            "text/html": [
              "\n",
              "  <div id=\"df-9e844986-800d-4798-9aee-1b978a5f1abf\">\n",
              "    <div class=\"colab-df-container\">\n",
              "      <div>\n",
              "<style scoped>\n",
              "    .dataframe tbody tr th:only-of-type {\n",
              "        vertical-align: middle;\n",
              "    }\n",
              "\n",
              "    .dataframe tbody tr th {\n",
              "        vertical-align: top;\n",
              "    }\n",
              "\n",
              "    .dataframe thead th {\n",
              "        text-align: right;\n",
              "    }\n",
              "</style>\n",
              "<table border=\"1\" class=\"dataframe\">\n",
              "  <thead>\n",
              "    <tr style=\"text-align: right;\">\n",
              "      <th></th>\n",
              "      <th>SK_ID_PREV</th>\n",
              "      <th>SK_ID_CURR</th>\n",
              "      <th>NUM_INSTALMENT_VERSION</th>\n",
              "      <th>NUM_INSTALMENT_NUMBER</th>\n",
              "      <th>DAYS_INSTALMENT</th>\n",
              "      <th>DAYS_ENTRY_PAYMENT</th>\n",
              "      <th>AMT_INSTALMENT</th>\n",
              "      <th>AMT_PAYMENT</th>\n",
              "    </tr>\n",
              "  </thead>\n",
              "  <tbody>\n",
              "    <tr>\n",
              "      <th>3784858</th>\n",
              "      <td>1871097</td>\n",
              "      <td>100224</td>\n",
              "      <td>0.0</td>\n",
              "      <td>59</td>\n",
              "      <td>-1555.0</td>\n",
              "      <td>NaN</td>\n",
              "      <td>67.500</td>\n",
              "      <td>NaN</td>\n",
              "    </tr>\n",
              "    <tr>\n",
              "      <th>3789267</th>\n",
              "      <td>1871097</td>\n",
              "      <td>100224</td>\n",
              "      <td>0.0</td>\n",
              "      <td>58</td>\n",
              "      <td>-1586.0</td>\n",
              "      <td>NaN</td>\n",
              "      <td>67.500</td>\n",
              "      <td>NaN</td>\n",
              "    </tr>\n",
              "    <tr>\n",
              "      <th>3794762</th>\n",
              "      <td>1871097</td>\n",
              "      <td>100224</td>\n",
              "      <td>0.0</td>\n",
              "      <td>60</td>\n",
              "      <td>-1494.0</td>\n",
              "      <td>NaN</td>\n",
              "      <td>67.500</td>\n",
              "      <td>NaN</td>\n",
              "    </tr>\n",
              "    <tr>\n",
              "      <th>3764266</th>\n",
              "      <td>2341414</td>\n",
              "      <td>100260</td>\n",
              "      <td>0.0</td>\n",
              "      <td>31</td>\n",
              "      <td>-1717.0</td>\n",
              "      <td>NaN</td>\n",
              "      <td>67.500</td>\n",
              "      <td>NaN</td>\n",
              "    </tr>\n",
              "    <tr>\n",
              "      <th>3794786</th>\n",
              "      <td>2341414</td>\n",
              "      <td>100260</td>\n",
              "      <td>0.0</td>\n",
              "      <td>32</td>\n",
              "      <td>-1686.0</td>\n",
              "      <td>NaN</td>\n",
              "      <td>67.500</td>\n",
              "      <td>NaN</td>\n",
              "    </tr>\n",
              "    <tr>\n",
              "      <th>...</th>\n",
              "      <td>...</td>\n",
              "      <td>...</td>\n",
              "      <td>...</td>\n",
              "      <td>...</td>\n",
              "      <td>...</td>\n",
              "      <td>...</td>\n",
              "      <td>...</td>\n",
              "      <td>...</td>\n",
              "    </tr>\n",
              "    <tr>\n",
              "      <th>13605376</th>\n",
              "      <td>1421163</td>\n",
              "      <td>453693</td>\n",
              "      <td>0.0</td>\n",
              "      <td>60</td>\n",
              "      <td>-1387.0</td>\n",
              "      <td>NaN</td>\n",
              "      <td>67.500</td>\n",
              "      <td>NaN</td>\n",
              "    </tr>\n",
              "    <tr>\n",
              "      <th>13605380</th>\n",
              "      <td>1421163</td>\n",
              "      <td>453693</td>\n",
              "      <td>0.0</td>\n",
              "      <td>59</td>\n",
              "      <td>-1417.0</td>\n",
              "      <td>NaN</td>\n",
              "      <td>67.500</td>\n",
              "      <td>NaN</td>\n",
              "    </tr>\n",
              "    <tr>\n",
              "      <th>13588380</th>\n",
              "      <td>2568119</td>\n",
              "      <td>453810</td>\n",
              "      <td>0.0</td>\n",
              "      <td>2</td>\n",
              "      <td>-166.0</td>\n",
              "      <td>NaN</td>\n",
              "      <td>225.000</td>\n",
              "      <td>NaN</td>\n",
              "    </tr>\n",
              "    <tr>\n",
              "      <th>13594261</th>\n",
              "      <td>2184228</td>\n",
              "      <td>454195</td>\n",
              "      <td>0.0</td>\n",
              "      <td>20</td>\n",
              "      <td>-2480.0</td>\n",
              "      <td>NaN</td>\n",
              "      <td>0.315</td>\n",
              "      <td>NaN</td>\n",
              "    </tr>\n",
              "    <tr>\n",
              "      <th>13588387</th>\n",
              "      <td>2813014</td>\n",
              "      <td>455973</td>\n",
              "      <td>0.0</td>\n",
              "      <td>12</td>\n",
              "      <td>-7.0</td>\n",
              "      <td>NaN</td>\n",
              "      <td>4682.340</td>\n",
              "      <td>NaN</td>\n",
              "    </tr>\n",
              "  </tbody>\n",
              "</table>\n",
              "<p>2905 rows × 8 columns</p>\n",
              "</div>\n",
              "      <button class=\"colab-df-convert\" onclick=\"convertToInteractive('df-9e844986-800d-4798-9aee-1b978a5f1abf')\"\n",
              "              title=\"Convert this dataframe to an interactive table.\"\n",
              "              style=\"display:none;\">\n",
              "        \n",
              "  <svg xmlns=\"http://www.w3.org/2000/svg\" height=\"24px\"viewBox=\"0 0 24 24\"\n",
              "       width=\"24px\">\n",
              "    <path d=\"M0 0h24v24H0V0z\" fill=\"none\"/>\n",
              "    <path d=\"M18.56 5.44l.94 2.06.94-2.06 2.06-.94-2.06-.94-.94-2.06-.94 2.06-2.06.94zm-11 1L8.5 8.5l.94-2.06 2.06-.94-2.06-.94L8.5 2.5l-.94 2.06-2.06.94zm10 10l.94 2.06.94-2.06 2.06-.94-2.06-.94-.94-2.06-.94 2.06-2.06.94z\"/><path d=\"M17.41 7.96l-1.37-1.37c-.4-.4-.92-.59-1.43-.59-.52 0-1.04.2-1.43.59L10.3 9.45l-7.72 7.72c-.78.78-.78 2.05 0 2.83L4 21.41c.39.39.9.59 1.41.59.51 0 1.02-.2 1.41-.59l7.78-7.78 2.81-2.81c.8-.78.8-2.07 0-2.86zM5.41 20L4 18.59l7.72-7.72 1.47 1.35L5.41 20z\"/>\n",
              "  </svg>\n",
              "      </button>\n",
              "      \n",
              "  <style>\n",
              "    .colab-df-container {\n",
              "      display:flex;\n",
              "      flex-wrap:wrap;\n",
              "      gap: 12px;\n",
              "    }\n",
              "\n",
              "    .colab-df-convert {\n",
              "      background-color: #E8F0FE;\n",
              "      border: none;\n",
              "      border-radius: 50%;\n",
              "      cursor: pointer;\n",
              "      display: none;\n",
              "      fill: #1967D2;\n",
              "      height: 32px;\n",
              "      padding: 0 0 0 0;\n",
              "      width: 32px;\n",
              "    }\n",
              "\n",
              "    .colab-df-convert:hover {\n",
              "      background-color: #E2EBFA;\n",
              "      box-shadow: 0px 1px 2px rgba(60, 64, 67, 0.3), 0px 1px 3px 1px rgba(60, 64, 67, 0.15);\n",
              "      fill: #174EA6;\n",
              "    }\n",
              "\n",
              "    [theme=dark] .colab-df-convert {\n",
              "      background-color: #3B4455;\n",
              "      fill: #D2E3FC;\n",
              "    }\n",
              "\n",
              "    [theme=dark] .colab-df-convert:hover {\n",
              "      background-color: #434B5C;\n",
              "      box-shadow: 0px 1px 3px 1px rgba(0, 0, 0, 0.15);\n",
              "      filter: drop-shadow(0px 1px 2px rgba(0, 0, 0, 0.3));\n",
              "      fill: #FFFFFF;\n",
              "    }\n",
              "  </style>\n",
              "\n",
              "      <script>\n",
              "        const buttonEl =\n",
              "          document.querySelector('#df-9e844986-800d-4798-9aee-1b978a5f1abf button.colab-df-convert');\n",
              "        buttonEl.style.display =\n",
              "          google.colab.kernel.accessAllowed ? 'block' : 'none';\n",
              "\n",
              "        async function convertToInteractive(key) {\n",
              "          const element = document.querySelector('#df-9e844986-800d-4798-9aee-1b978a5f1abf');\n",
              "          const dataTable =\n",
              "            await google.colab.kernel.invokeFunction('convertToInteractive',\n",
              "                                                     [key], {});\n",
              "          if (!dataTable) return;\n",
              "\n",
              "          const docLinkHtml = 'Like what you see? Visit the ' +\n",
              "            '<a target=\"_blank\" href=https://colab.research.google.com/notebooks/data_table.ipynb>data table notebook</a>'\n",
              "            + ' to learn more about interactive tables.';\n",
              "          element.innerHTML = '';\n",
              "          dataTable['output_type'] = 'display_data';\n",
              "          await google.colab.output.renderOutput(dataTable, element);\n",
              "          const docLink = document.createElement('div');\n",
              "          docLink.innerHTML = docLinkHtml;\n",
              "          element.appendChild(docLink);\n",
              "        }\n",
              "      </script>\n",
              "    </div>\n",
              "  </div>\n",
              "  "
            ]
          },
          "metadata": {},
          "execution_count": 100
        }
      ]
    },
    {
      "cell_type": "markdown",
      "source": [
        "I assume that missing data in the `DAYS_ENTRY_PAYMENT` and `AMT_PAYMENT` columns indicates people who have not yet made their installment payments. Therefore, I will fill the null values with 0."
      ],
      "metadata": {
        "id": "nkUVnZA8THh5"
      }
    },
    {
      "cell_type": "code",
      "source": [
        "# Fill missing values in 'DAYS_ENTRY_PAYMENT' and 'AMT_PAYMENT' columns with 0\n",
        "df_installments_payments['DAYS_ENTRY_PAYMENT'].fillna(0, inplace=True)\n",
        "df_installments_payments['AMT_PAYMENT'].fillna(0, inplace=True)"
      ],
      "metadata": {
        "id": "vA5jrt5rT2NR"
      },
      "execution_count": null,
      "outputs": []
    },
    {
      "cell_type": "markdown",
      "source": [
        "## **Check if there are any missing values for the last time**"
      ],
      "metadata": {
        "id": "ltQVAaZ0CZ1l"
      }
    },
    {
      "cell_type": "code",
      "source": [
        "isna_counts = df_installments_payments.isna().sum()\n",
        "if not isna_counts[isna_counts > 0].any():\n",
        "    print('All clear')\n",
        "else:\n",
        "    print(isna_counts[isna_counts > 0])"
      ],
      "metadata": {
        "id": "z1FXO1OIyc6N",
        "colab": {
          "base_uri": "https://localhost:8080/"
        },
        "outputId": "1e394a3a-0b44-47c5-cba3-86cbb24a4ae9"
      },
      "execution_count": null,
      "outputs": [
        {
          "output_type": "stream",
          "name": "stdout",
          "text": [
            "All clear\n"
          ]
        }
      ]
    },
    {
      "cell_type": "markdown",
      "source": [
        "## **Data type conversion**"
      ],
      "metadata": {
        "id": "hiCxnIbIXBbg"
      }
    },
    {
      "cell_type": "code",
      "source": [
        "df_installments_payments.info()"
      ],
      "metadata": {
        "colab": {
          "base_uri": "https://localhost:8080/"
        },
        "id": "HVVl2D_SWqRD",
        "outputId": "0d8b0fdf-133b-401d-cbc0-e91ec91b533b"
      },
      "execution_count": null,
      "outputs": [
        {
          "output_type": "stream",
          "name": "stdout",
          "text": [
            "<class 'pandas.core.frame.DataFrame'>\n",
            "Int64Index: 13604596 entries, 1478621 to 12567314\n",
            "Data columns (total 8 columns):\n",
            " #   Column                  Dtype  \n",
            "---  ------                  -----  \n",
            " 0   SK_ID_PREV              int64  \n",
            " 1   SK_ID_CURR              int64  \n",
            " 2   NUM_INSTALMENT_VERSION  float64\n",
            " 3   NUM_INSTALMENT_NUMBER   int64  \n",
            " 4   DAYS_INSTALMENT         float64\n",
            " 5   DAYS_ENTRY_PAYMENT      float64\n",
            " 6   AMT_INSTALMENT          float64\n",
            " 7   AMT_PAYMENT             float64\n",
            "dtypes: float64(5), int64(3)\n",
            "memory usage: 934.2 MB\n"
          ]
        }
      ]
    },
    {
      "cell_type": "code",
      "source": [
        "# List of columns to be converted from float to int data type\n",
        "columns_to_convert = ['NUM_INSTALMENT_VERSION', 'DAYS_INSTALMENT', 'DAYS_ENTRY_PAYMENT']\n",
        "\n",
        "# Convert the columns from float to int data type\n",
        "df_installments_payments[columns_to_convert] = df_installments_payments[columns_to_convert].astype(int)\n",
        "df_installments_payments.info()"
      ],
      "metadata": {
        "colab": {
          "base_uri": "https://localhost:8080/"
        },
        "id": "9toH6Y9pXDm-",
        "outputId": "fc03cd83-a3b8-457c-aefe-e08e799d63a3"
      },
      "execution_count": null,
      "outputs": [
        {
          "output_type": "stream",
          "name": "stdout",
          "text": [
            "<class 'pandas.core.frame.DataFrame'>\n",
            "Int64Index: 13604596 entries, 1478621 to 12567314\n",
            "Data columns (total 8 columns):\n",
            " #   Column                  Dtype  \n",
            "---  ------                  -----  \n",
            " 0   SK_ID_PREV              int64  \n",
            " 1   SK_ID_CURR              int64  \n",
            " 2   NUM_INSTALMENT_VERSION  int64  \n",
            " 3   NUM_INSTALMENT_NUMBER   int64  \n",
            " 4   DAYS_INSTALMENT         int64  \n",
            " 5   DAYS_ENTRY_PAYMENT      int64  \n",
            " 6   AMT_INSTALMENT          float64\n",
            " 7   AMT_PAYMENT             float64\n",
            "dtypes: float64(2), int64(6)\n",
            "memory usage: 934.2 MB\n"
          ]
        }
      ]
    },
    {
      "cell_type": "markdown",
      "source": [
        "# Save the newly validated dataset."
      ],
      "metadata": {
        "id": "o3P8X9LsDG5W"
      }
    },
    {
      "cell_type": "code",
      "source": [
        "# Define the main path where the files will be saved\n",
        "main_path = '/content/drive/MyDrive/home-credit-default-risk'\n",
        "\n",
        "# Save every DataFrame to a CSV file without index\n",
        "df_application_train.to_csv(\n",
        "    f'{main_path}/application_train_clean.csv', index=False)\n",
        "df_application_test.to_csv(\n",
        "    f'{main_path}/application_test_clean.csv', index=False)\n",
        "df_bureau.to_csv(\n",
        "    f'{main_path}/bureau_clean.csv', index=False)\n",
        "df_bureau_balance.to_csv(\n",
        "    f'{main_path}/bureau_balance_clean.csv', index=False)\n",
        "df_previous_application.to_csv(\n",
        "    f'{main_path}/previous_application_clean.csv', index=False)\n",
        "df_POS_CASH_balance.to_csv(\n",
        "    f'{main_path}/POS_CASH_balance_clean.csv', index=False)\n",
        "df_credit_card_balance.to_csv(\n",
        "    f'{main_path}/credit_card_balance_clean.csv', index=False)\n",
        "df_installments_payments.to_csv(\n",
        "    f'{main_path}/installments_payments_clean.csv', index=False)"
      ],
      "metadata": {
        "id": "eP3aXlszDh3k"
      },
      "execution_count": null,
      "outputs": []
    }
  ]
}